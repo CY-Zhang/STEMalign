{
 "cells": [
  {
   "cell_type": "code",
   "execution_count": 1,
   "id": "13d457c0",
   "metadata": {},
   "outputs": [
    {
     "name": "stderr",
     "output_type": "stream",
     "text": [
      "2021-10-05 16:21:14.875866: I tensorflow/stream_executor/platform/default/dso_loader.cc:44] Successfully opened dynamic library libcuda.so.1\n",
      "2021-10-05 16:21:15.008170: I tensorflow/core/common_runtime/gpu/gpu_device.cc:1561] Found device 0 with properties: \n",
      "pciBusID: 0000:5b:00.0 name: Quadro RTX 4000 computeCapability: 7.5\n",
      "coreClock: 1.545GHz coreCount: 36 deviceMemorySize: 7.79GiB deviceMemoryBandwidth: 387.49GiB/s\n",
      "2021-10-05 16:21:15.008979: I tensorflow/core/common_runtime/gpu/gpu_device.cc:1561] Found device 1 with properties: \n",
      "pciBusID: 0000:9e:00.0 name: Quadro RTX 4000 computeCapability: 7.5\n",
      "coreClock: 1.545GHz coreCount: 36 deviceMemorySize: 7.79GiB deviceMemoryBandwidth: 387.49GiB/s\n",
      "2021-10-05 16:21:15.009322: I tensorflow/stream_executor/platform/default/dso_loader.cc:44] Successfully opened dynamic library libcudart.so.10.1\n",
      "2021-10-05 16:21:15.012365: I tensorflow/stream_executor/platform/default/dso_loader.cc:44] Successfully opened dynamic library libcublas.so.10\n",
      "2021-10-05 16:21:15.013905: I tensorflow/stream_executor/platform/default/dso_loader.cc:44] Successfully opened dynamic library libcufft.so.10\n",
      "2021-10-05 16:21:15.014200: I tensorflow/stream_executor/platform/default/dso_loader.cc:44] Successfully opened dynamic library libcurand.so.10\n",
      "2021-10-05 16:21:15.016529: I tensorflow/stream_executor/platform/default/dso_loader.cc:44] Successfully opened dynamic library libcusolver.so.10\n",
      "2021-10-05 16:21:15.017807: I tensorflow/stream_executor/platform/default/dso_loader.cc:44] Successfully opened dynamic library libcusparse.so.10\n",
      "2021-10-05 16:21:15.022719: I tensorflow/stream_executor/platform/default/dso_loader.cc:44] Successfully opened dynamic library libcudnn.so.7\n",
      "2021-10-05 16:21:15.024651: I tensorflow/core/common_runtime/gpu/gpu_device.cc:1703] Adding visible gpu devices: 0, 1\n"
     ]
    }
   ],
   "source": [
    "# Import tensorflow for the CNN and limit the memory usage\n",
    "import tensorflow as tf\n",
    "import os\n",
    "\n",
    "gpus = tf.config.experimental.list_physical_devices('GPU')\n",
    "os.environ[\"CUDA_VISIBLE_DEVICES\"]=\"1\" # specify which GPU to use\n",
    "if gpus:\n",
    "  try:\n",
    "    for gpu in gpus:\n",
    "      tf.config.experimental.set_memory_growth(gpu, True)\n",
    "  except RuntimeError as e:\n",
    "    print(e)"
   ]
  },
  {
   "cell_type": "code",
   "execution_count": 2,
   "id": "497db9ff",
   "metadata": {},
   "outputs": [],
   "source": [
    "# Load necessary libraries\n",
    "import torch\n",
    "from botorch.models import SingleTaskGP\n",
    "from botorch.fit import fit_gpytorch_model\n",
    "from gpytorch.mlls import ExactMarginalLogLikelihood\n",
    "from botorch.optim import optimize_acqf\n",
    "from botorch.acquisition import UpperConfidenceBound\n",
    "from botorch.models.transforms.outcome import Standardize\n",
    "\n",
    "import time\n",
    "import numpy as np\n",
    "import matplotlib.pyplot as plt"
   ]
  },
  {
   "cell_type": "code",
   "execution_count": 3,
   "id": "0d73cbd5",
   "metadata": {},
   "outputs": [],
   "source": [
    "# Parameters setup\n",
    "device = \"cpu\"  # for now, set device to CPU as the number of samples are small.\n",
    "dtype = torch.double\n",
    "NOISE_SE = 0.0\n",
    "niter = 50\n",
    "nrep = 1\n",
    "option_standardize = True"
   ]
  },
  {
   "cell_type": "code",
   "execution_count": 4,
   "id": "46f888cb",
   "metadata": {},
   "outputs": [
    {
     "name": "stderr",
     "output_type": "stream",
     "text": [
      "Using TensorFlow backend.\n"
     ]
    }
   ],
   "source": [
    "# Function that loads the saved weights in CNN.\n",
    "\n",
    "# input:\n",
    "# path: hdf5 file that saves the weights of a VGG16 network.\n",
    "\n",
    "# output:\n",
    "# model: Keras model with VGG16 architecture and the loaded weights.\n",
    "from keras import applications\n",
    "from keras.models import Sequential\n",
    "from keras.layers import Dropout, Flatten, Dense\n",
    "\n",
    "def loadCNNmodel(path):\n",
    "    model = applications.VGG16(weights=None, include_top=False, input_shape=(128, 128, 3))\n",
    "    print('Model loaded')\n",
    "    top_model = Sequential()\n",
    "    top_model.add(Flatten(input_shape=model.output_shape[1:]))\n",
    "    top_model.add(Dense(256, activation='relu'))\n",
    "    top_model.add(Dropout(0.0))\n",
    "    top_model.add(Dense(1,activation=None))\n",
    "    new_model = Sequential()\n",
    "\n",
    "    for l in model.layers:\n",
    "        new_model.add(l)\n",
    "\n",
    "    new_model.add(top_model)\n",
    "    new_model.load_weights(path)\n",
    "    print('CNN model loaded with weights.')\n",
    "    return new_model"
   ]
  },
  {
   "cell_type": "code",
   "execution_count": 5,
   "id": "fe8cdb8c",
   "metadata": {},
   "outputs": [
    {
     "name": "stderr",
     "output_type": "stream",
     "text": [
      "2021-10-05 16:21:16.159941: I tensorflow/core/platform/cpu_feature_guard.cc:143] Your CPU supports instructions that this TensorFlow binary was not compiled to use: AVX2 AVX512F FMA\n",
      "2021-10-05 16:21:16.186527: I tensorflow/core/platform/profile_utils/cpu_utils.cc:102] CPU Frequency: 2200000000 Hz\n",
      "2021-10-05 16:21:16.190616: I tensorflow/compiler/xla/service/service.cc:168] XLA service 0x7f02d0000b60 initialized for platform Host (this does not guarantee that XLA will be used). Devices:\n",
      "2021-10-05 16:21:16.190656: I tensorflow/compiler/xla/service/service.cc:176]   StreamExecutor device (0): Host, Default Version\n",
      "2021-10-05 16:21:16.434592: I tensorflow/compiler/xla/service/service.cc:168] XLA service 0x555d54dc8fe0 initialized for platform CUDA (this does not guarantee that XLA will be used). Devices:\n",
      "2021-10-05 16:21:16.434640: I tensorflow/compiler/xla/service/service.cc:176]   StreamExecutor device (0): Quadro RTX 4000, Compute Capability 7.5\n",
      "2021-10-05 16:21:16.434652: I tensorflow/compiler/xla/service/service.cc:176]   StreamExecutor device (1): Quadro RTX 4000, Compute Capability 7.5\n",
      "2021-10-05 16:21:16.437967: I tensorflow/core/common_runtime/gpu/gpu_device.cc:1561] Found device 0 with properties: \n",
      "pciBusID: 0000:5b:00.0 name: Quadro RTX 4000 computeCapability: 7.5\n",
      "coreClock: 1.545GHz coreCount: 36 deviceMemorySize: 7.79GiB deviceMemoryBandwidth: 387.49GiB/s\n",
      "2021-10-05 16:21:16.439007: I tensorflow/core/common_runtime/gpu/gpu_device.cc:1561] Found device 1 with properties: \n",
      "pciBusID: 0000:9e:00.0 name: Quadro RTX 4000 computeCapability: 7.5\n",
      "coreClock: 1.545GHz coreCount: 36 deviceMemorySize: 7.79GiB deviceMemoryBandwidth: 387.49GiB/s\n",
      "2021-10-05 16:21:16.439072: I tensorflow/stream_executor/platform/default/dso_loader.cc:44] Successfully opened dynamic library libcudart.so.10.1\n",
      "2021-10-05 16:21:16.439100: I tensorflow/stream_executor/platform/default/dso_loader.cc:44] Successfully opened dynamic library libcublas.so.10\n",
      "2021-10-05 16:21:16.439124: I tensorflow/stream_executor/platform/default/dso_loader.cc:44] Successfully opened dynamic library libcufft.so.10\n",
      "2021-10-05 16:21:16.439148: I tensorflow/stream_executor/platform/default/dso_loader.cc:44] Successfully opened dynamic library libcurand.so.10\n",
      "2021-10-05 16:21:16.439171: I tensorflow/stream_executor/platform/default/dso_loader.cc:44] Successfully opened dynamic library libcusolver.so.10\n",
      "2021-10-05 16:21:16.439195: I tensorflow/stream_executor/platform/default/dso_loader.cc:44] Successfully opened dynamic library libcusparse.so.10\n",
      "2021-10-05 16:21:16.439219: I tensorflow/stream_executor/platform/default/dso_loader.cc:44] Successfully opened dynamic library libcudnn.so.7\n",
      "2021-10-05 16:21:16.443325: I tensorflow/core/common_runtime/gpu/gpu_device.cc:1703] Adding visible gpu devices: 0, 1\n",
      "2021-10-05 16:21:16.443403: I tensorflow/stream_executor/platform/default/dso_loader.cc:44] Successfully opened dynamic library libcudart.so.10.1\n",
      "2021-10-05 16:21:16.445604: I tensorflow/core/common_runtime/gpu/gpu_device.cc:1102] Device interconnect StreamExecutor with strength 1 edge matrix:\n",
      "2021-10-05 16:21:16.445626: I tensorflow/core/common_runtime/gpu/gpu_device.cc:1108]      0 1 \n",
      "2021-10-05 16:21:16.445638: I tensorflow/core/common_runtime/gpu/gpu_device.cc:1121] 0:   N Y \n",
      "2021-10-05 16:21:16.445648: I tensorflow/core/common_runtime/gpu/gpu_device.cc:1121] 1:   Y N \n",
      "2021-10-05 16:21:16.448880: I tensorflow/core/common_runtime/gpu/gpu_device.cc:1247] Created TensorFlow device (/job:localhost/replica:0/task:0/device:GPU:0 with 7407 MB memory) -> physical GPU (device: 0, name: Quadro RTX 4000, pci bus id: 0000:5b:00.0, compute capability: 7.5)\n",
      "2021-10-05 16:21:16.450881: I tensorflow/core/common_runtime/gpu/gpu_device.cc:1247] Created TensorFlow device (/job:localhost/replica:0/task:0/device:GPU:1 with 6391 MB memory) -> physical GPU (device: 1, name: Quadro RTX 4000, pci bus id: 0000:9e:00.0, compute capability: 7.5)\n"
     ]
    },
    {
     "name": "stdout",
     "output_type": "stream",
     "text": [
      "Model loaded\n",
      "CNN model loaded with weights.\n",
      "Model loaded\n",
      "CNN model loaded with weights.\n"
     ]
    }
   ],
   "source": [
    "# model using the whole FOV\n",
    "model_path = '/home/chenyu/Desktop/CNNmeasurement/CoarseCNNtraining/VGG16/OptimalPar_newData/Test6_Normalize_HighCs_emitxdefocus/Attempt_10_emit+defocus_Adam/Final_model_2.h5'\n",
    "# refine model using 30 mrad aperture\n",
    "model_path_finetune = '/home/chenyu/Desktop/CNNmeasurement/CoarseCNNtraining/VGG16/OptimalPar_newData/Test12_Normalize_Cs_3fold_C5_negC1_WhiteNoise_Aperture/Attempt_01_emit+defocus_dropout_0.1_30mrad/Final_model.h5'\n",
    "\n",
    "model = loadCNNmodel(model_path)\n",
    "model_finetune = loadCNNmodel(model_path_finetune)"
   ]
  },
  {
   "cell_type": "code",
   "execution_count": 6,
   "id": "5274e81e",
   "metadata": {},
   "outputs": [],
   "source": [
    "def scale_range(input, min, max):\n",
    "    input += -(np.min(input))\n",
    "    input /= np.max(input) / (max - min)\n",
    "    input += min\n",
    "    return input"
   ]
  },
  {
   "cell_type": "code",
   "execution_count": 7,
   "id": "1adb0c26",
   "metadata": {},
   "outputs": [],
   "source": [
    "def aperture_generator(px_size, simdim, ap_size):\n",
    "    x = np.linspace(-simdim, simdim, px_size)\n",
    "    y = np.linspace(-simdim, simdim, px_size)\n",
    "    xv, yv = np.meshgrid(x, y)\n",
    "    apt_mask = mask = np.sqrt(xv*xv + yv*yv) < ap_size # aperture mask\n",
    "    return apt_mask"
   ]
  },
  {
   "cell_type": "code",
   "execution_count": 32,
   "id": "05f95c68",
   "metadata": {},
   "outputs": [],
   "source": [
    "# the function to get the output from GPT\n",
    "# input:\n",
    "# x: coordinate in the parameter space to be observed, 1-by-6 numpy array with each number between [0,1].\n",
    "# model: Keras model that saves the CNN model to quantify the beam quality from GPT output.\n",
    "\n",
    "# output:\n",
    "# y: single number from CNN output, higher stands for better beam quality.\n",
    "import sys\n",
    "sys.path.insert(1, '/home/chenyu/Desktop/git/STEMalign/GPT_misalignment/')\n",
    "from uscope import sim\n",
    "\n",
    "def get_GPT_output(x, model, aperture):\n",
    "    x_list = []\n",
    "    x_low = np.asarray([1000, -40, 387000, -685000, -3.7515e6, 119000, 640000])\n",
    "    x_high = np.asarray([2800, 40, 393000, -622500, -3.7495e6, 120300, 651000])\n",
    "    xlim, ylim, shadow = sim(             \n",
    "         S1CV  = (x[6] - 0.5) * 2e-7,\n",
    "         S1CH  = (x[7] - 0.5) * 2e-7,\n",
    "         S2CV  = (x[8] - 0.5) * 2e-7,\n",
    "         S2CH  = (x[9] - 0.5) * 2e-7,\n",
    "         S3CV  = 0.0,\n",
    "         S3CH  = 0.0,\n",
    "         H1CV  = 0.0,\n",
    "         H1CH  = 0.0,\n",
    "         S4CV  = 0.0,\n",
    "         S4CH  = 0.0,\n",
    "         S5CV  = 0.0,\n",
    "         S5CH  = 0.0,\n",
    "         H2CV  = 0.0,\n",
    "         H2CH  = 0.0,\n",
    "         S6CV  = 0.0,\n",
    "         S6CH  = 0.0,\n",
    "         S7CV  = 0.0,\n",
    "         S7CH  = 0.0,\n",
    "         ObjCH = 0.0,\n",
    "         ObjCV = 0.0,\n",
    "         alpha = 1.0e-4*5,\n",
    "         S1 = 2.5e5,\n",
    "         S2 = 2.5e5,\n",
    "         H1 = x[0] * (x_high[0] - x_low[0]) + x_low[0],\n",
    "         H2 = x[0] * (x_high[0] - x_low[0]) + x_low[0] + x[1] * (x_high[1] - x_low[1]) + x_low[1],\n",
    "         S3 = x[4]* (x_high[5] - x_low[5]) + x_low[5],  # 119931.5,\n",
    "         S4 = x[5]* (x_high[6] - x_low[6]) + x_low[6],  # 648691.415,\n",
    "         S6 = x[2]* (x_high[2] - x_low[2]) + x_low[2],  # 390000,\n",
    "         S7 = x[3]* (x_high[3] - x_low[3]) + x_low[3],  # -654100.0\n",
    "         Obj = -3.7505e6,\n",
    "         erL = 1e-7,\n",
    "    )\n",
    "    frame = scale_range(shadow, 0, 1)\n",
    "    if aperture:\n",
    "        frame = frame * aperture_generator(128, 40, 30)\n",
    "    new_channel = np.zeros(frame.shape)\n",
    "    img_stack = np.dstack((frame, new_channel, new_channel))\n",
    "    x_list.append(img_stack)\n",
    "    x_list = np.concatenate([arr[np.newaxis] for arr in x_list])\n",
    "    prediction = model.predict(x_list, batch_size = 1)\n",
    "    # print(prediction)\n",
    "    return shadow, 1 - prediction[0][0]"
   ]
  },
  {
   "cell_type": "code",
   "execution_count": 34,
   "id": "06e47d60",
   "metadata": {},
   "outputs": [
    {
     "name": "stdout",
     "output_type": "stream",
     "text": [
      "0.8216721266508102\n"
     ]
    },
    {
     "data": {
      "text/plain": [
       "<matplotlib.image.AxesImage at 0x7f057133c510>"
      ]
     },
     "execution_count": 34,
     "metadata": {},
     "output_type": "execute_result"
    },
    {
     "data": {
      "image/png": "[encoded data removed]",
      "text/plain": [
       "<Figure size 432x288 with 1 Axes>"
      ]
     },
     "metadata": {
      "needs_background": "light"
     },
     "output_type": "display_data"
    }
   ],
   "source": [
    "# test with arbitrary input x\n",
    "# x = np.array([0,0,0,0,0,0])\n",
    "x = np.array([ 0.2768, 0.5056, 0.5, 0.4944, 0.7165, 0.7901, 1,1,1,1])\n",
    "# x = np.array([0.5449, 0.1241, 0.7564, 0.5801, 0.4578, 0.9086])\n",
    "ronch, output = get_GPT_output(x, model, 0)\n",
    "print(output)\n",
    "plt.imshow(ronch)"
   ]
  },
  {
   "cell_type": "code",
   "execution_count": 35,
   "id": "a3058040",
   "metadata": {},
   "outputs": [],
   "source": [
    "# Function that generate n random data point with noise.\n",
    "\n",
    "# input:\n",
    "# n: number of datapoints to gerate\n",
    "def generate_initial_data(n, model, aperture):\n",
    "    # generate training data\n",
    "    train_x = torch.rand(n, 10, device=device, dtype=dtype)\n",
    "    output_y = [get_GPT_output(np.array(train_x[i,:]), model, aperture)[1] for i in range(n)]\n",
    "    train_y = torch.tensor(output_y).unsqueeze(-1)\n",
    "    train_y = train_y + NOISE_SE * torch.randn_like(train_y) if NOISE_SE else train_y\n",
    "    best_observed_value = train_x.max().item()\n",
    "    return train_x, train_y"
   ]
  },
  {
   "cell_type": "code",
   "execution_count": 36,
   "id": "338a2367",
   "metadata": {},
   "outputs": [
    {
     "name": "stdout",
     "output_type": "stream",
     "text": [
      "tensor([[0.5235, 0.3869, 0.4010, 0.2723, 0.8933, 0.7669, 0.1066, 0.5804, 0.1317,\n",
      "         0.9181]])\n"
     ]
    },
    {
     "name": "stderr",
     "output_type": "stream",
     "text": [
      "/home/chenyu/anaconda3/envs/pytorch/lib/python3.7/site-packages/numpy/core/fromnumeric.py:3420: RuntimeWarning: Mean of empty slice.\n",
      "  out=out, **kwargs)\n",
      "/home/chenyu/anaconda3/envs/pytorch/lib/python3.7/site-packages/numpy/core/_methods.py:188: RuntimeWarning: invalid value encountered in double_scalars\n",
      "  ret = ret.dtype.type(ret / rcount)\n"
     ]
    },
    {
     "name": "stdout",
     "output_type": "stream",
     "text": [
      "0 0.6442286968231201\n",
      "tensor([[0.5730, 0.4071, 0.4256, 0.2733, 0.8003, 0.6328, 0.1573, 0.5646, 0.1285,\n",
      "         0.8407]])\n"
     ]
    },
    {
     "name": "stderr",
     "output_type": "stream",
     "text": [
      "/home/chenyu/anaconda3/envs/pytorch/lib/python3.7/site-packages/numpy/core/fromnumeric.py:3420: RuntimeWarning: Mean of empty slice.\n",
      "  out=out, **kwargs)\n",
      "/home/chenyu/anaconda3/envs/pytorch/lib/python3.7/site-packages/numpy/core/_methods.py:188: RuntimeWarning: invalid value encountered in double_scalars\n",
      "  ret = ret.dtype.type(ret / rcount)\n"
     ]
    },
    {
     "name": "stdout",
     "output_type": "stream",
     "text": [
      "1 0.8653715550899506\n",
      "tensor([[0.5441, 0.4414, 0.4005, 0.2561, 0.7459, 0.6254, 0.1111, 0.5979, 0.1460,\n",
      "         0.9099]])\n"
     ]
    },
    {
     "name": "stderr",
     "output_type": "stream",
     "text": [
      "/home/chenyu/anaconda3/envs/pytorch/lib/python3.7/site-packages/numpy/core/fromnumeric.py:3420: RuntimeWarning: Mean of empty slice.\n",
      "  out=out, **kwargs)\n",
      "/home/chenyu/anaconda3/envs/pytorch/lib/python3.7/site-packages/numpy/core/_methods.py:188: RuntimeWarning: invalid value encountered in double_scalars\n",
      "  ret = ret.dtype.type(ret / rcount)\n"
     ]
    },
    {
     "name": "stdout",
     "output_type": "stream",
     "text": [
      "2 0.8653715550899506\n",
      "tensor([[0.6297, 0.4555, 0.4285, 0.2893, 0.8248, 0.6356, 0.1147, 0.5362, 0.0619,\n",
      "         0.8872]])\n"
     ]
    },
    {
     "name": "stderr",
     "output_type": "stream",
     "text": [
      "/home/chenyu/anaconda3/envs/pytorch/lib/python3.7/site-packages/numpy/core/fromnumeric.py:3420: RuntimeWarning: Mean of empty slice.\n",
      "  out=out, **kwargs)\n",
      "/home/chenyu/anaconda3/envs/pytorch/lib/python3.7/site-packages/numpy/core/_methods.py:188: RuntimeWarning: invalid value encountered in double_scalars\n",
      "  ret = ret.dtype.type(ret / rcount)\n"
     ]
    },
    {
     "name": "stdout",
     "output_type": "stream",
     "text": [
      "3 0.8653715550899506\n",
      "tensor([[0.5770, 0.4697, 0.4355, 0.2666, 0.7824, 0.6464, 0.1959, 0.4750, 0.1573,\n",
      "         0.8818]])\n"
     ]
    },
    {
     "name": "stderr",
     "output_type": "stream",
     "text": [
      "/home/chenyu/anaconda3/envs/pytorch/lib/python3.7/site-packages/numpy/core/fromnumeric.py:3420: RuntimeWarning: Mean of empty slice.\n",
      "  out=out, **kwargs)\n",
      "/home/chenyu/anaconda3/envs/pytorch/lib/python3.7/site-packages/numpy/core/_methods.py:188: RuntimeWarning: invalid value encountered in double_scalars\n",
      "  ret = ret.dtype.type(ret / rcount)\n"
     ]
    },
    {
     "name": "stdout",
     "output_type": "stream",
     "text": [
      "4 0.8657426834106445\n",
      "tensor([[0.6408, 0.4412, 0.5077, 0.2984, 0.7576, 0.6518, 0.1647, 0.5693, 0.1683,\n",
      "         0.8629]])\n"
     ]
    },
    {
     "name": "stderr",
     "output_type": "stream",
     "text": [
      "/home/chenyu/anaconda3/envs/pytorch/lib/python3.7/site-packages/numpy/core/fromnumeric.py:3420: RuntimeWarning: Mean of empty slice.\n",
      "  out=out, **kwargs)\n",
      "/home/chenyu/anaconda3/envs/pytorch/lib/python3.7/site-packages/numpy/core/_methods.py:188: RuntimeWarning: invalid value encountered in double_scalars\n",
      "  ret = ret.dtype.type(ret / rcount)\n"
     ]
    },
    {
     "name": "stdout",
     "output_type": "stream",
     "text": [
      "5 0.8657426834106445\n",
      "tensor([[0.5907, 0.3945, 0.3596, 0.2860, 0.7826, 0.6439, 0.1131, 0.4375, 0.1457,\n",
      "         0.8301]])\n"
     ]
    },
    {
     "name": "stderr",
     "output_type": "stream",
     "text": [
      "/home/chenyu/anaconda3/envs/pytorch/lib/python3.7/site-packages/numpy/core/fromnumeric.py:3420: RuntimeWarning: Mean of empty slice.\n",
      "  out=out, **kwargs)\n",
      "/home/chenyu/anaconda3/envs/pytorch/lib/python3.7/site-packages/numpy/core/_methods.py:188: RuntimeWarning: invalid value encountered in double_scalars\n",
      "  ret = ret.dtype.type(ret / rcount)\n"
     ]
    },
    {
     "name": "stdout",
     "output_type": "stream",
     "text": [
      "6 0.8657426834106445\n",
      "tensor([[0.4835, 0.4420, 0.4649, 0.2737, 0.8136, 0.6397, 0.1948, 0.5041, 0.0485,\n",
      "         0.8783]])\n"
     ]
    },
    {
     "name": "stderr",
     "output_type": "stream",
     "text": [
      "/home/chenyu/anaconda3/envs/pytorch/lib/python3.7/site-packages/numpy/core/fromnumeric.py:3420: RuntimeWarning: Mean of empty slice.\n",
      "  out=out, **kwargs)\n",
      "/home/chenyu/anaconda3/envs/pytorch/lib/python3.7/site-packages/numpy/core/_methods.py:188: RuntimeWarning: invalid value encountered in double_scalars\n",
      "  ret = ret.dtype.type(ret / rcount)\n"
     ]
    },
    {
     "name": "stdout",
     "output_type": "stream",
     "text": [
      "7 0.8657426834106445\n",
      "tensor([[0.5194, 0.4794, 0.4080, 0.2933, 0.8959, 0.6333, 0.2150, 0.5495, 0.1552,\n",
      "         0.8962]])\n"
     ]
    },
    {
     "name": "stderr",
     "output_type": "stream",
     "text": [
      "/home/chenyu/anaconda3/envs/pytorch/lib/python3.7/site-packages/numpy/core/fromnumeric.py:3420: RuntimeWarning: Mean of empty slice.\n",
      "  out=out, **kwargs)\n",
      "/home/chenyu/anaconda3/envs/pytorch/lib/python3.7/site-packages/numpy/core/_methods.py:188: RuntimeWarning: invalid value encountered in double_scalars\n",
      "  ret = ret.dtype.type(ret / rcount)\n"
     ]
    },
    {
     "name": "stdout",
     "output_type": "stream",
     "text": [
      "8 0.8657426834106445\n",
      "tensor([[0.5725, 0.4510, 0.4103, 0.1741, 0.8195, 0.6447, 0.2303, 0.5451, 0.0613,\n",
      "         0.8631]])\n"
     ]
    },
    {
     "name": "stderr",
     "output_type": "stream",
     "text": [
      "/home/chenyu/anaconda3/envs/pytorch/lib/python3.7/site-packages/numpy/core/fromnumeric.py:3420: RuntimeWarning: Mean of empty slice.\n",
      "  out=out, **kwargs)\n",
      "/home/chenyu/anaconda3/envs/pytorch/lib/python3.7/site-packages/numpy/core/_methods.py:188: RuntimeWarning: invalid value encountered in double_scalars\n",
      "  ret = ret.dtype.type(ret / rcount)\n"
     ]
    },
    {
     "name": "stdout",
     "output_type": "stream",
     "text": [
      "9 0.8657426834106445\n",
      "tensor([[0.5289, 0.4862, 0.4051, 0.3309, 0.7735, 0.6485, 0.2065, 0.5504, 0.0753,\n",
      "         0.8419]])\n"
     ]
    },
    {
     "name": "stderr",
     "output_type": "stream",
     "text": [
      "/home/chenyu/anaconda3/envs/pytorch/lib/python3.7/site-packages/numpy/core/fromnumeric.py:3420: RuntimeWarning: Mean of empty slice.\n",
      "  out=out, **kwargs)\n",
      "/home/chenyu/anaconda3/envs/pytorch/lib/python3.7/site-packages/numpy/core/_methods.py:188: RuntimeWarning: invalid value encountered in double_scalars\n",
      "  ret = ret.dtype.type(ret / rcount)\n"
     ]
    },
    {
     "name": "stdout",
     "output_type": "stream",
     "text": [
      "10 0.8657426834106445\n",
      "tensor([[0.5047, 0.4850, 0.4627, 0.2453, 0.8456, 0.6417, 0.1114, 0.5052, 0.1440,\n",
      "         0.8294]])\n"
     ]
    },
    {
     "name": "stderr",
     "output_type": "stream",
     "text": [
      "/home/chenyu/anaconda3/envs/pytorch/lib/python3.7/site-packages/numpy/core/fromnumeric.py:3420: RuntimeWarning: Mean of empty slice.\n",
      "  out=out, **kwargs)\n",
      "/home/chenyu/anaconda3/envs/pytorch/lib/python3.7/site-packages/numpy/core/_methods.py:188: RuntimeWarning: invalid value encountered in double_scalars\n",
      "  ret = ret.dtype.type(ret / rcount)\n"
     ]
    },
    {
     "name": "stdout",
     "output_type": "stream",
     "text": [
      "11 0.8657426834106445\n",
      "tensor([[0.5476, 0.3522, 0.4415, 0.2773, 0.8261, 0.6397, 0.1965, 0.5015, 0.1183,\n",
      "         0.9488]])\n"
     ]
    },
    {
     "name": "stderr",
     "output_type": "stream",
     "text": [
      "/home/chenyu/anaconda3/envs/pytorch/lib/python3.7/site-packages/numpy/core/fromnumeric.py:3420: RuntimeWarning: Mean of empty slice.\n",
      "  out=out, **kwargs)\n",
      "/home/chenyu/anaconda3/envs/pytorch/lib/python3.7/site-packages/numpy/core/_methods.py:188: RuntimeWarning: invalid value encountered in double_scalars\n",
      "  ret = ret.dtype.type(ret / rcount)\n"
     ]
    },
    {
     "name": "stdout",
     "output_type": "stream",
     "text": [
      "12 0.8657426834106445\n",
      "tensor([[0.5270, 0.4358, 0.4026, 0.2622, 0.8163, 0.6425, 0.1792, 0.5292, 0.0982,\n",
      "         0.8724]])\n"
     ]
    },
    {
     "name": "stderr",
     "output_type": "stream",
     "text": [
      "/home/chenyu/anaconda3/envs/pytorch/lib/python3.7/site-packages/numpy/core/fromnumeric.py:3420: RuntimeWarning: Mean of empty slice.\n",
      "  out=out, **kwargs)\n",
      "/home/chenyu/anaconda3/envs/pytorch/lib/python3.7/site-packages/numpy/core/_methods.py:188: RuntimeWarning: invalid value encountered in double_scalars\n",
      "  ret = ret.dtype.type(ret / rcount)\n"
     ]
    },
    {
     "name": "stdout",
     "output_type": "stream",
     "text": [
      "13 0.8657426834106445\n",
      "tensor([[0.5418, 0.4195, 0.4518, 0.3011, 0.8318, 0.6254, 0.2007, 0.4679, 0.1297,\n",
      "         0.8622]])\n"
     ]
    },
    {
     "name": "stderr",
     "output_type": "stream",
     "text": [
      "/home/chenyu/anaconda3/envs/pytorch/lib/python3.7/site-packages/numpy/core/fromnumeric.py:3420: RuntimeWarning: Mean of empty slice.\n",
      "  out=out, **kwargs)\n",
      "/home/chenyu/anaconda3/envs/pytorch/lib/python3.7/site-packages/numpy/core/_methods.py:188: RuntimeWarning: invalid value encountered in double_scalars\n",
      "  ret = ret.dtype.type(ret / rcount)\n"
     ]
    },
    {
     "name": "stdout",
     "output_type": "stream",
     "text": [
      "14 0.8657426834106445\n",
      "tensor([[0.5729, 0.4739, 0.4431, 0.2592, 0.8195, 0.6456, 0.2210, 0.5842, 0.0632,\n",
      "         0.8575]])\n"
     ]
    },
    {
     "name": "stderr",
     "output_type": "stream",
     "text": [
      "/home/chenyu/anaconda3/envs/pytorch/lib/python3.7/site-packages/numpy/core/fromnumeric.py:3420: RuntimeWarning: Mean of empty slice.\n",
      "  out=out, **kwargs)\n",
      "/home/chenyu/anaconda3/envs/pytorch/lib/python3.7/site-packages/numpy/core/_methods.py:188: RuntimeWarning: invalid value encountered in double_scalars\n",
      "  ret = ret.dtype.type(ret / rcount)\n"
     ]
    },
    {
     "name": "stdout",
     "output_type": "stream",
     "text": [
      "15 0.8657426834106445\n",
      "tensor([[0.5099, 0.4590, 0.4356, 0.2646, 0.7869, 0.6516, 0.1576, 0.5270, 0.1082,\n",
      "         0.8962]])\n"
     ]
    },
    {
     "name": "stderr",
     "output_type": "stream",
     "text": [
      "/home/chenyu/anaconda3/envs/pytorch/lib/python3.7/site-packages/numpy/core/fromnumeric.py:3420: RuntimeWarning: Mean of empty slice.\n",
      "  out=out, **kwargs)\n",
      "/home/chenyu/anaconda3/envs/pytorch/lib/python3.7/site-packages/numpy/core/_methods.py:188: RuntimeWarning: invalid value encountered in double_scalars\n",
      "  ret = ret.dtype.type(ret / rcount)\n"
     ]
    },
    {
     "name": "stdout",
     "output_type": "stream",
     "text": [
      "16 0.8657426834106445\n",
      "tensor([[0.5991, 0.4498, 0.3802, 0.2639, 0.8533, 0.6433, 0.1771, 0.5513, 0.1414,\n",
      "         0.8466]])\n"
     ]
    },
    {
     "name": "stderr",
     "output_type": "stream",
     "text": [
      "/home/chenyu/anaconda3/envs/pytorch/lib/python3.7/site-packages/numpy/core/fromnumeric.py:3420: RuntimeWarning: Mean of empty slice.\n",
      "  out=out, **kwargs)\n",
      "/home/chenyu/anaconda3/envs/pytorch/lib/python3.7/site-packages/numpy/core/_methods.py:188: RuntimeWarning: invalid value encountered in double_scalars\n",
      "  ret = ret.dtype.type(ret / rcount)\n"
     ]
    },
    {
     "name": "stdout",
     "output_type": "stream",
     "text": [
      "17 0.8657426834106445\n",
      "tensor([[0.5028, 0.4084, 0.4369, 0.2783, 0.8362, 0.6359, 0.1316, 0.5890, 0.0286,\n",
      "         0.8536]])\n"
     ]
    },
    {
     "name": "stderr",
     "output_type": "stream",
     "text": [
      "/home/chenyu/anaconda3/envs/pytorch/lib/python3.7/site-packages/numpy/core/fromnumeric.py:3420: RuntimeWarning: Mean of empty slice.\n",
      "  out=out, **kwargs)\n",
      "/home/chenyu/anaconda3/envs/pytorch/lib/python3.7/site-packages/numpy/core/_methods.py:188: RuntimeWarning: invalid value encountered in double_scalars\n",
      "  ret = ret.dtype.type(ret / rcount)\n"
     ]
    },
    {
     "name": "stdout",
     "output_type": "stream",
     "text": [
      "18 0.8657426834106445\n",
      "tensor([[0.5442, 0.4292, 0.4393, 0.2568, 0.7560, 0.6364, 0.1508, 0.5199, 0.0280,\n",
      "         0.8569]])\n"
     ]
    },
    {
     "name": "stderr",
     "output_type": "stream",
     "text": [
      "/home/chenyu/anaconda3/envs/pytorch/lib/python3.7/site-packages/numpy/core/fromnumeric.py:3420: RuntimeWarning: Mean of empty slice.\n",
      "  out=out, **kwargs)\n",
      "/home/chenyu/anaconda3/envs/pytorch/lib/python3.7/site-packages/numpy/core/_methods.py:188: RuntimeWarning: invalid value encountered in double_scalars\n",
      "  ret = ret.dtype.type(ret / rcount)\n"
     ]
    },
    {
     "name": "stdout",
     "output_type": "stream",
     "text": [
      "19 0.8657426834106445\n",
      "tensor([[0.4759, 0.4145, 0.4389, 0.2699, 0.8155, 0.6412, 0.1924, 0.5915, 0.1428,\n",
      "         0.8591]])\n"
     ]
    },
    {
     "name": "stderr",
     "output_type": "stream",
     "text": [
      "/home/chenyu/anaconda3/envs/pytorch/lib/python3.7/site-packages/numpy/core/fromnumeric.py:3420: RuntimeWarning: Mean of empty slice.\n",
      "  out=out, **kwargs)\n",
      "/home/chenyu/anaconda3/envs/pytorch/lib/python3.7/site-packages/numpy/core/_methods.py:188: RuntimeWarning: invalid value encountered in double_scalars\n",
      "  ret = ret.dtype.type(ret / rcount)\n"
     ]
    },
    {
     "name": "stdout",
     "output_type": "stream",
     "text": [
      "20 0.8683018982410431\n",
      "tensor([[0.4841, 0.4133, 0.4337, 0.2892, 0.8279, 0.6417, 0.1507, 0.5923, 0.1508,\n",
      "         0.8672]])\n"
     ]
    },
    {
     "name": "stderr",
     "output_type": "stream",
     "text": [
      "/home/chenyu/anaconda3/envs/pytorch/lib/python3.7/site-packages/numpy/core/fromnumeric.py:3420: RuntimeWarning: Mean of empty slice.\n",
      "  out=out, **kwargs)\n",
      "/home/chenyu/anaconda3/envs/pytorch/lib/python3.7/site-packages/numpy/core/_methods.py:188: RuntimeWarning: invalid value encountered in double_scalars\n",
      "  ret = ret.dtype.type(ret / rcount)\n"
     ]
    },
    {
     "name": "stdout",
     "output_type": "stream",
     "text": [
      "21 0.8683018982410431\n",
      "tensor([[0.4605, 0.4067, 0.4299, 0.2585, 0.7949, 0.6433, 0.2217, 0.5620, 0.1591,\n",
      "         0.8578]])\n"
     ]
    },
    {
     "name": "stderr",
     "output_type": "stream",
     "text": [
      "/home/chenyu/anaconda3/envs/pytorch/lib/python3.7/site-packages/numpy/core/fromnumeric.py:3420: RuntimeWarning: Mean of empty slice.\n",
      "  out=out, **kwargs)\n",
      "/home/chenyu/anaconda3/envs/pytorch/lib/python3.7/site-packages/numpy/core/_methods.py:188: RuntimeWarning: invalid value encountered in double_scalars\n",
      "  ret = ret.dtype.type(ret / rcount)\n"
     ]
    },
    {
     "name": "stdout",
     "output_type": "stream",
     "text": [
      "22 0.8737161755561829\n",
      "tensor([[0.4073, 0.3753, 0.4287, 0.2601, 0.7999, 0.6463, 0.2530, 0.5617, 0.1418,\n",
      "         0.8478]])\n"
     ]
    },
    {
     "name": "stderr",
     "output_type": "stream",
     "text": [
      "/home/chenyu/anaconda3/envs/pytorch/lib/python3.7/site-packages/numpy/core/fromnumeric.py:3420: RuntimeWarning: Mean of empty slice.\n",
      "  out=out, **kwargs)\n",
      "/home/chenyu/anaconda3/envs/pytorch/lib/python3.7/site-packages/numpy/core/_methods.py:188: RuntimeWarning: invalid value encountered in double_scalars\n",
      "  ret = ret.dtype.type(ret / rcount)\n"
     ]
    },
    {
     "name": "stdout",
     "output_type": "stream",
     "text": [
      "23 0.8775728270411491\n",
      "tensor([[0.3099, 0.3905, 0.4248, 0.2534, 0.7923, 0.6334, 0.2832, 0.5833, 0.1415,\n",
      "         0.8499]])\n"
     ]
    },
    {
     "name": "stderr",
     "output_type": "stream",
     "text": [
      "/home/chenyu/anaconda3/envs/pytorch/lib/python3.7/site-packages/numpy/core/fromnumeric.py:3420: RuntimeWarning: Mean of empty slice.\n",
      "  out=out, **kwargs)\n",
      "/home/chenyu/anaconda3/envs/pytorch/lib/python3.7/site-packages/numpy/core/_methods.py:188: RuntimeWarning: invalid value encountered in double_scalars\n",
      "  ret = ret.dtype.type(ret / rcount)\n"
     ]
    },
    {
     "name": "stdout",
     "output_type": "stream",
     "text": [
      "24 0.8794433102011681\n",
      "tensor([[0.3037, 0.4243, 0.4239, 0.2448, 0.7618, 0.6423, 0.3390, 0.5248, 0.2211,\n",
      "         0.8545]])\n"
     ]
    },
    {
     "name": "stderr",
     "output_type": "stream",
     "text": [
      "/home/chenyu/anaconda3/envs/pytorch/lib/python3.7/site-packages/numpy/core/fromnumeric.py:3420: RuntimeWarning: Mean of empty slice.\n",
      "  out=out, **kwargs)\n",
      "/home/chenyu/anaconda3/envs/pytorch/lib/python3.7/site-packages/numpy/core/_methods.py:188: RuntimeWarning: invalid value encountered in double_scalars\n",
      "  ret = ret.dtype.type(ret / rcount)\n"
     ]
    },
    {
     "name": "stdout",
     "output_type": "stream",
     "text": [
      "25 0.8971917480230331\n",
      "tensor([[0.2786, 0.4200, 0.4165, 0.2268, 0.7173, 0.6415, 0.4331, 0.5183, 0.3369,\n",
      "         0.8394]])\n"
     ]
    },
    {
     "name": "stderr",
     "output_type": "stream",
     "text": [
      "/home/chenyu/anaconda3/envs/pytorch/lib/python3.7/site-packages/numpy/core/fromnumeric.py:3420: RuntimeWarning: Mean of empty slice.\n",
      "  out=out, **kwargs)\n",
      "/home/chenyu/anaconda3/envs/pytorch/lib/python3.7/site-packages/numpy/core/_methods.py:188: RuntimeWarning: invalid value encountered in double_scalars\n",
      "  ret = ret.dtype.type(ret / rcount)\n"
     ]
    },
    {
     "name": "stdout",
     "output_type": "stream",
     "text": [
      "26 0.8971917480230331\n",
      "tensor([[0.1939, 0.4703, 0.4304, 0.2459, 0.7867, 0.6482, 0.3264, 0.4761, 0.1655,\n",
      "         0.8654]])\n"
     ]
    },
    {
     "name": "stderr",
     "output_type": "stream",
     "text": [
      "/home/chenyu/anaconda3/envs/pytorch/lib/python3.7/site-packages/numpy/core/fromnumeric.py:3420: RuntimeWarning: Mean of empty slice.\n",
      "  out=out, **kwargs)\n",
      "/home/chenyu/anaconda3/envs/pytorch/lib/python3.7/site-packages/numpy/core/_methods.py:188: RuntimeWarning: invalid value encountered in double_scalars\n",
      "  ret = ret.dtype.type(ret / rcount)\n"
     ]
    },
    {
     "name": "stdout",
     "output_type": "stream",
     "text": [
      "27 0.8971917480230331\n",
      "tensor([[0.3820, 0.4482, 0.4562, 0.2433, 0.7580, 0.6258, 0.3606, 0.5633, 0.1928,\n",
      "         0.8533]])\n"
     ]
    },
    {
     "name": "stderr",
     "output_type": "stream",
     "text": [
      "/home/chenyu/anaconda3/envs/pytorch/lib/python3.7/site-packages/numpy/core/fromnumeric.py:3420: RuntimeWarning: Mean of empty slice.\n",
      "  out=out, **kwargs)\n",
      "/home/chenyu/anaconda3/envs/pytorch/lib/python3.7/site-packages/numpy/core/_methods.py:188: RuntimeWarning: invalid value encountered in double_scalars\n",
      "  ret = ret.dtype.type(ret / rcount)\n"
     ]
    },
    {
     "name": "stdout",
     "output_type": "stream",
     "text": [
      "28 0.8971917480230331\n",
      "tensor([[0.3723, 0.4299, 0.3705, 0.2461, 0.7527, 0.6254, 0.3182, 0.5351, 0.2232,\n",
      "         0.8500]])\n"
     ]
    },
    {
     "name": "stderr",
     "output_type": "stream",
     "text": [
      "/home/chenyu/anaconda3/envs/pytorch/lib/python3.7/site-packages/numpy/core/fromnumeric.py:3420: RuntimeWarning: Mean of empty slice.\n",
      "  out=out, **kwargs)\n",
      "/home/chenyu/anaconda3/envs/pytorch/lib/python3.7/site-packages/numpy/core/_methods.py:188: RuntimeWarning: invalid value encountered in double_scalars\n",
      "  ret = ret.dtype.type(ret / rcount)\n"
     ]
    },
    {
     "name": "stdout",
     "output_type": "stream",
     "text": [
      "29 0.8971917480230331\n",
      "tensor([[0.3684, 0.4210, 0.4185, 0.2791, 0.7813, 0.6429, 0.3703, 0.5846, 0.2184,\n",
      "         0.8722]])\n"
     ]
    },
    {
     "name": "stderr",
     "output_type": "stream",
     "text": [
      "/home/chenyu/anaconda3/envs/pytorch/lib/python3.7/site-packages/numpy/core/fromnumeric.py:3420: RuntimeWarning: Mean of empty slice.\n",
      "  out=out, **kwargs)\n",
      "/home/chenyu/anaconda3/envs/pytorch/lib/python3.7/site-packages/numpy/core/_methods.py:188: RuntimeWarning: invalid value encountered in double_scalars\n",
      "  ret = ret.dtype.type(ret / rcount)\n"
     ]
    },
    {
     "name": "stdout",
     "output_type": "stream",
     "text": [
      "30 0.9057170897722244\n",
      "tensor([[0.3683, 0.4260, 0.4210, 0.2717, 0.8145, 0.6449, 0.3778, 0.5758, 0.2160,\n",
      "         0.8160]])\n"
     ]
    },
    {
     "name": "stderr",
     "output_type": "stream",
     "text": [
      "/home/chenyu/anaconda3/envs/pytorch/lib/python3.7/site-packages/numpy/core/fromnumeric.py:3420: RuntimeWarning: Mean of empty slice.\n",
      "  out=out, **kwargs)\n",
      "/home/chenyu/anaconda3/envs/pytorch/lib/python3.7/site-packages/numpy/core/_methods.py:188: RuntimeWarning: invalid value encountered in double_scalars\n",
      "  ret = ret.dtype.type(ret / rcount)\n"
     ]
    },
    {
     "name": "stdout",
     "output_type": "stream",
     "text": [
      "31 0.9057170897722244\n",
      "tensor([[0.3630, 0.4170, 0.4265, 0.2329, 0.7950, 0.6382, 0.3577, 0.5895, 0.2438,\n",
      "         0.9003]])\n"
     ]
    },
    {
     "name": "stderr",
     "output_type": "stream",
     "text": [
      "/home/chenyu/anaconda3/envs/pytorch/lib/python3.7/site-packages/numpy/core/fromnumeric.py:3420: RuntimeWarning: Mean of empty slice.\n",
      "  out=out, **kwargs)\n",
      "/home/chenyu/anaconda3/envs/pytorch/lib/python3.7/site-packages/numpy/core/_methods.py:188: RuntimeWarning: invalid value encountered in double_scalars\n",
      "  ret = ret.dtype.type(ret / rcount)\n"
     ]
    },
    {
     "name": "stdout",
     "output_type": "stream",
     "text": [
      "32 0.9057170897722244\n",
      "tensor([[0.3550, 0.3880, 0.4164, 0.3183, 0.6894, 0.6354, 0.4018, 0.5735, 0.1841,\n",
      "         0.8490]])\n"
     ]
    },
    {
     "name": "stderr",
     "output_type": "stream",
     "text": [
      "/home/chenyu/anaconda3/envs/pytorch/lib/python3.7/site-packages/numpy/core/fromnumeric.py:3420: RuntimeWarning: Mean of empty slice.\n",
      "  out=out, **kwargs)\n",
      "/home/chenyu/anaconda3/envs/pytorch/lib/python3.7/site-packages/numpy/core/_methods.py:188: RuntimeWarning: invalid value encountered in double_scalars\n",
      "  ret = ret.dtype.type(ret / rcount)\n"
     ]
    },
    {
     "name": "stdout",
     "output_type": "stream",
     "text": [
      "33 0.9057170897722244\n",
      "tensor([[0.3708, 0.4808, 0.4095, 0.2852, 0.7735, 0.6324, 0.3160, 0.5847, 0.2440,\n",
      "         0.8442]])\n"
     ]
    },
    {
     "name": "stderr",
     "output_type": "stream",
     "text": [
      "/home/chenyu/anaconda3/envs/pytorch/lib/python3.7/site-packages/numpy/core/fromnumeric.py:3420: RuntimeWarning: Mean of empty slice.\n",
      "  out=out, **kwargs)\n",
      "/home/chenyu/anaconda3/envs/pytorch/lib/python3.7/site-packages/numpy/core/_methods.py:188: RuntimeWarning: invalid value encountered in double_scalars\n",
      "  ret = ret.dtype.type(ret / rcount)\n"
     ]
    },
    {
     "name": "stdout",
     "output_type": "stream",
     "text": [
      "34 0.9057170897722244\n",
      "tensor([[0.3786, 0.4915, 0.3776, 0.2706, 0.7721, 0.6434, 0.3743, 0.5768, 0.1849,\n",
      "         0.8482]])\n"
     ]
    },
    {
     "name": "stderr",
     "output_type": "stream",
     "text": [
      "/home/chenyu/anaconda3/envs/pytorch/lib/python3.7/site-packages/numpy/core/fromnumeric.py:3420: RuntimeWarning: Mean of empty slice.\n",
      "  out=out, **kwargs)\n",
      "/home/chenyu/anaconda3/envs/pytorch/lib/python3.7/site-packages/numpy/core/_methods.py:188: RuntimeWarning: invalid value encountered in double_scalars\n",
      "  ret = ret.dtype.type(ret / rcount)\n"
     ]
    },
    {
     "name": "stdout",
     "output_type": "stream",
     "text": [
      "35 0.9057170897722244\n",
      "tensor([[0.3723, 0.4692, 0.4096, 0.2921, 0.7900, 0.6358, 0.3877, 0.5251, 0.2150,\n",
      "         0.8543]])\n"
     ]
    },
    {
     "name": "stderr",
     "output_type": "stream",
     "text": [
      "/home/chenyu/anaconda3/envs/pytorch/lib/python3.7/site-packages/numpy/core/fromnumeric.py:3420: RuntimeWarning: Mean of empty slice.\n",
      "  out=out, **kwargs)\n",
      "/home/chenyu/anaconda3/envs/pytorch/lib/python3.7/site-packages/numpy/core/_methods.py:188: RuntimeWarning: invalid value encountered in double_scalars\n",
      "  ret = ret.dtype.type(ret / rcount)\n"
     ]
    },
    {
     "name": "stdout",
     "output_type": "stream",
     "text": [
      "36 0.9057170897722244\n",
      "tensor([[0.3688, 0.4835, 0.4435, 0.2781, 0.7668, 0.6518, 0.3439, 0.5550, 0.2300,\n",
      "         0.8486]])\n"
     ]
    },
    {
     "name": "stderr",
     "output_type": "stream",
     "text": [
      "/home/chenyu/anaconda3/envs/pytorch/lib/python3.7/site-packages/numpy/core/fromnumeric.py:3420: RuntimeWarning: Mean of empty slice.\n",
      "  out=out, **kwargs)\n",
      "/home/chenyu/anaconda3/envs/pytorch/lib/python3.7/site-packages/numpy/core/_methods.py:188: RuntimeWarning: invalid value encountered in double_scalars\n",
      "  ret = ret.dtype.type(ret / rcount)\n"
     ]
    },
    {
     "name": "stdout",
     "output_type": "stream",
     "text": [
      "37 0.9057170897722244\n",
      "tensor([[0.3624, 0.4585, 0.3772, 0.2884, 0.7919, 0.6305, 0.3909, 0.6015, 0.1910,\n",
      "         0.8518]])\n"
     ]
    },
    {
     "name": "stderr",
     "output_type": "stream",
     "text": [
      "/home/chenyu/anaconda3/envs/pytorch/lib/python3.7/site-packages/numpy/core/fromnumeric.py:3420: RuntimeWarning: Mean of empty slice.\n",
      "  out=out, **kwargs)\n",
      "/home/chenyu/anaconda3/envs/pytorch/lib/python3.7/site-packages/numpy/core/_methods.py:188: RuntimeWarning: invalid value encountered in double_scalars\n",
      "  ret = ret.dtype.type(ret / rcount)\n"
     ]
    },
    {
     "name": "stdout",
     "output_type": "stream",
     "text": [
      "38 0.9057170897722244\n",
      "tensor([[0.3641, 0.4253, 0.3543, 0.2885, 0.7854, 0.6427, 0.3713, 0.5777, 0.2320,\n",
      "         0.8516]])\n"
     ]
    },
    {
     "name": "stderr",
     "output_type": "stream",
     "text": [
      "/home/chenyu/anaconda3/envs/pytorch/lib/python3.7/site-packages/numpy/core/fromnumeric.py:3420: RuntimeWarning: Mean of empty slice.\n",
      "  out=out, **kwargs)\n",
      "/home/chenyu/anaconda3/envs/pytorch/lib/python3.7/site-packages/numpy/core/_methods.py:188: RuntimeWarning: invalid value encountered in double_scalars\n",
      "  ret = ret.dtype.type(ret / rcount)\n"
     ]
    },
    {
     "name": "stdout",
     "output_type": "stream",
     "text": [
      "39 0.9057170897722244\n",
      "tensor([[0.3541, 0.4599, 0.4278, 0.2839, 0.7862, 0.6348, 0.4009, 0.5925, 0.1779,\n",
      "         0.8511]])\n"
     ]
    },
    {
     "name": "stderr",
     "output_type": "stream",
     "text": [
      "/home/chenyu/anaconda3/envs/pytorch/lib/python3.7/site-packages/numpy/core/fromnumeric.py:3420: RuntimeWarning: Mean of empty slice.\n",
      "  out=out, **kwargs)\n",
      "/home/chenyu/anaconda3/envs/pytorch/lib/python3.7/site-packages/numpy/core/_methods.py:188: RuntimeWarning: invalid value encountered in double_scalars\n",
      "  ret = ret.dtype.type(ret / rcount)\n"
     ]
    },
    {
     "name": "stdout",
     "output_type": "stream",
     "text": [
      "40 0.9057170897722244\n",
      "tensor([[0.3645, 0.4364, 0.3970, 0.2728, 0.7802, 0.6396, 0.3995, 0.5486, 0.1720,\n",
      "         0.8518]])\n"
     ]
    },
    {
     "name": "stderr",
     "output_type": "stream",
     "text": [
      "/home/chenyu/anaconda3/envs/pytorch/lib/python3.7/site-packages/numpy/core/fromnumeric.py:3420: RuntimeWarning: Mean of empty slice.\n",
      "  out=out, **kwargs)\n",
      "/home/chenyu/anaconda3/envs/pytorch/lib/python3.7/site-packages/numpy/core/_methods.py:188: RuntimeWarning: invalid value encountered in double_scalars\n",
      "  ret = ret.dtype.type(ret / rcount)\n"
     ]
    },
    {
     "name": "stdout",
     "output_type": "stream",
     "text": [
      "41 0.9057170897722244\n",
      "tensor([[0.3500, 0.4285, 0.4227, 0.2850, 0.7843, 0.6335, 0.3654, 0.5682, 0.2239,\n",
      "         0.8516]])\n"
     ]
    },
    {
     "name": "stderr",
     "output_type": "stream",
     "text": [
      "/home/chenyu/anaconda3/envs/pytorch/lib/python3.7/site-packages/numpy/core/fromnumeric.py:3420: RuntimeWarning: Mean of empty slice.\n",
      "  out=out, **kwargs)\n",
      "/home/chenyu/anaconda3/envs/pytorch/lib/python3.7/site-packages/numpy/core/_methods.py:188: RuntimeWarning: invalid value encountered in double_scalars\n",
      "  ret = ret.dtype.type(ret / rcount)\n"
     ]
    },
    {
     "name": "stdout",
     "output_type": "stream",
     "text": [
      "42 0.908621720969677\n",
      "tensor([[0.3467, 0.4534, 0.4059, 0.2897, 0.7799, 0.6352, 0.3436, 0.5658, 0.1914,\n",
      "         0.8566]])\n"
     ]
    },
    {
     "name": "stderr",
     "output_type": "stream",
     "text": [
      "/home/chenyu/anaconda3/envs/pytorch/lib/python3.7/site-packages/numpy/core/fromnumeric.py:3420: RuntimeWarning: Mean of empty slice.\n",
      "  out=out, **kwargs)\n",
      "/home/chenyu/anaconda3/envs/pytorch/lib/python3.7/site-packages/numpy/core/_methods.py:188: RuntimeWarning: invalid value encountered in double_scalars\n",
      "  ret = ret.dtype.type(ret / rcount)\n"
     ]
    },
    {
     "name": "stdout",
     "output_type": "stream",
     "text": [
      "43 0.908621720969677\n",
      "tensor([[0.3807, 0.4223, 0.4166, 0.2750, 0.7863, 0.6366, 0.4232, 0.6010, 0.2448,\n",
      "         0.8499]])\n"
     ]
    },
    {
     "name": "stderr",
     "output_type": "stream",
     "text": [
      "/home/chenyu/anaconda3/envs/pytorch/lib/python3.7/site-packages/numpy/core/fromnumeric.py:3420: RuntimeWarning: Mean of empty slice.\n",
      "  out=out, **kwargs)\n",
      "/home/chenyu/anaconda3/envs/pytorch/lib/python3.7/site-packages/numpy/core/_methods.py:188: RuntimeWarning: invalid value encountered in double_scalars\n",
      "  ret = ret.dtype.type(ret / rcount)\n"
     ]
    },
    {
     "name": "stdout",
     "output_type": "stream",
     "text": [
      "44 0.908621720969677\n",
      "tensor([[0.3609, 0.4789, 0.3956, 0.2687, 0.7937, 0.6328, 0.3695, 0.5555, 0.2016,\n",
      "         0.8485]])\n"
     ]
    },
    {
     "name": "stderr",
     "output_type": "stream",
     "text": [
      "/home/chenyu/anaconda3/envs/pytorch/lib/python3.7/site-packages/numpy/core/fromnumeric.py:3420: RuntimeWarning: Mean of empty slice.\n",
      "  out=out, **kwargs)\n",
      "/home/chenyu/anaconda3/envs/pytorch/lib/python3.7/site-packages/numpy/core/_methods.py:188: RuntimeWarning: invalid value encountered in double_scalars\n",
      "  ret = ret.dtype.type(ret / rcount)\n"
     ]
    },
    {
     "name": "stdout",
     "output_type": "stream",
     "text": [
      "45 0.908621720969677\n",
      "tensor([[0.3625, 0.4224, 0.4152, 0.2775, 0.7787, 0.6384, 0.3733, 0.5432, 0.1957,\n",
      "         0.8489]])\n"
     ]
    },
    {
     "name": "stderr",
     "output_type": "stream",
     "text": [
      "/home/chenyu/anaconda3/envs/pytorch/lib/python3.7/site-packages/numpy/core/fromnumeric.py:3420: RuntimeWarning: Mean of empty slice.\n",
      "  out=out, **kwargs)\n",
      "/home/chenyu/anaconda3/envs/pytorch/lib/python3.7/site-packages/numpy/core/_methods.py:188: RuntimeWarning: invalid value encountered in double_scalars\n",
      "  ret = ret.dtype.type(ret / rcount)\n"
     ]
    },
    {
     "name": "stdout",
     "output_type": "stream",
     "text": [
      "46 0.908621720969677\n",
      "tensor([[0.3533, 0.4887, 0.3855, 0.2735, 0.7814, 0.6376, 0.3547, 0.6191, 0.2072,\n",
      "         0.8476]])\n"
     ]
    },
    {
     "name": "stderr",
     "output_type": "stream",
     "text": [
      "/home/chenyu/anaconda3/envs/pytorch/lib/python3.7/site-packages/numpy/core/fromnumeric.py:3420: RuntimeWarning: Mean of empty slice.\n",
      "  out=out, **kwargs)\n",
      "/home/chenyu/anaconda3/envs/pytorch/lib/python3.7/site-packages/numpy/core/_methods.py:188: RuntimeWarning: invalid value encountered in double_scalars\n",
      "  ret = ret.dtype.type(ret / rcount)\n"
     ]
    },
    {
     "name": "stdout",
     "output_type": "stream",
     "text": [
      "47 0.908621720969677\n",
      "tensor([[0.3911, 0.4929, 0.3847, 0.2915, 0.7881, 0.6287, 0.3869, 0.5694, 0.2078,\n",
      "         0.8594]])\n"
     ]
    },
    {
     "name": "stderr",
     "output_type": "stream",
     "text": [
      "/home/chenyu/anaconda3/envs/pytorch/lib/python3.7/site-packages/numpy/core/fromnumeric.py:3420: RuntimeWarning: Mean of empty slice.\n",
      "  out=out, **kwargs)\n",
      "/home/chenyu/anaconda3/envs/pytorch/lib/python3.7/site-packages/numpy/core/_methods.py:188: RuntimeWarning: invalid value encountered in double_scalars\n",
      "  ret = ret.dtype.type(ret / rcount)\n"
     ]
    },
    {
     "name": "stdout",
     "output_type": "stream",
     "text": [
      "48 0.908621720969677\n",
      "tensor([[0.3510, 0.4490, 0.4329, 0.2832, 0.7911, 0.6367, 0.3490, 0.5781, 0.2311,\n",
      "         0.8492]])\n"
     ]
    },
    {
     "name": "stderr",
     "output_type": "stream",
     "text": [
      "/home/chenyu/anaconda3/envs/pytorch/lib/python3.7/site-packages/numpy/core/fromnumeric.py:3420: RuntimeWarning: Mean of empty slice.\n",
      "  out=out, **kwargs)\n",
      "/home/chenyu/anaconda3/envs/pytorch/lib/python3.7/site-packages/numpy/core/_methods.py:188: RuntimeWarning: invalid value encountered in double_scalars\n",
      "  ret = ret.dtype.type(ret / rcount)\n"
     ]
    },
    {
     "name": "stdout",
     "output_type": "stream",
     "text": [
      "49 0.908621720969677\n"
     ]
    }
   ],
   "source": [
    "# initial optimization without applying aperture\n",
    "best_seen_rep = []\n",
    "best_par_rep = []\n",
    "best_ronchigram_rep = []\n",
    "best_seen_ronchigram = np.zeros([128, 128])\n",
    "\n",
    "if option_standardize:\n",
    "    outcome_transformer = Standardize( m = 1,\n",
    "    batch_shape = torch.Size([]),\n",
    "    min_stdv = 1e-08)\n",
    "\n",
    "for irep in range(nrep):\n",
    "    \n",
    "    train_X, train_Y = generate_initial_data(n = 10, model = model, aperture = 0)\n",
    "    \n",
    "    if option_standardize:\n",
    "        gp = SingleTaskGP(train_X, train_Y, outcome_transform = outcome_transformer)\n",
    "    else:\n",
    "        gp = SingleTaskGP(train_X, train_Y)\n",
    "        \n",
    "    mll = ExactMarginalLogLikelihood(gp.likelihood, gp)\n",
    "    fit_gpytorch_model(mll)\n",
    "    bounds = torch.stack([torch.zeros(10, device = device), torch.ones(10, device = device)])\n",
    "    best_observed_value = []\n",
    "    \n",
    "    for iteration in range(niter):\n",
    "\n",
    "        fit_gpytorch_model(mll)\n",
    "\n",
    "        UCB = UpperConfidenceBound(gp, beta = 2)    \n",
    "        candidate, acq_value = optimize_acqf(\n",
    "            UCB, bounds=bounds, q = 1, num_restarts=5, raw_samples=20,\n",
    "        )\n",
    "        new_x = candidate.detach()\n",
    "        print(new_x)\n",
    "        \n",
    "        result = get_GPT_output(np.array(new_x[0]), model, 0)\n",
    "        new_y = torch.tensor(result[1]).unsqueeze(-1).unsqueeze(-1)\n",
    "        new_y = new_y + NOISE_SE * torch.randn_like(new_y)\n",
    "        train_X = torch.cat([train_X, new_x])\n",
    "        train_Y = torch.cat([train_Y, new_y])\n",
    "        if not best_observed_value:\n",
    "            best_par = np.array(new_x[0])\n",
    "            best_value = np.array(new_y[0][0])\n",
    "            best_seen_ronchigram = result[0]\n",
    "        elif result[1] > best_value:\n",
    "            best_par = np.array(new_x[0])\n",
    "            best_value = result[1]\n",
    "            best_seen_ronchigram = result[0]\n",
    "        best_observed_value.append(best_value)\n",
    "\n",
    "        # update GP model using dataset with new datapoint\n",
    "        if option_standardize:\n",
    "            gp = SingleTaskGP(train_X, train_Y, outcome_transform = outcome_transformer)\n",
    "        else:\n",
    "            gp = SingleTaskGP(train_X, train_Y)\n",
    "        mll = ExactMarginalLogLikelihood(gp.likelihood, gp)\n",
    "\n",
    "        print(iteration, best_value)\n",
    "        \n",
    "    best_seen_rep.append(np.array(best_observed_value))\n",
    "    best_par_rep.append(best_par)\n",
    "    best_ronchigram_rep.append(best_seen_ronchigram)\n",
    "    \n",
    "# np.save('Initial_optimization_std_50iter_50reps_value.npy', np.array(best_seen_rep))\n",
    "# np.save('Initial_optimization_std_50iter_50reps_ronchigrams.npy', np.array(best_ronchigram_rep))\n",
    "# np.save('Initial_optimization_std_50iter_50reps_parameters.npy', np.array(best_par_rep))"
   ]
  },
  {
   "cell_type": "code",
   "execution_count": 31,
   "id": "cdb8ad67",
   "metadata": {},
   "outputs": [
    {
     "data": {
      "text/plain": [
       "<matplotlib.image.AxesImage at 0x7f057140ce90>"
      ]
     },
     "execution_count": 31,
     "metadata": {},
     "output_type": "execute_result"
    },
    {
     "data": {
      "image/png": "[encoded data removed]",
      "text/plain": [
       "<Figure size 432x288 with 1 Axes>"
      ]
     },
     "metadata": {
      "needs_background": "light"
     },
     "output_type": "display_data"
    }
   ],
   "source": [
    "plt.imshow(best_seen_ronchigram)"
   ]
  },
  {
   "cell_type": "code",
   "execution_count": null,
   "id": "threatened-notice",
   "metadata": {},
   "outputs": [],
   "source": [
    "best_par_rep = np.load('Initial_optimization_50iter_50reps_parameters.npy')"
   ]
  },
  {
   "cell_type": "code",
   "execution_count": null,
   "id": "metric-juvenile",
   "metadata": {},
   "outputs": [],
   "source": [
    "# Case to start with previous saved results\n",
    "best_ronchigram_rep_refine = np.load('Refine_optimization_std_50iter_50reps_ronchigrams.npy')\n",
    "best_seen_rep_refine = np.load('Refine_optimization_std_50iter_50reps_value.npy')\n",
    "best_par_rep_refine = np.load('Refine_optimization_std_50iter_50reps_parameters.npy')\n",
    "\n",
    "best_par_rep_refine = [best_par_rep_refine[i] for i in range(len(best_par_rep_refine))]\n",
    "best_seen_rep_refine = [best_seen_rep_refine[i] for i in range(len(best_seen_rep_refine))]\n",
    "best_ronchigram_rep_refine = [best_ronchigram_rep_refine[i] for i in range(len(best_ronchigram_rep_refine))]"
   ]
  },
  {
   "cell_type": "code",
   "execution_count": 18,
   "id": "1f1db3a5",
   "metadata": {
    "scrolled": true
   },
   "outputs": [
    {
     "name": "stdout",
     "output_type": "stream",
     "text": [
      "Now working on 0 [0.20140082 0.9061937  0.95404756 0.38620883 0.78677887 0.5233724\n",
      " 0.66716385 0.77530354 0.688933   0.74302626]\n"
     ]
    },
    {
     "name": "stderr",
     "output_type": "stream",
     "text": [
      "/home/chenyu/anaconda3/envs/pytorch/lib/python3.7/site-packages/numpy/core/fromnumeric.py:3420: RuntimeWarning: Mean of empty slice.\n",
      "  out=out, **kwargs)\n",
      "/home/chenyu/anaconda3/envs/pytorch/lib/python3.7/site-packages/numpy/core/_methods.py:188: RuntimeWarning: invalid value encountered in double_scalars\n",
      "  ret = ret.dtype.type(ret / rcount)\n",
      "/home/chenyu/anaconda3/envs/pytorch/lib/python3.7/site-packages/numpy/core/fromnumeric.py:3420: RuntimeWarning: Mean of empty slice.\n",
      "  out=out, **kwargs)\n",
      "/home/chenyu/anaconda3/envs/pytorch/lib/python3.7/site-packages/numpy/core/_methods.py:188: RuntimeWarning: invalid value encountered in double_scalars\n",
      "  ret = ret.dtype.type(ret / rcount)\n",
      "/home/chenyu/anaconda3/envs/pytorch/lib/python3.7/site-packages/numpy/core/fromnumeric.py:3420: RuntimeWarning: Mean of empty slice.\n",
      "  out=out, **kwargs)\n",
      "/home/chenyu/anaconda3/envs/pytorch/lib/python3.7/site-packages/numpy/core/_methods.py:188: RuntimeWarning: invalid value encountered in double_scalars\n",
      "  ret = ret.dtype.type(ret / rcount)\n",
      "/home/chenyu/anaconda3/envs/pytorch/lib/python3.7/site-packages/numpy/core/fromnumeric.py:3420: RuntimeWarning: Mean of empty slice.\n",
      "  out=out, **kwargs)\n",
      "/home/chenyu/anaconda3/envs/pytorch/lib/python3.7/site-packages/numpy/core/_methods.py:188: RuntimeWarning: invalid value encountered in double_scalars\n",
      "  ret = ret.dtype.type(ret / rcount)\n",
      "/home/chenyu/anaconda3/envs/pytorch/lib/python3.7/site-packages/numpy/core/fromnumeric.py:3420: RuntimeWarning: Mean of empty slice.\n",
      "  out=out, **kwargs)\n",
      "/home/chenyu/anaconda3/envs/pytorch/lib/python3.7/site-packages/numpy/core/_methods.py:188: RuntimeWarning: invalid value encountered in double_scalars\n",
      "  ret = ret.dtype.type(ret / rcount)\n",
      "/home/chenyu/anaconda3/envs/pytorch/lib/python3.7/site-packages/numpy/core/fromnumeric.py:3420: RuntimeWarning: Mean of empty slice.\n",
      "  out=out, **kwargs)\n",
      "/home/chenyu/anaconda3/envs/pytorch/lib/python3.7/site-packages/numpy/core/_methods.py:188: RuntimeWarning: invalid value encountered in double_scalars\n",
      "  ret = ret.dtype.type(ret / rcount)\n",
      "/home/chenyu/anaconda3/envs/pytorch/lib/python3.7/site-packages/numpy/core/fromnumeric.py:3420: RuntimeWarning: Mean of empty slice.\n",
      "  out=out, **kwargs)\n",
      "/home/chenyu/anaconda3/envs/pytorch/lib/python3.7/site-packages/numpy/core/_methods.py:188: RuntimeWarning: invalid value encountered in double_scalars\n",
      "  ret = ret.dtype.type(ret / rcount)\n",
      "/home/chenyu/anaconda3/envs/pytorch/lib/python3.7/site-packages/numpy/core/fromnumeric.py:3420: RuntimeWarning: Mean of empty slice.\n",
      "  out=out, **kwargs)\n",
      "/home/chenyu/anaconda3/envs/pytorch/lib/python3.7/site-packages/numpy/core/_methods.py:188: RuntimeWarning: invalid value encountered in double_scalars\n",
      "  ret = ret.dtype.type(ret / rcount)\n",
      "/home/chenyu/anaconda3/envs/pytorch/lib/python3.7/site-packages/numpy/core/fromnumeric.py:3420: RuntimeWarning: Mean of empty slice.\n",
      "  out=out, **kwargs)\n",
      "/home/chenyu/anaconda3/envs/pytorch/lib/python3.7/site-packages/numpy/core/_methods.py:188: RuntimeWarning: invalid value encountered in double_scalars\n",
      "  ret = ret.dtype.type(ret / rcount)\n",
      "/home/chenyu/anaconda3/envs/pytorch/lib/python3.7/site-packages/numpy/core/fromnumeric.py:3420: RuntimeWarning: Mean of empty slice.\n",
      "  out=out, **kwargs)\n",
      "/home/chenyu/anaconda3/envs/pytorch/lib/python3.7/site-packages/numpy/core/_methods.py:188: RuntimeWarning: invalid value encountered in double_scalars\n",
      "  ret = ret.dtype.type(ret / rcount)\n",
      "/home/chenyu/anaconda3/envs/pytorch/lib/python3.7/site-packages/numpy/core/fromnumeric.py:3420: RuntimeWarning: Mean of empty slice.\n",
      "  out=out, **kwargs)\n",
      "/home/chenyu/anaconda3/envs/pytorch/lib/python3.7/site-packages/numpy/core/_methods.py:188: RuntimeWarning: invalid value encountered in double_scalars\n",
      "  ret = ret.dtype.type(ret / rcount)\n",
      "/home/chenyu/anaconda3/envs/pytorch/lib/python3.7/site-packages/numpy/core/fromnumeric.py:3420: RuntimeWarning: Mean of empty slice.\n",
      "  out=out, **kwargs)\n",
      "/home/chenyu/anaconda3/envs/pytorch/lib/python3.7/site-packages/numpy/core/_methods.py:188: RuntimeWarning: invalid value encountered in double_scalars\n",
      "  ret = ret.dtype.type(ret / rcount)\n",
      "/home/chenyu/anaconda3/envs/pytorch/lib/python3.7/site-packages/numpy/core/fromnumeric.py:3420: RuntimeWarning: Mean of empty slice.\n",
      "  out=out, **kwargs)\n",
      "/home/chenyu/anaconda3/envs/pytorch/lib/python3.7/site-packages/numpy/core/_methods.py:188: RuntimeWarning: invalid value encountered in double_scalars\n",
      "  ret = ret.dtype.type(ret / rcount)\n",
      "/home/chenyu/anaconda3/envs/pytorch/lib/python3.7/site-packages/numpy/core/fromnumeric.py:3420: RuntimeWarning: Mean of empty slice.\n",
      "  out=out, **kwargs)\n",
      "/home/chenyu/anaconda3/envs/pytorch/lib/python3.7/site-packages/numpy/core/_methods.py:188: RuntimeWarning: invalid value encountered in double_scalars\n",
      "  ret = ret.dtype.type(ret / rcount)\n",
      "/home/chenyu/anaconda3/envs/pytorch/lib/python3.7/site-packages/numpy/core/fromnumeric.py:3420: RuntimeWarning: Mean of empty slice.\n",
      "  out=out, **kwargs)\n",
      "/home/chenyu/anaconda3/envs/pytorch/lib/python3.7/site-packages/numpy/core/_methods.py:188: RuntimeWarning: invalid value encountered in double_scalars\n",
      "  ret = ret.dtype.type(ret / rcount)\n",
      "/home/chenyu/anaconda3/envs/pytorch/lib/python3.7/site-packages/numpy/core/fromnumeric.py:3420: RuntimeWarning: Mean of empty slice.\n",
      "  out=out, **kwargs)\n",
      "/home/chenyu/anaconda3/envs/pytorch/lib/python3.7/site-packages/numpy/core/_methods.py:188: RuntimeWarning: invalid value encountered in double_scalars\n",
      "  ret = ret.dtype.type(ret / rcount)\n",
      "/home/chenyu/anaconda3/envs/pytorch/lib/python3.7/site-packages/numpy/core/fromnumeric.py:3420: RuntimeWarning: Mean of empty slice.\n",
      "  out=out, **kwargs)\n",
      "/home/chenyu/anaconda3/envs/pytorch/lib/python3.7/site-packages/numpy/core/_methods.py:188: RuntimeWarning: invalid value encountered in double_scalars\n",
      "  ret = ret.dtype.type(ret / rcount)\n",
      "/home/chenyu/anaconda3/envs/pytorch/lib/python3.7/site-packages/numpy/core/fromnumeric.py:3420: RuntimeWarning: Mean of empty slice.\n",
      "  out=out, **kwargs)\n",
      "/home/chenyu/anaconda3/envs/pytorch/lib/python3.7/site-packages/numpy/core/_methods.py:188: RuntimeWarning: invalid value encountered in double_scalars\n",
      "  ret = ret.dtype.type(ret / rcount)\n",
      "/home/chenyu/anaconda3/envs/pytorch/lib/python3.7/site-packages/numpy/core/fromnumeric.py:3420: RuntimeWarning: Mean of empty slice.\n",
      "  out=out, **kwargs)\n",
      "/home/chenyu/anaconda3/envs/pytorch/lib/python3.7/site-packages/numpy/core/_methods.py:188: RuntimeWarning: invalid value encountered in double_scalars\n",
      "  ret = ret.dtype.type(ret / rcount)\n",
      "/home/chenyu/anaconda3/envs/pytorch/lib/python3.7/site-packages/numpy/core/fromnumeric.py:3420: RuntimeWarning: Mean of empty slice.\n",
      "  out=out, **kwargs)\n",
      "/home/chenyu/anaconda3/envs/pytorch/lib/python3.7/site-packages/numpy/core/_methods.py:188: RuntimeWarning: invalid value encountered in double_scalars\n",
      "  ret = ret.dtype.type(ret / rcount)\n",
      "/home/chenyu/anaconda3/envs/pytorch/lib/python3.7/site-packages/numpy/core/fromnumeric.py:3420: RuntimeWarning: Mean of empty slice.\n",
      "  out=out, **kwargs)\n",
      "/home/chenyu/anaconda3/envs/pytorch/lib/python3.7/site-packages/numpy/core/_methods.py:188: RuntimeWarning: invalid value encountered in double_scalars\n",
      "  ret = ret.dtype.type(ret / rcount)\n",
      "/home/chenyu/anaconda3/envs/pytorch/lib/python3.7/site-packages/numpy/core/fromnumeric.py:3420: RuntimeWarning: Mean of empty slice.\n",
      "  out=out, **kwargs)\n",
      "/home/chenyu/anaconda3/envs/pytorch/lib/python3.7/site-packages/numpy/core/_methods.py:188: RuntimeWarning: invalid value encountered in double_scalars\n",
      "  ret = ret.dtype.type(ret / rcount)\n",
      "/home/chenyu/anaconda3/envs/pytorch/lib/python3.7/site-packages/numpy/core/fromnumeric.py:3420: RuntimeWarning: Mean of empty slice.\n",
      "  out=out, **kwargs)\n",
      "/home/chenyu/anaconda3/envs/pytorch/lib/python3.7/site-packages/numpy/core/_methods.py:188: RuntimeWarning: invalid value encountered in double_scalars\n",
      "  ret = ret.dtype.type(ret / rcount)\n",
      "/home/chenyu/anaconda3/envs/pytorch/lib/python3.7/site-packages/numpy/core/fromnumeric.py:3420: RuntimeWarning: Mean of empty slice.\n",
      "  out=out, **kwargs)\n",
      "/home/chenyu/anaconda3/envs/pytorch/lib/python3.7/site-packages/numpy/core/_methods.py:188: RuntimeWarning: invalid value encountered in double_scalars\n",
      "  ret = ret.dtype.type(ret / rcount)\n"
     ]
    },
    {
     "name": "stderr",
     "output_type": "stream",
     "text": [
      "/home/chenyu/anaconda3/envs/pytorch/lib/python3.7/site-packages/numpy/core/fromnumeric.py:3420: RuntimeWarning: Mean of empty slice.\n",
      "  out=out, **kwargs)\n",
      "/home/chenyu/anaconda3/envs/pytorch/lib/python3.7/site-packages/numpy/core/_methods.py:188: RuntimeWarning: invalid value encountered in double_scalars\n",
      "  ret = ret.dtype.type(ret / rcount)\n",
      "/home/chenyu/anaconda3/envs/pytorch/lib/python3.7/site-packages/numpy/core/fromnumeric.py:3420: RuntimeWarning: Mean of empty slice.\n",
      "  out=out, **kwargs)\n",
      "/home/chenyu/anaconda3/envs/pytorch/lib/python3.7/site-packages/numpy/core/_methods.py:188: RuntimeWarning: invalid value encountered in double_scalars\n",
      "  ret = ret.dtype.type(ret / rcount)\n",
      "/home/chenyu/anaconda3/envs/pytorch/lib/python3.7/site-packages/numpy/core/fromnumeric.py:3420: RuntimeWarning: Mean of empty slice.\n",
      "  out=out, **kwargs)\n",
      "/home/chenyu/anaconda3/envs/pytorch/lib/python3.7/site-packages/numpy/core/_methods.py:188: RuntimeWarning: invalid value encountered in double_scalars\n",
      "  ret = ret.dtype.type(ret / rcount)\n",
      "/home/chenyu/anaconda3/envs/pytorch/lib/python3.7/site-packages/numpy/core/fromnumeric.py:3420: RuntimeWarning: Mean of empty slice.\n",
      "  out=out, **kwargs)\n",
      "/home/chenyu/anaconda3/envs/pytorch/lib/python3.7/site-packages/numpy/core/_methods.py:188: RuntimeWarning: invalid value encountered in double_scalars\n",
      "  ret = ret.dtype.type(ret / rcount)\n",
      "/home/chenyu/anaconda3/envs/pytorch/lib/python3.7/site-packages/numpy/core/fromnumeric.py:3420: RuntimeWarning: Mean of empty slice.\n",
      "  out=out, **kwargs)\n",
      "/home/chenyu/anaconda3/envs/pytorch/lib/python3.7/site-packages/numpy/core/_methods.py:188: RuntimeWarning: invalid value encountered in double_scalars\n",
      "  ret = ret.dtype.type(ret / rcount)\n",
      "/home/chenyu/anaconda3/envs/pytorch/lib/python3.7/site-packages/numpy/core/fromnumeric.py:3420: RuntimeWarning: Mean of empty slice.\n",
      "  out=out, **kwargs)\n",
      "/home/chenyu/anaconda3/envs/pytorch/lib/python3.7/site-packages/numpy/core/_methods.py:188: RuntimeWarning: invalid value encountered in double_scalars\n",
      "  ret = ret.dtype.type(ret / rcount)\n",
      "/home/chenyu/anaconda3/envs/pytorch/lib/python3.7/site-packages/numpy/core/fromnumeric.py:3420: RuntimeWarning: Mean of empty slice.\n",
      "  out=out, **kwargs)\n",
      "/home/chenyu/anaconda3/envs/pytorch/lib/python3.7/site-packages/numpy/core/_methods.py:188: RuntimeWarning: invalid value encountered in double_scalars\n",
      "  ret = ret.dtype.type(ret / rcount)\n",
      "/home/chenyu/anaconda3/envs/pytorch/lib/python3.7/site-packages/numpy/core/fromnumeric.py:3420: RuntimeWarning: Mean of empty slice.\n",
      "  out=out, **kwargs)\n",
      "/home/chenyu/anaconda3/envs/pytorch/lib/python3.7/site-packages/numpy/core/_methods.py:188: RuntimeWarning: invalid value encountered in double_scalars\n",
      "  ret = ret.dtype.type(ret / rcount)\n",
      "/home/chenyu/anaconda3/envs/pytorch/lib/python3.7/site-packages/numpy/core/fromnumeric.py:3420: RuntimeWarning: Mean of empty slice.\n",
      "  out=out, **kwargs)\n",
      "/home/chenyu/anaconda3/envs/pytorch/lib/python3.7/site-packages/numpy/core/_methods.py:188: RuntimeWarning: invalid value encountered in double_scalars\n",
      "  ret = ret.dtype.type(ret / rcount)\n",
      "/home/chenyu/anaconda3/envs/pytorch/lib/python3.7/site-packages/numpy/core/fromnumeric.py:3420: RuntimeWarning: Mean of empty slice.\n",
      "  out=out, **kwargs)\n",
      "/home/chenyu/anaconda3/envs/pytorch/lib/python3.7/site-packages/numpy/core/_methods.py:188: RuntimeWarning: invalid value encountered in double_scalars\n",
      "  ret = ret.dtype.type(ret / rcount)\n",
      "/home/chenyu/anaconda3/envs/pytorch/lib/python3.7/site-packages/numpy/core/fromnumeric.py:3420: RuntimeWarning: Mean of empty slice.\n",
      "  out=out, **kwargs)\n",
      "/home/chenyu/anaconda3/envs/pytorch/lib/python3.7/site-packages/numpy/core/_methods.py:188: RuntimeWarning: invalid value encountered in double_scalars\n",
      "  ret = ret.dtype.type(ret / rcount)\n",
      "/home/chenyu/anaconda3/envs/pytorch/lib/python3.7/site-packages/numpy/core/fromnumeric.py:3420: RuntimeWarning: Mean of empty slice.\n",
      "  out=out, **kwargs)\n",
      "/home/chenyu/anaconda3/envs/pytorch/lib/python3.7/site-packages/numpy/core/_methods.py:188: RuntimeWarning: invalid value encountered in double_scalars\n",
      "  ret = ret.dtype.type(ret / rcount)\n",
      "/home/chenyu/anaconda3/envs/pytorch/lib/python3.7/site-packages/numpy/core/fromnumeric.py:3420: RuntimeWarning: Mean of empty slice.\n",
      "  out=out, **kwargs)\n",
      "/home/chenyu/anaconda3/envs/pytorch/lib/python3.7/site-packages/numpy/core/_methods.py:188: RuntimeWarning: invalid value encountered in double_scalars\n",
      "  ret = ret.dtype.type(ret / rcount)\n",
      "/home/chenyu/anaconda3/envs/pytorch/lib/python3.7/site-packages/numpy/core/fromnumeric.py:3420: RuntimeWarning: Mean of empty slice.\n",
      "  out=out, **kwargs)\n",
      "/home/chenyu/anaconda3/envs/pytorch/lib/python3.7/site-packages/numpy/core/_methods.py:188: RuntimeWarning: invalid value encountered in double_scalars\n",
      "  ret = ret.dtype.type(ret / rcount)\n",
      "/home/chenyu/anaconda3/envs/pytorch/lib/python3.7/site-packages/numpy/core/fromnumeric.py:3420: RuntimeWarning: Mean of empty slice.\n",
      "  out=out, **kwargs)\n",
      "/home/chenyu/anaconda3/envs/pytorch/lib/python3.7/site-packages/numpy/core/_methods.py:188: RuntimeWarning: invalid value encountered in double_scalars\n",
      "  ret = ret.dtype.type(ret / rcount)\n",
      "/home/chenyu/anaconda3/envs/pytorch/lib/python3.7/site-packages/numpy/core/fromnumeric.py:3420: RuntimeWarning: Mean of empty slice.\n",
      "  out=out, **kwargs)\n",
      "/home/chenyu/anaconda3/envs/pytorch/lib/python3.7/site-packages/numpy/core/_methods.py:188: RuntimeWarning: invalid value encountered in double_scalars\n",
      "  ret = ret.dtype.type(ret / rcount)\n",
      "/home/chenyu/anaconda3/envs/pytorch/lib/python3.7/site-packages/numpy/core/fromnumeric.py:3420: RuntimeWarning: Mean of empty slice.\n",
      "  out=out, **kwargs)\n",
      "/home/chenyu/anaconda3/envs/pytorch/lib/python3.7/site-packages/numpy/core/_methods.py:188: RuntimeWarning: invalid value encountered in double_scalars\n",
      "  ret = ret.dtype.type(ret / rcount)\n",
      "/home/chenyu/anaconda3/envs/pytorch/lib/python3.7/site-packages/numpy/core/fromnumeric.py:3420: RuntimeWarning: Mean of empty slice.\n",
      "  out=out, **kwargs)\n",
      "/home/chenyu/anaconda3/envs/pytorch/lib/python3.7/site-packages/numpy/core/_methods.py:188: RuntimeWarning: invalid value encountered in double_scalars\n",
      "  ret = ret.dtype.type(ret / rcount)\n",
      "/home/chenyu/anaconda3/envs/pytorch/lib/python3.7/site-packages/numpy/core/fromnumeric.py:3420: RuntimeWarning: Mean of empty slice.\n",
      "  out=out, **kwargs)\n",
      "/home/chenyu/anaconda3/envs/pytorch/lib/python3.7/site-packages/numpy/core/_methods.py:188: RuntimeWarning: invalid value encountered in double_scalars\n",
      "  ret = ret.dtype.type(ret / rcount)\n",
      "/home/chenyu/anaconda3/envs/pytorch/lib/python3.7/site-packages/numpy/core/fromnumeric.py:3420: RuntimeWarning: Mean of empty slice.\n",
      "  out=out, **kwargs)\n",
      "/home/chenyu/anaconda3/envs/pytorch/lib/python3.7/site-packages/numpy/core/_methods.py:188: RuntimeWarning: invalid value encountered in double_scalars\n",
      "  ret = ret.dtype.type(ret / rcount)\n",
      "/home/chenyu/anaconda3/envs/pytorch/lib/python3.7/site-packages/numpy/core/fromnumeric.py:3420: RuntimeWarning: Mean of empty slice.\n",
      "  out=out, **kwargs)\n",
      "/home/chenyu/anaconda3/envs/pytorch/lib/python3.7/site-packages/numpy/core/_methods.py:188: RuntimeWarning: invalid value encountered in double_scalars\n",
      "  ret = ret.dtype.type(ret / rcount)\n",
      "/home/chenyu/anaconda3/envs/pytorch/lib/python3.7/site-packages/numpy/core/fromnumeric.py:3420: RuntimeWarning: Mean of empty slice.\n",
      "  out=out, **kwargs)\n",
      "/home/chenyu/anaconda3/envs/pytorch/lib/python3.7/site-packages/numpy/core/_methods.py:188: RuntimeWarning: invalid value encountered in double_scalars\n",
      "  ret = ret.dtype.type(ret / rcount)\n",
      "/home/chenyu/anaconda3/envs/pytorch/lib/python3.7/site-packages/numpy/core/fromnumeric.py:3420: RuntimeWarning: Mean of empty slice.\n",
      "  out=out, **kwargs)\n",
      "/home/chenyu/anaconda3/envs/pytorch/lib/python3.7/site-packages/numpy/core/_methods.py:188: RuntimeWarning: invalid value encountered in double_scalars\n",
      "  ret = ret.dtype.type(ret / rcount)\n",
      "/home/chenyu/anaconda3/envs/pytorch/lib/python3.7/site-packages/numpy/core/fromnumeric.py:3420: RuntimeWarning: Mean of empty slice.\n",
      "  out=out, **kwargs)\n",
      "/home/chenyu/anaconda3/envs/pytorch/lib/python3.7/site-packages/numpy/core/_methods.py:188: RuntimeWarning: invalid value encountered in double_scalars\n",
      "  ret = ret.dtype.type(ret / rcount)\n"
     ]
    },
    {
     "name": "stderr",
     "output_type": "stream",
     "text": [
      "/home/chenyu/anaconda3/envs/pytorch/lib/python3.7/site-packages/numpy/core/fromnumeric.py:3420: RuntimeWarning: Mean of empty slice.\n",
      "  out=out, **kwargs)\n",
      "/home/chenyu/anaconda3/envs/pytorch/lib/python3.7/site-packages/numpy/core/_methods.py:188: RuntimeWarning: invalid value encountered in double_scalars\n",
      "  ret = ret.dtype.type(ret / rcount)\n",
      "/home/chenyu/anaconda3/envs/pytorch/lib/python3.7/site-packages/numpy/core/fromnumeric.py:3420: RuntimeWarning: Mean of empty slice.\n",
      "  out=out, **kwargs)\n",
      "/home/chenyu/anaconda3/envs/pytorch/lib/python3.7/site-packages/numpy/core/_methods.py:188: RuntimeWarning: invalid value encountered in double_scalars\n",
      "  ret = ret.dtype.type(ret / rcount)\n"
     ]
    },
    {
     "name": "stdout",
     "output_type": "stream",
     "text": [
      "0 0.8755072355270386\n"
     ]
    }
   ],
   "source": [
    "# refine with aperture applied\n",
    "best_par_rep_refine = []\n",
    "best_seen_rep_refine = []\n",
    "best_ronchigram_rep_refine = []\n",
    "\n",
    "for irep in range(len(best_par_rep_refine), len(best_par_rep)):\n",
    "    \n",
    "    print('Now working on '+ str(irep) + ' ' + str(best_par_rep[irep]))\n",
    "    \n",
    "    # randomly generate 9 training data points, plus the one with best seen values\n",
    "    train_X, train_Y = generate_initial_data(n = 9, model = model_finetune, aperture = 30)\n",
    "    \n",
    "    # add in the best seen point from previous optimization\n",
    "    new_x = best_par_rep[irep]\n",
    "    result = get_GPT_output(new_x, model_finetune, 30)\n",
    "    new_x = torch.tensor([new_x])\n",
    "    new_y = torch.tensor(result[1]).unsqueeze(-1).unsqueeze(-1)\n",
    "    new_y = new_y + NOISE_SE * torch.randn_like(new_y) if NOISE_SE else new_y\n",
    "    train_X = torch.cat([train_X, new_x])\n",
    "    train_Y = torch.cat([train_Y, new_y])\n",
    "    \n",
    "    # build GP model from the ten training points\n",
    "    if option_standardize:\n",
    "        gp = SingleTaskGP(train_X, train_Y, outcome_transform = outcome_transformer)\n",
    "    else:\n",
    "        gp = SingleTaskGP(train_X, train_Y)\n",
    "    mll = ExactMarginalLogLikelihood(gp.likelihood, gp)\n",
    "    fit_gpytorch_model(mll)\n",
    "    bounds = torch.stack([torch.zeros(10, device = device), torch.ones(10, device = device)])\n",
    "    best_observed_value = []\n",
    "    \n",
    "    for iteration in range(niter):\n",
    "\n",
    "        fit_gpytorch_model(mll)\n",
    "\n",
    "        UCB = UpperConfidenceBound(gp, beta = 2)    \n",
    "        candidate, acq_value = optimize_acqf(\n",
    "            UCB, bounds=bounds, q = 1, num_restarts=5, raw_samples=20,\n",
    "        )\n",
    "        new_x = candidate.detach()\n",
    "#         print(new_x)\n",
    "        \n",
    "        result = get_GPT_output(np.array(new_x[0]), model_finetune, 30)\n",
    "        new_y = torch.tensor(result[1]).unsqueeze(-1).unsqueeze(-1)\n",
    "        new_y = new_y + NOISE_SE * torch.randn_like(new_y)\n",
    "        train_X = torch.cat([train_X, new_x])\n",
    "        train_Y = torch.cat([train_Y, new_y])\n",
    "        if not best_observed_value:\n",
    "            best_par = np.array(new_x[0])\n",
    "            best_value = np.array(new_y[0][0])\n",
    "            best_seen_ronchigram = result[0]\n",
    "        elif result[1] > best_value:\n",
    "            best_par = np.array(new_x[0])\n",
    "            best_value = result[1]\n",
    "            best_seen_ronchigram = result[0]\n",
    "        best_observed_value.append(best_value)\n",
    "\n",
    "        # update GP model using dataset with new datapoint\n",
    "        if option_standardize:\n",
    "            gp = SingleTaskGP(train_X, train_Y, outcome_transform = outcome_transformer)\n",
    "        else:\n",
    "            gp = SingleTaskGP(train_X, train_Y)\n",
    "        mll = ExactMarginalLogLikelihood(gp.likelihood, gp)\n",
    "\n",
    "    \n",
    "    print(irep, best_value)\n",
    "        \n",
    "    best_seen_rep_refine.append(np.array(best_observed_value))\n",
    "    best_par_rep_refine.append(best_par)\n",
    "    best_ronchigram_rep_refine.append(best_seen_ronchigram)\n",
    "    \n",
    "# np.save('Refine_optimization_std_50iter_50reps_value.npy', np.array(best_seen_rep_refine))\n",
    "# np.save('Refine_optimization_std_50iter_50reps_ronchigrams.npy', np.array(best_ronchigram_rep_refine))\n",
    "# np.save('Refine_optimization_std_50iter_50reps_parameters.npy', np.array(best_par_rep_refine))"
   ]
  },
  {
   "cell_type": "code",
   "execution_count": null,
   "id": "ea88ec8f",
   "metadata": {},
   "outputs": [],
   "source": [
    "plt.imshow(best_seen_ronchigram)\n",
    "print(best_seen_ref_refine[-1])"
   ]
  },
  {
   "cell_type": "code",
   "execution_count": null,
   "id": "967c95b4",
   "metadata": {},
   "outputs": [],
   "source": [
    "temp = np.load('Refine_optimization_50iter_50reps_value.npy', allow_pickle = True)"
   ]
  },
  {
   "cell_type": "code",
   "execution_count": null,
   "id": "subjective-essence",
   "metadata": {},
   "outputs": [],
   "source": [
    "np.save('Refine_optimization_50iter_50reps_value.npy', np.array(best_seen_rep_refine))\n",
    "np.save('Refine_optimization_50iter_50reps_ronchigrams.npy', np.array(best_ronchigram_rep_refine))\n",
    "np.save('Refine_optimization_50iter_50reps_parameters.npy', np.array(best_par_rep_refine))"
   ]
  },
  {
   "cell_type": "code",
   "execution_count": null,
   "id": "trying-sterling",
   "metadata": {},
   "outputs": [],
   "source": [
    "gp.likelihood.noise"
   ]
  },
  {
   "cell_type": "code",
   "execution_count": null,
   "id": "therapeutic-tolerance",
   "metadata": {},
   "outputs": [],
   "source": [
    "best_ronchigram_rep_refine = np.load('Refine_optimization_50iter_50reps_ronchigrams.npy')\n",
    "best_seen_rep_refine = np.load('Refine_optimization_50iter_50reps_value.npy')\n",
    "best_par_rep_refine = np.load('Refine_optimization_50iter_50reps_parameters.npy')"
   ]
  },
  {
   "cell_type": "code",
   "execution_count": null,
   "id": "growing-planet",
   "metadata": {},
   "outputs": [],
   "source": [
    "idx = 4\n",
    "plt.imshow(best_ronchigram_rep_refine[idx])\n",
    "print(best_seen_rep_refine[idx][-1])"
   ]
  },
  {
   "cell_type": "markdown",
   "id": "paperback-return",
   "metadata": {},
   "source": [
    "## Plot results"
   ]
  },
  {
   "cell_type": "code",
   "execution_count": null,
   "id": "visible-criminal",
   "metadata": {},
   "outputs": [],
   "source": [
    "temp = np.load('Refine_optimization_50iter_50reps_value.npy')\n",
    "len(temp)"
   ]
  },
  {
   "cell_type": "code",
   "execution_count": null,
   "id": "convenient-apache",
   "metadata": {},
   "outputs": [],
   "source": [
    "result = np.load(result_path + 'RandomStartx30_50iter_initialrun_emit+defocus_prmean=0_rltBoundary_2-None.npy')\n",
    "result.shape"
   ]
  },
  {
   "cell_type": "code",
   "execution_count": null,
   "id": "a392c376",
   "metadata": {},
   "outputs": [],
   "source": [
    "fig, ax = plt.subplots(1, 2, figsize = [14, 5])\n",
    "result_path = '/home/chenyu/Desktop/Bayesian-optimization-using-Gaussian-Process/'\n",
    "\n",
    "result = np.load('Initial_optimization_50iter_50reps_value.npy')\n",
    "avg = np.mean(result, axis = 0)\n",
    "std = np.std(result, axis = 0)\n",
    "niter = result.shape[1]\n",
    "ax[0].plot(np.linspace(1, 50, 50), 1 - avg, linewidth = 2.5, label = 'Initial Optimization')\n",
    "# ax.fill_between(np.linspace(1,40,40), avg - std, avg + std, alpha = 0.3)\n",
    "for i in range(result.shape[0]):\n",
    "    ax[0].plot(np.linspace(1, 50, 50), 1 - result[i,:niter], c='C0', alpha = 0.3)\n",
    "ax[0].legend(loc='upper left', ncol=1, fontsize = 16)\n",
    "ax[0].set_xlabel('Iterations',fontsize = 16)\n",
    "ax[0].set_ylabel('Normalized Emittance + Defocus', fontsize = 16)\n",
    "ax[0].tick_params(axis='x', labelsize=16)\n",
    "ax[0].tick_params(axis='y', labelsize=16)\n",
    "\n",
    "result = np.load('Refine_optimization_50iter_50reps_value.npy')\n",
    "avg = np.mean(result, axis = 0)\n",
    "std = np.std(result, axis = 0)\n",
    "niter = result.shape[1]\n",
    "ax[1].plot(np.linspace(1, 50, 50), 1 - avg, linewidth = 2.5, c = 'C1', label = 'Refine Optimization')\n",
    "# ax.fill_between(np.linspace(1,40,40), avg - std, avg + std, alpha = 0.3)\n",
    "for i in range(result.shape[0]):\n",
    "    ax[1].plot(np.linspace(1, 50, 50), 1 - result[i,:niter], c='C1', alpha = 0.3)\n",
    "ax[1].legend(loc='upper left', ncol=1, fontsize = 16)\n",
    "ax[1].set_xlabel('Iterations',fontsize = 16)\n",
    "ax[1].set_ylabel('Normalized Emittance + Defocus', fontsize = 16)\n",
    "ax[1].tick_params(axis='x', labelsize=16)\n",
    "ax[1].tick_params(axis='y', labelsize=16)"
   ]
  },
  {
   "cell_type": "code",
   "execution_count": null,
   "id": "loving-methodology",
   "metadata": {},
   "outputs": [],
   "source": [
    "fig, ax = plt.subplots( figsize = [6, 6])\n",
    "result_path = '/home/chenyu/Desktop/Bayesian-optimization-using-Gaussian-Process/'\n",
    "\n",
    "result = np.load('Initial_optimization_50iter_50reps_value.npy')\n",
    "avg = np.mean(result, axis = 0)\n",
    "std = np.std(result, axis = 0)\n",
    "niter = result.shape[1]\n",
    "ax.plot(np.linspace(1, 50, 50), 1 - avg, linewidth = 2.5, label = 'BoTorch')\n",
    "# ax.fill_between(np.linspace(1,40,40), avg - std, avg + std, alpha = 0.3)\n",
    "for i in range(result.shape[0]):\n",
    "    ax.plot(np.linspace(1, 50, 50), 1 - result[i,:niter], c='C0', alpha = 0.3)\n",
    "ax.legend(loc='upper left', ncol=1, fontsize = 16)\n",
    "ax.set_xlabel('Iterations',fontsize = 16)\n",
    "ax.set_ylabel('Normalized Emittance + Defocus', fontsize = 16)\n",
    "ax.tick_params(axis='x', labelsize=16)\n",
    "ax.tick_params(axis='y', labelsize=16)\n",
    "\n",
    "result = np.load(result_path + 'RandomStartx30_50iter_initialrun_emit+defocus_prmean=0_rltBoundary_2-None.npy')\n",
    "result = result[:,:50,0]\n",
    "avg = np.mean(result, axis = 0)\n",
    "std = np.std(result, axis = 0)\n",
    "niter = result.shape[1]\n",
    "ax.plot(np.linspace(1, 50, 50), 1 - avg, linewidth = 2.5, label = 'SLAC GP')\n",
    "# ax.fill_between(np.linspace(1,40,40), avg - std, avg + std, alpha = 0.3)\n",
    "for i in range(result.shape[0]):\n",
    "    ax.plot(np.linspace(1, 50, 50), 1 - result[i,:niter], c='C1', alpha = 0.3)\n",
    "ax.legend(loc='upper left', ncol=1, fontsize = 16)\n",
    "ax.set_xlabel('Iterations',fontsize = 16)\n",
    "ax.set_ylabel('Normalized Emittance + Defocus', fontsize = 16)\n",
    "ax.tick_params(axis='x', labelsize=16)\n",
    "ax.tick_params(axis='y', labelsize=16)\n",
    "\n",
    "result = np.load(result_path + 'Simplex_Y-obs-fullGPT_30rep.npy', allow_pickle = True)\n",
    "result = [np.array(entry)[0:50,0] for entry in result]\n",
    "result = np.array(result)\n",
    "avg = np.mean(result, axis = 0)\n",
    "std = np.std(result, axis = 0)\n",
    "niter = result.shape[1]\n",
    "ax.plot(np.linspace(1, 50, 50), 1 - avg, linewidth = 2.5, c = 'C2', label = 'Simplex')\n",
    "# ax.fill_between(np.linspace(1,40,40), avg - std, avg + std, alpha = 0.3)\n",
    "for i in range(result.shape[0]):\n",
    "    ax.plot(np.linspace(1, 50, 50), 1 - result[i,:niter], c='C2', alpha = 0.3)\n",
    "ax.legend(loc='upper left', ncol=1, fontsize = 16)\n",
    "ax.set_xlabel('Iterations',fontsize = 16)\n",
    "ax.set_ylabel('Normalized Emittance + Defocus', fontsize = 16)\n",
    "ax.tick_params(axis='x', labelsize=16)\n",
    "ax.tick_params(axis='y', labelsize=16)\n",
    "\n",
    "ax.set_yscale('log')"
   ]
  },
  {
   "cell_type": "code",
   "execution_count": null,
   "id": "respective-sitting",
   "metadata": {},
   "outputs": [],
   "source": [
    "result = np.load(result_path + 'Simplex_Y-obs-fullGPT_30rep.npy', allow_pickle = True)\n",
    "result = [np.array(entry)[0:50,0] for entry in result]\n",
    "result = np.array(result)"
   ]
  },
  {
   "cell_type": "code",
   "execution_count": null,
   "id": "pressed-sunday",
   "metadata": {},
   "outputs": [],
   "source": [
    "np.array(result).shape"
   ]
  },
  {
   "cell_type": "code",
   "execution_count": null,
   "id": "destroyed-newark",
   "metadata": {},
   "outputs": [],
   "source": []
  }
 ],
 "metadata": {
  "kernelspec": {
   "display_name": "Python 3 (ipykernel)",
   "language": "python",
   "name": "python3"
  },
  "language_info": {
   "codemirror_mode": {
    "name": "ipython",
    "version": 3
   },
   "file_extension": ".py",
   "mimetype": "text/x-python",
   "name": "python",
   "nbconvert_exporter": "python",
   "pygments_lexer": "ipython3",
   "version": "3.7.11"
  }
 },
 "nbformat": 4,
 "nbformat_minor": 5
}

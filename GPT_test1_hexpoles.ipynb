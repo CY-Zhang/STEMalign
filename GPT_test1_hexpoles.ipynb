{
 "cells": [
  {
   "cell_type": "markdown",
   "metadata": {},
   "source": [
    "# Basic GP optimizer - clean mutinormal example"
   ]
  },
  {
   "cell_type": "markdown",
   "metadata": {},
   "source": [
    "**Note**: In order to use it on a specific machine, you should build machine interface (setX and get_state functions).\n"
   ]
  },
  {
   "cell_type": "code",
   "execution_count": 1,
   "metadata": {},
   "outputs": [
    {
     "name": "stdout",
     "output_type": "stream",
     "text": [
      "failed to import parallelstuff\n"
     ]
    }
   ],
   "source": [
    "from __future__ import absolute_import\n",
    "from __future__ import division\n",
    "from __future__ import print_function\n",
    "import pickle\n",
    "import numpy as np\n",
    "from modules.bayes_optimization import BayesOpt, negUCB, negExpImprove\n",
    "from modules.OnlineGP import OGP\n",
    "import numpy as np\n",
    "import importlib\n",
    "import time\n",
    "import matplotlib.pyplot as plt\n",
    "from IPython.display import clear_output\n",
    "import sys\n",
    "import os\n",
    "sys.path.insert(1, '/home/cz489/STEMalign_BO/GPTrelated')\n",
    "saveResultsQ = False"
   ]
  },
  {
   "cell_type": "markdown",
   "metadata": {},
   "source": [
    "### Creat the machine interface"
   ]
  },
  {
   "cell_type": "code",
   "execution_count": 2,
   "metadata": {},
   "outputs": [],
   "source": [
    "ndim = 2 #input dimension, set to 2 for two hexapoles\n",
    "acquisition_delay = 0  #how long to wait between acquisitions- relevant for expriment, not for simulation\n",
    "\n",
    "dev_ids =  [str(x+1) for x in np.arange(ndim)] #creat device ids (just numbers)\n",
    "start_point = [0.25,0.25]  # use H1 = H2 = 25 as default start, following Cameron's setup\n",
    "#min-max range\n",
    "\n",
    "#creat machine interface\n",
    "mi_module = importlib.import_module('machine_interfaces.machine_interface_GPT')\n",
    "# mi_module = importlib.import_module('multinormal')\n",
    "mi = mi_module.machine_interface(dev_ids = dev_ids, start_point = start_point) #an isotropic n-dimensional gaussian with amplitude=1, centered at the origin, plus gaussian background noise with std dev = 0.1"
   ]
  },
  {
   "cell_type": "code",
   "execution_count": 3,
   "metadata": {},
   "outputs": [
    {
     "data": {
      "text/plain": [
       "array([[0.25, 0.25]])"
      ]
     },
     "execution_count": 3,
     "metadata": {},
     "output_type": "execute_result"
    }
   ],
   "source": [
    "mi.x"
   ]
  },
  {
   "cell_type": "code",
   "execution_count": 4,
   "metadata": {},
   "outputs": [
    {
     "data": {
      "text/plain": [
       "(array([[0.25, 0.25]]), array([[87875.41815968]]))"
      ]
     },
     "execution_count": 4,
     "metadata": {},
     "output_type": "execute_result"
    }
   ],
   "source": [
    "#check the reading objective is working\n",
    "mi.getState()"
   ]
  },
  {
   "cell_type": "code",
   "execution_count": 13,
   "metadata": {
    "collapsed": true
   },
   "outputs": [
    {
     "name": "stdout",
     "output_type": "stream",
     "text": [
      "outscope.txt\n"
     ]
    },
    {
     "ename": "KeyboardInterrupt",
     "evalue": "",
     "output_type": "error",
     "traceback": [
      "\u001b[0;31m---------------------------------------------------------------------------\u001b[0m",
      "\u001b[0;31mKeyboardInterrupt\u001b[0m                         Traceback (most recent call last)",
      "\u001b[0;32m<ipython-input-13-a9efd67832bc>\u001b[0m in \u001b[0;36m<module>\u001b[0;34m\u001b[0m\n\u001b[1;32m      1\u001b[0m \u001b[0;31m#check noise std\u001b[0m\u001b[0;34m\u001b[0m\u001b[0;34m\u001b[0m\u001b[0;34m\u001b[0m\u001b[0m\n\u001b[0;32m----> 2\u001b[0;31m \u001b[0my\u001b[0m \u001b[0;34m=\u001b[0m \u001b[0;34m[\u001b[0m\u001b[0mmi\u001b[0m\u001b[0;34m.\u001b[0m\u001b[0mgetState\u001b[0m\u001b[0;34m(\u001b[0m\u001b[0;34m)\u001b[0m\u001b[0;34m[\u001b[0m\u001b[0;36m1\u001b[0m\u001b[0;34m]\u001b[0m\u001b[0;34m[\u001b[0m\u001b[0;36m0\u001b[0m\u001b[0;34m]\u001b[0m \u001b[0;32mfor\u001b[0m \u001b[0mx\u001b[0m \u001b[0;32min\u001b[0m \u001b[0mrange\u001b[0m\u001b[0;34m(\u001b[0m\u001b[0;36m100\u001b[0m\u001b[0;34m)\u001b[0m\u001b[0;34m]\u001b[0m\u001b[0;34m\u001b[0m\u001b[0;34m\u001b[0m\u001b[0m\n\u001b[0m\u001b[1;32m      3\u001b[0m \u001b[0mnp\u001b[0m\u001b[0;34m.\u001b[0m\u001b[0mstd\u001b[0m\u001b[0;34m(\u001b[0m\u001b[0my\u001b[0m\u001b[0;34m)\u001b[0m\u001b[0;34m\u001b[0m\u001b[0;34m\u001b[0m\u001b[0m\n",
      "\u001b[0;32m<ipython-input-13-a9efd67832bc>\u001b[0m in \u001b[0;36m<listcomp>\u001b[0;34m(.0)\u001b[0m\n\u001b[1;32m      1\u001b[0m \u001b[0;31m#check noise std\u001b[0m\u001b[0;34m\u001b[0m\u001b[0;34m\u001b[0m\u001b[0;34m\u001b[0m\u001b[0m\n\u001b[0;32m----> 2\u001b[0;31m \u001b[0my\u001b[0m \u001b[0;34m=\u001b[0m \u001b[0;34m[\u001b[0m\u001b[0mmi\u001b[0m\u001b[0;34m.\u001b[0m\u001b[0mgetState\u001b[0m\u001b[0;34m(\u001b[0m\u001b[0;34m)\u001b[0m\u001b[0;34m[\u001b[0m\u001b[0;36m1\u001b[0m\u001b[0;34m]\u001b[0m\u001b[0;34m[\u001b[0m\u001b[0;36m0\u001b[0m\u001b[0;34m]\u001b[0m \u001b[0;32mfor\u001b[0m \u001b[0mx\u001b[0m \u001b[0;32min\u001b[0m \u001b[0mrange\u001b[0m\u001b[0;34m(\u001b[0m\u001b[0;36m100\u001b[0m\u001b[0;34m)\u001b[0m\u001b[0;34m]\u001b[0m\u001b[0;34m\u001b[0m\u001b[0;34m\u001b[0m\u001b[0m\n\u001b[0m\u001b[1;32m      3\u001b[0m \u001b[0mnp\u001b[0m\u001b[0;34m.\u001b[0m\u001b[0mstd\u001b[0m\u001b[0;34m(\u001b[0m\u001b[0my\u001b[0m\u001b[0;34m)\u001b[0m\u001b[0;34m\u001b[0m\u001b[0;34m\u001b[0m\u001b[0m\n",
      "\u001b[0;32m~/STEMalign_BO/machine_interfaces/machine_interface_GPT.py\u001b[0m in \u001b[0;36mgetState\u001b[0;34m(self)\u001b[0m\n\u001b[1;32m     33\u001b[0m              \u001b[0mseed\u001b[0m  \u001b[0;34m=\u001b[0m \u001b[0;36m0\u001b[0m\u001b[0;34m,\u001b[0m\u001b[0;34m\u001b[0m\u001b[0;34m\u001b[0m\u001b[0m\n\u001b[1;32m     34\u001b[0m              \u001b[0merL\u001b[0m   \u001b[0;34m=\u001b[0m \u001b[0;36m0.0\u001b[0m\u001b[0;34m,\u001b[0m\u001b[0;34m\u001b[0m\u001b[0;34m\u001b[0m\u001b[0m\n\u001b[0;32m---> 35\u001b[0;31m              \u001b[0merTh\u001b[0m  \u001b[0;34m=\u001b[0m \u001b[0;36m0.0\u001b[0m\u001b[0;34m\u001b[0m\u001b[0;34m\u001b[0m\u001b[0m\n\u001b[0m\u001b[1;32m     36\u001b[0m              )\n\u001b[1;32m     37\u001b[0m         \u001b[0mprint\u001b[0m\u001b[0;34m(\u001b[0m\u001b[0;34m'simulation finished'\u001b[0m\u001b[0;34m)\u001b[0m\u001b[0;34m\u001b[0m\u001b[0;34m\u001b[0m\u001b[0m\n",
      "\u001b[0;32m~/STEMalign_BO/uscope_calc.py\u001b[0m in \u001b[0;36msim\u001b[0;34m(S0, S1, S1CH, S1CV, S2, S2CH, S2CV, H1, S3, S3CH, S3CV, S4, S4CH, S4CV, H2, S5, S5CH, S5CV, S6, S6CH, S6CV, Obj, ObjCH, ObjCV, alpha, seed, erL, erTh)\u001b[0m\n\u001b[1;32m    128\u001b[0m     \u001b[0;32mfor\u001b[0m \u001b[0mxi\u001b[0m\u001b[0;34m,\u001b[0m \u001b[0myi\u001b[0m\u001b[0;34m,\u001b[0m \u001b[0mkxi\u001b[0m\u001b[0;34m,\u001b[0m \u001b[0mkyi\u001b[0m \u001b[0;32min\u001b[0m \u001b[0mzip\u001b[0m\u001b[0;34m(\u001b[0m\u001b[0mx\u001b[0m\u001b[0;34m,\u001b[0m \u001b[0my\u001b[0m\u001b[0;34m,\u001b[0m \u001b[0mkx\u001b[0m\u001b[0;34m,\u001b[0m \u001b[0mky\u001b[0m\u001b[0;34m)\u001b[0m\u001b[0;34m:\u001b[0m\u001b[0;34m\u001b[0m\u001b[0;34m\u001b[0m\u001b[0m\n\u001b[1;32m    129\u001b[0m         \u001b[0mi\u001b[0m \u001b[0;34m=\u001b[0m \u001b[0mint\u001b[0m\u001b[0;34m(\u001b[0m\u001b[0;36m0.5\u001b[0m\u001b[0;34m*\u001b[0m\u001b[0mN\u001b[0m\u001b[0;34m*\u001b[0m\u001b[0;34m(\u001b[0m\u001b[0;34m(\u001b[0m\u001b[0mkyi\u001b[0m\u001b[0;34m-\u001b[0m\u001b[0mmeanky\u001b[0m\u001b[0;34m)\u001b[0m\u001b[0;34m/\u001b[0m\u001b[0;34m(\u001b[0m\u001b[0mmaxsig\u001b[0m\u001b[0;34m*\u001b[0m\u001b[0msigky\u001b[0m\u001b[0;34m)\u001b[0m\u001b[0;34m)\u001b[0m \u001b[0;34m+\u001b[0m \u001b[0;36m0.5\u001b[0m\u001b[0;34m*\u001b[0m\u001b[0mN\u001b[0m\u001b[0;34m)\u001b[0m\u001b[0;34m\u001b[0m\u001b[0;34m\u001b[0m\u001b[0m\n\u001b[0;32m--> 130\u001b[0;31m         \u001b[0mj\u001b[0m \u001b[0;34m=\u001b[0m \u001b[0mint\u001b[0m\u001b[0;34m(\u001b[0m\u001b[0;36m0.5\u001b[0m\u001b[0;34m*\u001b[0m\u001b[0mN\u001b[0m\u001b[0;34m*\u001b[0m\u001b[0;34m(\u001b[0m\u001b[0;34m(\u001b[0m\u001b[0mkxi\u001b[0m\u001b[0;34m-\u001b[0m\u001b[0mmeankx\u001b[0m\u001b[0;34m)\u001b[0m\u001b[0;34m/\u001b[0m\u001b[0;34m(\u001b[0m\u001b[0mmaxsig\u001b[0m\u001b[0;34m*\u001b[0m\u001b[0msigkx\u001b[0m\u001b[0;34m)\u001b[0m\u001b[0;34m)\u001b[0m \u001b[0;34m+\u001b[0m \u001b[0;36m0.5\u001b[0m\u001b[0;34m*\u001b[0m\u001b[0mN\u001b[0m\u001b[0;34m)\u001b[0m\u001b[0;34m\u001b[0m\u001b[0;34m\u001b[0m\u001b[0m\n\u001b[0m\u001b[1;32m    131\u001b[0m         \u001b[0;32mif\u001b[0m \u001b[0mi\u001b[0m \u001b[0;34m<\u001b[0m \u001b[0;36m0\u001b[0m \u001b[0;32mor\u001b[0m \u001b[0mi\u001b[0m \u001b[0;34m>\u001b[0m \u001b[0mN\u001b[0m\u001b[0;34m-\u001b[0m\u001b[0;36m1\u001b[0m \u001b[0;32mor\u001b[0m \u001b[0mj\u001b[0m \u001b[0;34m<\u001b[0m \u001b[0;36m0\u001b[0m \u001b[0;32mor\u001b[0m \u001b[0mj\u001b[0m \u001b[0;34m>\u001b[0m \u001b[0mN\u001b[0m\u001b[0;34m-\u001b[0m\u001b[0;36m1\u001b[0m\u001b[0;34m:\u001b[0m\u001b[0;34m\u001b[0m\u001b[0;34m\u001b[0m\u001b[0m\n\u001b[1;32m    132\u001b[0m             \u001b[0;32mcontinue\u001b[0m\u001b[0;34m\u001b[0m\u001b[0;34m\u001b[0m\u001b[0m\n",
      "\u001b[0;31mKeyboardInterrupt\u001b[0m: "
     ]
    }
   ],
   "source": [
    "#check noise std\n",
    "y = [mi.getState()[1][0] for x in range(100)]\n",
    "np.std(y)"
   ]
  },
  {
   "cell_type": "markdown",
   "metadata": {},
   "source": [
    "### Create the gp"
   ]
  },
  {
   "cell_type": "code",
   "execution_count": 7,
   "metadata": {},
   "outputs": [],
   "source": [
    "gp_ls = np.array(np.ones(ndim))\n",
    "gp_amp = 10 # default = 1\n",
    "gp_noise = 0.01  # default = 0.001\n",
    "\n",
    "gp_precisionmat =  np.array(np.diag(1/(gp_ls**2)))\n",
    "hyps = [gp_precisionmat, np.log(gp_amp), np.log(gp_noise**2)] #format the hyperparams for the OGP\n",
    "\n",
    "gp = OGP(ndim, hyps,prmean=0)"
   ]
  },
  {
   "cell_type": "markdown",
   "metadata": {},
   "source": [
    "### Create the BO"
   ]
  },
  {
   "cell_type": "code",
   "execution_count": 8,
   "metadata": {},
   "outputs": [
    {
     "name": "stdout",
     "output_type": "stream",
     "text": [
      "target_func =  <machine_interfaces.machine_interface_GPT.machine_interface object at 0x7f5d4127d240>\n",
      "********* BO - self.mi = self.target_func wORKED!\n",
      "Supposed to be grabbing initial machine state...\n",
      "/home/cz489/STEMalign_BO/outscope.txt\n",
      "simulation finished\n",
      "x_init [[0.25 0.25]]\n",
      "y_init [[17.68985927]]\n",
      "Using prior mean function of  0\n",
      "Using prior mean parameters of  None\n"
     ]
    }
   ],
   "source": [
    "#create the bayesian optimizer that will use the gp as the model to optimize the machine \n",
    "opt = BayesOpt(gp, mi, acq_func=\"UCB\", start_dev_vals = mi.x, dev_ids = dev_ids)\n",
    "opt.ucb_params = np.array([2, None])"
   ]
  },
  {
   "cell_type": "markdown",
   "metadata": {},
   "source": [
    "**Running BO**\n",
    "\n",
    "*run the gp search for some number of steps*"
   ]
  },
  {
   "cell_type": "code",
   "execution_count": 9,
   "metadata": {},
   "outputs": [],
   "source": [
    "Obj_state_s=[]"
   ]
  },
  {
   "cell_type": "code",
   "execution_count": 10,
   "metadata": {},
   "outputs": [
    {
     "name": "stdout",
     "output_type": "stream",
     "text": [
      "iteration = 19\n",
      "/home/cz489/STEMalign_BO/outscope.txt\n",
      "simulation finished\n",
      "current position: [[0.25 0.25]] current objective value: [17.68985927]\n"
     ]
    },
    {
     "data": {
      "image/png": "[encoded data removed]",
      "text/plain": [
       "<Figure size 1440x216 with 2 Axes>"
      ]
     },
     "metadata": {
      "needs_background": "light"
     },
     "output_type": "display_data"
    },
    {
     "name": "stdout",
     "output_type": "stream",
     "text": [
      "[0.25 0.25]\n",
      "[0.25 0.25]\n",
      "[[0.25 0.25]]\n",
      "/home/cz489/STEMalign_BO/outscope.txt\n",
      "simulation finished\n"
     ]
    },
    {
     "name": "stderr",
     "output_type": "stream",
     "text": [
      "/nfs/user/cz489/venv/lib64/python3.6/site-packages/numpy/core/fromnumeric.py:3373: RuntimeWarning: Mean of empty slice.\n",
      "  out=out, **kwargs)\n",
      "/nfs/user/cz489/venv/lib64/python3.6/site-packages/numpy/core/_methods.py:170: RuntimeWarning: invalid value encountered in double_scalars\n",
      "  ret = ret.dtype.type(ret / rcount)\n"
     ]
    }
   ],
   "source": [
    "Niter = 20\n",
    "for i in range(Niter):\n",
    "    clear_output(wait=True) \n",
    "    print ('iteration =', i)\n",
    "   \n",
    "    Obj_state_s.append(mi.getState()[1][0])\n",
    "    print ('current position:', mi.x, 'current objective value:', Obj_state_s[-0])\n",
    "    \n",
    "    f = plt.figure(figsize=(20,3))\n",
    "    ax = f.add_subplot(121)\n",
    "    ax2 = f.add_subplot(122)\n",
    "    ax.set_ylabel('Input controls',fontsize=12)\n",
    "    ax.set_xlabel('Step',fontsize=12)    \n",
    "    ax.plot(opt.X_obs)\n",
    "    ax2.set_ylabel('Objective',fontsize=12)\n",
    "    ax2.set_xlabel('Step',fontsize=12)\n",
    "    ax2.plot(Obj_state_s)\n",
    "    plt.show(); \n",
    "    \n",
    "    opt.OptIter()"
   ]
  },
  {
   "cell_type": "code",
   "execution_count": 19,
   "metadata": {},
   "outputs": [
    {
     "data": {
      "text/plain": [
       "(array([[17.68510877]]), array([[0.00020504]]))"
      ]
     },
     "execution_count": 19,
     "metadata": {},
     "output_type": "execute_result"
    }
   ],
   "source": [
    "opt.model.predict(np.array([0,0],ndmin=2))"
   ]
  },
  {
   "cell_type": "code",
   "execution_count": 20,
   "metadata": {},
   "outputs": [],
   "source": [
    "#save results if desired\n",
    "from datetime import datetime\n",
    "import time\n",
    "def saveResults(filename):\n",
    "    timestr = datetime.now().strftime('%Y-%m-%d-%H%M%S')\n",
    "    try: os.mkdir('saved_results/multinormal')\n",
    "    except: pass\n",
    "    results = {}\n",
    "    results['start_point'] = start_point\n",
    "    results['hyps'] = [gp_precisionmat,gp_amp, gp_noise]\n",
    "    results['offset'] = offset\n",
    "    results['xs'] = opt.X_obs\n",
    "    results['ys'] = np.array([y[0][0] for y in opt.Y_obs])\n",
    "    results['time'] = timestr\n",
    "    np.save('saved_results/multinormal/scan_'+timestr+'_'+filename, results)\n",
    "    print('saved to:  saved_results/GPT/  scan_'+timestr+'_'+filename)"
   ]
  },
  {
   "cell_type": "code",
   "execution_count": 21,
   "metadata": {},
   "outputs": [
    {
     "ename": "NameError",
     "evalue": "name 'offset' is not defined",
     "output_type": "error",
     "traceback": [
      "\u001b[0;31m---------------------------------------------------------------------------\u001b[0m",
      "\u001b[0;31mNameError\u001b[0m                                 Traceback (most recent call last)",
      "\u001b[0;32m<ipython-input-21-d00e9b5727c3>\u001b[0m in \u001b[0;36m<module>\u001b[0;34m\u001b[0m\n\u001b[0;32m----> 1\u001b[0;31m \u001b[0msaveResults\u001b[0m\u001b[0;34m(\u001b[0m\u001b[0;34m'exmple1'\u001b[0m\u001b[0;34m)\u001b[0m\u001b[0;34m\u001b[0m\u001b[0;34m\u001b[0m\u001b[0m\n\u001b[0m",
      "\u001b[0;32m<ipython-input-20-9510dd6c626f>\u001b[0m in \u001b[0;36msaveResults\u001b[0;34m(filename)\u001b[0m\n\u001b[1;32m      9\u001b[0m     \u001b[0mresults\u001b[0m\u001b[0;34m[\u001b[0m\u001b[0;34m'start_point'\u001b[0m\u001b[0;34m]\u001b[0m \u001b[0;34m=\u001b[0m \u001b[0mstart_point\u001b[0m\u001b[0;34m\u001b[0m\u001b[0;34m\u001b[0m\u001b[0m\n\u001b[1;32m     10\u001b[0m     \u001b[0mresults\u001b[0m\u001b[0;34m[\u001b[0m\u001b[0;34m'hyps'\u001b[0m\u001b[0;34m]\u001b[0m \u001b[0;34m=\u001b[0m \u001b[0;34m[\u001b[0m\u001b[0mgp_precisionmat\u001b[0m\u001b[0;34m,\u001b[0m\u001b[0mgp_amp\u001b[0m\u001b[0;34m,\u001b[0m \u001b[0mgp_noise\u001b[0m\u001b[0;34m]\u001b[0m\u001b[0;34m\u001b[0m\u001b[0;34m\u001b[0m\u001b[0m\n\u001b[0;32m---> 11\u001b[0;31m     \u001b[0mresults\u001b[0m\u001b[0;34m[\u001b[0m\u001b[0;34m'offset'\u001b[0m\u001b[0;34m]\u001b[0m \u001b[0;34m=\u001b[0m \u001b[0moffset\u001b[0m\u001b[0;34m\u001b[0m\u001b[0;34m\u001b[0m\u001b[0m\n\u001b[0m\u001b[1;32m     12\u001b[0m     \u001b[0mresults\u001b[0m\u001b[0;34m[\u001b[0m\u001b[0;34m'xs'\u001b[0m\u001b[0;34m]\u001b[0m \u001b[0;34m=\u001b[0m \u001b[0mopt\u001b[0m\u001b[0;34m.\u001b[0m\u001b[0mX_obs\u001b[0m\u001b[0;34m\u001b[0m\u001b[0;34m\u001b[0m\u001b[0m\n\u001b[1;32m     13\u001b[0m     \u001b[0mresults\u001b[0m\u001b[0;34m[\u001b[0m\u001b[0;34m'ys'\u001b[0m\u001b[0;34m]\u001b[0m \u001b[0;34m=\u001b[0m \u001b[0mnp\u001b[0m\u001b[0;34m.\u001b[0m\u001b[0marray\u001b[0m\u001b[0;34m(\u001b[0m\u001b[0;34m[\u001b[0m\u001b[0my\u001b[0m\u001b[0;34m[\u001b[0m\u001b[0;36m0\u001b[0m\u001b[0;34m]\u001b[0m\u001b[0;34m[\u001b[0m\u001b[0;36m0\u001b[0m\u001b[0;34m]\u001b[0m \u001b[0;32mfor\u001b[0m \u001b[0my\u001b[0m \u001b[0;32min\u001b[0m \u001b[0mopt\u001b[0m\u001b[0;34m.\u001b[0m\u001b[0mY_obs\u001b[0m\u001b[0;34m]\u001b[0m\u001b[0;34m)\u001b[0m\u001b[0;34m\u001b[0m\u001b[0;34m\u001b[0m\u001b[0m\n",
      "\u001b[0;31mNameError\u001b[0m: name 'offset' is not defined"
     ]
    }
   ],
   "source": [
    "saveResults('exmple1')"
   ]
  },
  {
   "cell_type": "markdown",
   "metadata": {},
   "source": [
    "## Scan Test\n",
    "Test a series of different values for the hexapoles to determine the noise and magnitute that should be used for the GP."
   ]
  },
  {
   "cell_type": "code",
   "execution_count": 14,
   "metadata": {
    "collapsed": true
   },
   "outputs": [
    {
     "name": "stdout",
     "output_type": "stream",
     "text": [
      "-100.0 [10057754.24634836]\n",
      "-96.07843137254902 [6784207.5359999]\n",
      "-92.15686274509804 [5563775.94832864]\n",
      "-88.23529411764706 [5020582.76671388]\n",
      "-84.31372549019608 [3711545.47309515]\n",
      "-80.3921568627451 [3082362.49611698]\n",
      "-76.47058823529412 [2608480.66740436]\n",
      "-72.54901960784314 [1888329.76837172]\n",
      "-68.62745098039215 [1345824.75077223]\n",
      "-64.70588235294119 [924225.45368338]\n",
      "-60.7843137254902 [6805745.76715062]\n",
      "-56.86274509803922 [1808363.41294161]\n",
      "-52.94117647058824 [642190.68875458]\n",
      "-49.01960784313726 [129766.2615505]\n",
      "-45.09803921568628 [1383238.23470687]\n",
      "-41.1764705882353 [4431737.51509073]\n",
      "-37.254901960784316 [3941148.98882435]\n",
      "-33.33333333333334 [1083253.67510074]\n",
      "-29.411764705882362 [1357474.59295565]\n",
      "-25.49019607843138 [1780195.10713758]\n",
      "-21.5686274509804 [3125991.61966896]\n",
      "-17.64705882352942 [3682921.95066087]\n",
      "-13.72549019607844 [4468442.67506302]\n",
      "-9.803921568627459 [5343001.63304713]\n",
      "-5.882352941176478 [7430066.77781205]\n",
      "-1.9607843137254974 [7905410.08266719]\n",
      "1.9607843137254832 [9190045.75524984]\n",
      "5.882352941176464 [11387054.68398741]\n",
      "9.803921568627445 [11785654.66422661]\n",
      "13.725490196078425 [14841663.09953685]\n",
      "17.647058823529406 [16315610.59156847]\n",
      "21.568627450980387 [17625839.05646736]\n",
      "25.490196078431367 [21217982.03234713]\n",
      "29.411764705882348 [26052817.52518768]\n",
      "33.333333333333314 [28861318.29163344]\n",
      "37.25490196078431 [31962213.47327583]\n",
      "41.176470588235276 [34337163.55988231]\n",
      "45.09803921568627 [38022233.15814856]\n",
      "49.01960784313724 [36551168.51022956]\n",
      "52.94117647058823 [41985489.40795445]\n",
      "56.8627450980392 [44032504.32278104]\n",
      "60.78431372549019 [46134406.02196708]\n",
      "64.70588235294116 [47718281.09525703]\n",
      "68.62745098039215 [47040318.94274443]\n",
      "72.54901960784312 [50586040.93774216]\n",
      "76.47058823529412 [51467259.77249413]\n",
      "80.39215686274508 [54934541.01667844]\n",
      "84.31372549019608 [60326482.73308332]\n",
      "88.23529411764704 [64121498.42449226]\n",
      "92.15686274509804 [61816630.6332197]\n",
      "96.078431372549 [65640041.74303659]\n",
      "100.0 [70341608.93272808]\n"
     ]
    }
   ],
   "source": [
    "# 1D scan along hex1 = hex2\n",
    "ndim = 2 #input dimension, set to 2 for two hexapoles\n",
    "acquisition_delay = 0  #how long to wait between acquisitions- relevant for expriment, not for simulation\n",
    "dev_ids =  [str(x+1) for x in np.arange(ndim)] #creat device ids (just numbers)\n",
    "hex_list = np.linspace(-100,100,num=52)\n",
    "emit_list = []\n",
    "\n",
    "for i in range(len(hex_list)):\n",
    "    start_point = [50,hex_list[i]] \n",
    "    mi_module = importlib.import_module('machine_interfaces.machine_interface_GPT')\n",
    "    mi = mi_module.machine_interface(dev_ids = dev_ids, start_point = start_point) #an isotropic n-dimensional gaussian with amplitude=1, centered at the origin, plus gaussian background noise with std dev = 0.1\n",
    "    emit_list.append(mi.getState()[1][0])\n",
    "    print(hex_list[i], emit_list[-1])"
   ]
  },
  {
   "cell_type": "code",
   "execution_count": 19,
   "metadata": {},
   "outputs": [
    {
     "data": {
      "image/png": "[encoded data removed]",
      "text/plain": [
       "<Figure size 720x360 with 1 Axes>"
      ]
     },
     "metadata": {
      "needs_background": "light"
     },
     "output_type": "display_data"
    }
   ],
   "source": [
    "hex_list = np.load('hex_list_h2=-100_100_h2=8.npy')\n",
    "emit_list = np.load('emit_list_h2=-100_100_h2=8.npy')\n",
    "\n",
    "fig = plt.figure(figsize = [10,5])\n",
    "plt.scatter(hex_list, np.asarray(emit_list))\n",
    "plt.ylabel('Emittance^2',fontsize = 16)\n",
    "plt.xlabel('H1 current',fontsize  = 16)\n",
    "plt.xticks(fontsize=16)\n",
    "plt.yticks(fontsize=16)\n",
    "plt.savefig('hex_scan_h1=-100_100_h2=8.png')\n",
    "\n",
    "# np.save('emit_list_h2=-100_100_h1=50.npy',np.asarray(emit_list))\n",
    "# np.save('hex_list_h2=-100_100_h1=50.npy',hex_list)"
   ]
  },
  {
   "cell_type": "code",
   "execution_count": null,
   "metadata": {},
   "outputs": [
    {
     "name": "stdout",
     "output_type": "stream",
     "text": [
      "44.0 -100.0 12059988.672165059\n"
     ]
    },
    {
     "data": {
      "image/png": "[encoded data removed]",
      "text/plain": [
       "<Figure size 360x360 with 2 Axes>"
      ]
     },
     "metadata": {
      "needs_background": "light"
     },
     "output_type": "display_data"
    }
   ],
   "source": [
    "# 2D parameter scan for all (hex1, hex2) pairs\n",
    "ndim = 2 #input dimension, set to 2 for two hexapoles\n",
    "acquisition_delay = 0  #how long to wait between acquisitions- relevant for expriment, not for simulation\n",
    "dev_ids =  [str(x+1) for x in np.arange(ndim)] #creat device ids (just numbers)\n",
    "hex_list = np.linspace(-100,100,num=26)\n",
    "emit_matrix = np.zeros([26,26])\n",
    "\n",
    "for i in range(len(hex_list)):\n",
    "    for j in range(len(hex_list)):\n",
    "        imgname = '/home/cz489/STEMalign_BO/SimulationResults/ronchigram_'+ str(i)+'_'+str(j)+'.npy'\n",
    "        txtname = '/home/cz489/STEMalign_BO/SimulationResults/outscope_'+ str(i)+'_'+str(j)+'.txt'\n",
    "        if os.path.exists(txtname):\n",
    "            emit_matrix[i,j] = calcEmittance(txtname)\n",
    "        else:\n",
    "            start_point = [hex_list[i],hex_list[j]]  # use H1 = H2 = 25 as default start, following Cameron's setup\n",
    "            mi_module = importlib.import_module('machine_interfaces.machine_interface_GPT')\n",
    "            mi = mi_module.machine_interface(dev_ids = dev_ids, start_point = start_point) #an isotropic n-dimensional gaussian with amplitude=1, centered at the origin, plus gaussian background noise with std dev = 0.1\n",
    "            emit_matrix[i,j] = mi.getState()[1][0]\n",
    "            \n",
    "            os.rename(\"/home/cz489/STEMalign_BO/outscope.txt\", txtname)\n",
    "            os.rename(\"/home/cz489/STEMalign_BO/ronchigram.npy\", imgname)\n",
    "        \n",
    "        clear_output(wait=True)\n",
    "        print(hex_list[i], hex_list[j], emit_matrix[i,j])\n",
    "        fig = plt.figure(figsize = [5,5])\n",
    "        plt.imshow(emit_matrix)\n",
    "        plt.colorbar()\n",
    "        plt.show()\n",
    "\n",
    "\n",
    "            "
   ]
  },
  {
   "cell_type": "code",
   "execution_count": 3,
   "metadata": {},
   "outputs": [
    {
     "name": "stdout",
     "output_type": "stream",
     "text": [
      "(array([[ 36, -44]]), array([[3297512.23044574]]))\n"
     ]
    },
    {
     "name": "stderr",
     "output_type": "stream",
     "text": [
      "/nfs/user/cz489/venv/lib64/python3.6/site-packages/numpy/core/fromnumeric.py:3373: RuntimeWarning: Mean of empty slice.\n",
      "  out=out, **kwargs)\n",
      "/nfs/user/cz489/venv/lib64/python3.6/site-packages/numpy/core/_methods.py:170: RuntimeWarning: invalid value encountered in double_scalars\n",
      "  ret = ret.dtype.type(ret / rcount)\n"
     ]
    }
   ],
   "source": [
    "start_point = [36,-44]  # use H1 = H2 = 25 as default start, following Cameron's setup\n",
    "mi_module = importlib.import_module('machine_interfaces.machine_interface_GPT')\n",
    "mi = mi_module.machine_interface(dev_ids = dev_ids, start_point = start_point) #an isotropic n-dimensional gaussian with amplitude=1, centered at the origin, plus gaussian background noise with std dev = 0.1\n",
    "print(mi.getState())"
   ]
  },
  {
   "cell_type": "code",
   "execution_count": 6,
   "metadata": {},
   "outputs": [],
   "source": [
    "def calcEmittance(ASCIIFILE):\n",
    "    screen =  np.loadtxt(ASCIIFILE, skiprows=5)\n",
    "    N = 24\n",
    "    maxsig = 1\n",
    "    MConHBAR  =  2.59e12\n",
    "    x_grid, y_grid = np.meshgrid(np.linspace(-N/2, N/2, N),\n",
    "                             np.linspace(-N/2, N/2, N))\n",
    "    temp = x_grid * x_grid + y_grid * y_grid\n",
    "    mask =temp < N*N/4\n",
    "\n",
    "    x  = screen[:,0]\n",
    "    y  = screen[:,1]\n",
    "    kx = MConHBAR*screen[:,4]*screen[:,7]\n",
    "    ky = MConHBAR*screen[:,5]*screen[:,7]\n",
    "\n",
    "    meanx = np.mean(x)\n",
    "    sigx  = np.std(x)\n",
    "\n",
    "    meany = np.mean(y)\n",
    "    sigy  = np.std(y)\n",
    "\n",
    "    kx_bins = [[[] for n in range(0,N)] for m in range(0,N)]\n",
    "    ky_bins = [[[] for n in range(0,N)] for m in range(0,N)]\n",
    "\n",
    "    kx_grid = np.zeros([N, N])\n",
    "    ky_grid = np.zeros([N, N])\n",
    "\n",
    "    x_grid, y_grid = np.meshgrid(sigx*np.linspace(-maxsig, maxsig, N),\n",
    "                                 sigy*np.linspace(-maxsig, maxsig, N))\n",
    "\n",
    "    for xi, yi, kxi, kyi in zip(x, y, kx, ky):\n",
    "        i = int(0.5*N*((yi-meany)/(maxsig*sigy)) + 0.5*N)\n",
    "        j = int(0.5*N*((xi-meanx)/(maxsig*sigx)) + 0.5*N)\n",
    "        if i < 0 or i > N-1 or j < 0 or j > N-1:\n",
    "            continue\n",
    "        kx_bins[i][j].append(kxi)\n",
    "        ky_bins[i][j].append(kyi)\n",
    "\n",
    "    for i in range(0, N):\n",
    "        for j in range(0, N):\n",
    "            kx_grid[i,j] = np.mean(kx_bins[i][j])\n",
    "            ky_grid[i,j] = np.mean(ky_bins[i][j])\n",
    "\n",
    "    a, b = np.polyfit(x_grid[12,:], kx_grid[12,:], 1)\n",
    "    kx_grid = kx_grid - a * x_grid\n",
    "    ky_grid = ky_grid - a * y_grid\n",
    "    emit_1 = np.power(kx_grid, 2) + np.power(ky_grid, 2)  # first term, absolute value of gradient of aberration function\n",
    "    emit_2 = np.power(x_grid, 2) + np.power(y_grid, 2)\n",
    "    emit_3 = kx_grid * x_grid + ky_grid * y_grid  # third term, cross term between x/y and gradient along x/y\n",
    "    emit = emit_1 * emit_2 - emit_3\n",
    "    emit[np.isnan(emit)] = 0\n",
    "    objective_state = np.sum(emit * mask)\n",
    "    return objective_state"
   ]
  },
  {
   "cell_type": "code",
   "execution_count": null,
   "metadata": {},
   "outputs": [],
   "source": []
  }
 ],
 "metadata": {
  "kernelspec": {
   "display_name": "Python 3",
   "language": "python",
   "name": "python3"
  },
  "language_info": {
   "codemirror_mode": {
    "name": "ipython",
    "version": 3
   },
   "file_extension": ".py",
   "mimetype": "text/x-python",
   "name": "python",
   "nbconvert_exporter": "python",
   "pygments_lexer": "ipython3",
   "version": "3.6.9"
  }
 },
 "nbformat": 4,
 "nbformat_minor": 4
}

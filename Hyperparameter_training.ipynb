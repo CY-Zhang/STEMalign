{
 "cells": [
  {
   "cell_type": "markdown",
   "metadata": {},
   "source": [
    "# Hyperparameters training for Gaussian Process kernels\n",
    "\n",
    "This code compares the kernel's hyperparameters  trained using 3 codes:\n",
    "* SKlearn\n",
    "* GPy\n",
    "* TFGP - **tfgp_trainer** was written for SLAC National Lab, and uses Tensorflow.   "
   ]
  },
  {
   "cell_type": "code",
   "execution_count": 1,
   "metadata": {},
   "outputs": [],
   "source": [
    "import tensorflow as tf\n",
    "import matplotlib.pyplot as plt\n",
    "import pandas as pd\n",
    "import time\n",
    "import warnings\n",
    "import numpy as np\n",
    "warnings.filterwarnings(\"ignore\")"
   ]
  },
  {
   "cell_type": "markdown",
   "metadata": {},
   "source": [
    "# Load data"
   ]
  },
  {
   "cell_type": "markdown",
   "metadata": {},
   "source": [
    "For this example we load exprimental data from SPEAR3 storage ring at SLAC National Lab.\n",
    "https://www-ssrl.slac.stanford.edu/spear3/\n",
    "\n",
    "* X: Input include 13 controls (quadropole current in [mA]).\n",
    "* Y: Objective includes the beam loss rate [mA/min].\n"
   ]
  },
  {
   "cell_type": "code",
   "execution_count": 10,
   "metadata": {},
   "outputs": [
    {
     "name": "stdout",
     "output_type": "stream",
     "text": [
      "Y.shape (120,) \n",
      "X.shape (120, 13)\n"
     ]
    }
   ],
   "source": [
    "df = pd.read_excel('Data/spear_data.xlsx')\n",
    "X=df.iloc[:,0:13] \n",
    "Y=df['objective']\n",
    "print('Y.shape',Y.shape,'\\nX.shape',X.shape)"
   ]
  },
  {
   "cell_type": "code",
   "execution_count": 32,
   "metadata": {},
   "outputs": [
    {
     "data": {
      "text/html": [
       "<div>\n",
       "<style scoped>\n",
       "    .dataframe tbody tr th:only-of-type {\n",
       "        vertical-align: middle;\n",
       "    }\n",
       "\n",
       "    .dataframe tbody tr th {\n",
       "        vertical-align: top;\n",
       "    }\n",
       "\n",
       "    .dataframe thead th {\n",
       "        text-align: right;\n",
       "    }\n",
       "</style>\n",
       "<table border=\"1\" class=\"dataframe\">\n",
       "  <thead>\n",
       "    <tr style=\"text-align: right;\">\n",
       "      <th></th>\n",
       "      <th>0</th>\n",
       "      <th>1</th>\n",
       "      <th>2</th>\n",
       "      <th>3</th>\n",
       "      <th>4</th>\n",
       "      <th>5</th>\n",
       "      <th>6</th>\n",
       "    </tr>\n",
       "  </thead>\n",
       "  <tbody>\n",
       "    <tr>\n",
       "      <th>0</th>\n",
       "      <td>1498.0</td>\n",
       "      <td>0.0</td>\n",
       "      <td>390000.0</td>\n",
       "      <td>-654100.0</td>\n",
       "      <td>-3.751500e+06</td>\n",
       "      <td>119931.5</td>\n",
       "      <td>648691.415</td>\n",
       "    </tr>\n",
       "    <tr>\n",
       "      <th>1</th>\n",
       "      <td>1498.0</td>\n",
       "      <td>0.0</td>\n",
       "      <td>390000.0</td>\n",
       "      <td>-654100.0</td>\n",
       "      <td>-3.751480e+06</td>\n",
       "      <td>119931.5</td>\n",
       "      <td>648691.415</td>\n",
       "    </tr>\n",
       "    <tr>\n",
       "      <th>2</th>\n",
       "      <td>1498.0</td>\n",
       "      <td>0.0</td>\n",
       "      <td>390000.0</td>\n",
       "      <td>-654100.0</td>\n",
       "      <td>-3.751460e+06</td>\n",
       "      <td>119931.5</td>\n",
       "      <td>648691.415</td>\n",
       "    </tr>\n",
       "    <tr>\n",
       "      <th>3</th>\n",
       "      <td>1498.0</td>\n",
       "      <td>0.0</td>\n",
       "      <td>390000.0</td>\n",
       "      <td>-654100.0</td>\n",
       "      <td>-3.751439e+06</td>\n",
       "      <td>119931.5</td>\n",
       "      <td>648691.415</td>\n",
       "    </tr>\n",
       "    <tr>\n",
       "      <th>4</th>\n",
       "      <td>1498.0</td>\n",
       "      <td>0.0</td>\n",
       "      <td>390000.0</td>\n",
       "      <td>-654100.0</td>\n",
       "      <td>-3.751419e+06</td>\n",
       "      <td>119931.5</td>\n",
       "      <td>648691.415</td>\n",
       "    </tr>\n",
       "    <tr>\n",
       "      <th>...</th>\n",
       "      <td>...</td>\n",
       "      <td>...</td>\n",
       "      <td>...</td>\n",
       "      <td>...</td>\n",
       "      <td>...</td>\n",
       "      <td>...</td>\n",
       "      <td>...</td>\n",
       "    </tr>\n",
       "    <tr>\n",
       "      <th>95</th>\n",
       "      <td>1498.0</td>\n",
       "      <td>0.0</td>\n",
       "      <td>390000.0</td>\n",
       "      <td>-654100.0</td>\n",
       "      <td>-3.749581e+06</td>\n",
       "      <td>119931.5</td>\n",
       "      <td>648691.415</td>\n",
       "    </tr>\n",
       "    <tr>\n",
       "      <th>96</th>\n",
       "      <td>1498.0</td>\n",
       "      <td>0.0</td>\n",
       "      <td>390000.0</td>\n",
       "      <td>-654100.0</td>\n",
       "      <td>-3.749561e+06</td>\n",
       "      <td>119931.5</td>\n",
       "      <td>648691.415</td>\n",
       "    </tr>\n",
       "    <tr>\n",
       "      <th>97</th>\n",
       "      <td>1498.0</td>\n",
       "      <td>0.0</td>\n",
       "      <td>390000.0</td>\n",
       "      <td>-654100.0</td>\n",
       "      <td>-3.749540e+06</td>\n",
       "      <td>119931.5</td>\n",
       "      <td>648691.415</td>\n",
       "    </tr>\n",
       "    <tr>\n",
       "      <th>98</th>\n",
       "      <td>1498.0</td>\n",
       "      <td>0.0</td>\n",
       "      <td>390000.0</td>\n",
       "      <td>-654100.0</td>\n",
       "      <td>-3.749520e+06</td>\n",
       "      <td>119931.5</td>\n",
       "      <td>648691.415</td>\n",
       "    </tr>\n",
       "    <tr>\n",
       "      <th>99</th>\n",
       "      <td>1498.0</td>\n",
       "      <td>0.0</td>\n",
       "      <td>390000.0</td>\n",
       "      <td>-654100.0</td>\n",
       "      <td>-3.749500e+06</td>\n",
       "      <td>119931.5</td>\n",
       "      <td>648691.415</td>\n",
       "    </tr>\n",
       "  </tbody>\n",
       "</table>\n",
       "<p>100 rows × 7 columns</p>\n",
       "</div>"
      ],
      "text/plain": [
       "         0    1         2         3             4         5           6\n",
       "0   1498.0  0.0  390000.0 -654100.0 -3.751500e+06  119931.5  648691.415\n",
       "1   1498.0  0.0  390000.0 -654100.0 -3.751480e+06  119931.5  648691.415\n",
       "2   1498.0  0.0  390000.0 -654100.0 -3.751460e+06  119931.5  648691.415\n",
       "3   1498.0  0.0  390000.0 -654100.0 -3.751439e+06  119931.5  648691.415\n",
       "4   1498.0  0.0  390000.0 -654100.0 -3.751419e+06  119931.5  648691.415\n",
       "..     ...  ...       ...       ...           ...       ...         ...\n",
       "95  1498.0  0.0  390000.0 -654100.0 -3.749581e+06  119931.5  648691.415\n",
       "96  1498.0  0.0  390000.0 -654100.0 -3.749561e+06  119931.5  648691.415\n",
       "97  1498.0  0.0  390000.0 -654100.0 -3.749540e+06  119931.5  648691.415\n",
       "98  1498.0  0.0  390000.0 -654100.0 -3.749520e+06  119931.5  648691.415\n",
       "99  1498.0  0.0  390000.0 -654100.0 -3.749500e+06  119931.5  648691.415\n",
       "\n",
       "[100 rows x 7 columns]"
      ]
     },
     "execution_count": 32,
     "metadata": {},
     "output_type": "execute_result"
    }
   ],
   "source": [
    "temp = np.load()"
   ]
  },
  {
   "cell_type": "code",
   "execution_count": 16,
   "metadata": {},
   "outputs": [
    {
     "name": "stdout",
     "output_type": "stream",
     "text": [
      "(901, 7)\n",
      "(901,)\n",
      "Y.shape (901,) \n",
      "X.shape (901, 7)\n"
     ]
    }
   ],
   "source": [
    "# combine the data from linescans and the data from a test GP run\n",
    "\n",
    "x = np.load('Linescans/HighCs_3fold_emit_WhiteNoise/OBJ_x.npy')\n",
    "x = np.concatenate((x, np.load('Obj_x_GPrun.npy')),axis=0)\n",
    "print(x.shape)\n",
    "X = pd.DataFrame(x)\n",
    "\n",
    "y = np.load('Linescans/HighCs_3fold_emit_WhiteNoise/OBJ_y.npy')\n",
    "y = np.concatenate((y, np.load('Obj_y_GPrun.npy')),axis=0)\n",
    "print(y.shape)\n",
    "Y = pd.DataFrame(y).squeeze()\n",
    "\n",
    "print('Y.shape',Y.shape,'\\nX.shape',X.shape)"
   ]
  },
  {
   "cell_type": "markdown",
   "metadata": {},
   "source": [
    "# Training using TFGP trainer"
   ]
  },
  {
   "cell_type": "code",
   "execution_count": 17,
   "metadata": {},
   "outputs": [],
   "source": [
    "from Modules.tfgp_trainer import tfgp_trainer\n",
    "tf.compat.v1.disable_eager_execution()"
   ]
  },
  {
   "cell_type": "code",
   "execution_count": 18,
   "metadata": {},
   "outputs": [
    {
     "name": "stdout",
     "output_type": "stream",
     "text": [
      "WARNING:tensorflow:From /home/chenyu/anaconda3/lib/python3.7/site-packages/tensorflow/python/ops/resource_variable_ops.py:1666: calling BaseResourceVariable.__init__ (from tensorflow.python.ops.resource_variable_ops) with constraint is deprecated and will be removed in a future version.\n",
      "Instructions for updating:\n",
      "If using Keras pass *_constraint arguments to layers.\n"
     ]
    },
    {
     "ename": "TypeError",
     "evalue": "__init__() got an unexpected keyword argument 'max_value'",
     "output_type": "error",
     "traceback": [
      "\u001b[0;31m---------------------------------------------------------------------------\u001b[0m",
      "\u001b[0;31mTypeError\u001b[0m                                 Traceback (most recent call last)",
      "\u001b[0;32m<ipython-input-18-72eeaaf70ae7>\u001b[0m in \u001b[0;36m<module>\u001b[0;34m\u001b[0m\n\u001b[1;32m     12\u001b[0m            \u001b[0moffset\u001b[0m \u001b[0;34m=\u001b[0m \u001b[0;32mFalse\u001b[0m\u001b[0;34m,\u001b[0m\u001b[0;34m\u001b[0m\u001b[0;34m\u001b[0m\u001b[0m\n\u001b[1;32m     13\u001b[0m            \u001b[0mmonitor_period\u001b[0m\u001b[0;34m=\u001b[0m\u001b[0;32mNone\u001b[0m\u001b[0;34m,\u001b[0m\u001b[0;34m\u001b[0m\u001b[0;34m\u001b[0m\u001b[0m\n\u001b[0;32m---> 14\u001b[0;31m            monitor_gradient=None) \n\u001b[0m\u001b[1;32m     15\u001b[0m \u001b[0;34m\u001b[0m\u001b[0m\n\u001b[1;32m     16\u001b[0m \u001b[0mtfgp_t\u001b[0m \u001b[0;34m=\u001b[0m \u001b[0mtime\u001b[0m\u001b[0;34m.\u001b[0m\u001b[0mtime\u001b[0m\u001b[0;34m(\u001b[0m\u001b[0;34m)\u001b[0m\u001b[0;34m-\u001b[0m\u001b[0mt0\u001b[0m\u001b[0;34m\u001b[0m\u001b[0;34m\u001b[0m\u001b[0m\n",
      "\u001b[0;32m~/Desktop/GaussianProcess/Modules/tfgp_trainer.py\u001b[0m in \u001b[0;36mtrain\u001b[0;34m(self, lr, niter, optimizer, gradient_clipping, kernel, correlations, offset, monitor_period, monitor_gradient)\u001b[0m\n\u001b[1;32m    346\u001b[0m             \u001b[0msess\u001b[0m\u001b[0;34m.\u001b[0m\u001b[0mrun\u001b[0m\u001b[0;34m(\u001b[0m\u001b[0mtf\u001b[0m\u001b[0;34m.\u001b[0m\u001b[0mcompat\u001b[0m\u001b[0;34m.\u001b[0m\u001b[0mv1\u001b[0m\u001b[0;34m.\u001b[0m\u001b[0mglobal_variables_initializer\u001b[0m\u001b[0;34m(\u001b[0m\u001b[0;34m)\u001b[0m\u001b[0;34m)\u001b[0m\u001b[0;34m\u001b[0m\u001b[0;34m\u001b[0m\u001b[0m\n\u001b[1;32m    347\u001b[0m \u001b[0;34m\u001b[0m\u001b[0m\n\u001b[0;32m--> 348\u001b[0;31m             \u001b[0;32mwith\u001b[0m \u001b[0mprogressbar\u001b[0m\u001b[0;34m.\u001b[0m\u001b[0mProgressBar\u001b[0m\u001b[0;34m(\u001b[0m\u001b[0mmax_value\u001b[0m\u001b[0;34m=\u001b[0m\u001b[0mniter\u001b[0m\u001b[0;34m)\u001b[0m \u001b[0;32mas\u001b[0m \u001b[0mbar\u001b[0m\u001b[0;34m:\u001b[0m\u001b[0;34m\u001b[0m\u001b[0;34m\u001b[0m\u001b[0m\n\u001b[0m\u001b[1;32m    349\u001b[0m \u001b[0;34m\u001b[0m\u001b[0m\n\u001b[1;32m    350\u001b[0m                 \u001b[0;32mif\u001b[0m \u001b[0mself\u001b[0m\u001b[0;34m.\u001b[0m\u001b[0mVerbose\u001b[0m\u001b[0;34m:\u001b[0m\u001b[0;34m\u001b[0m\u001b[0;34m\u001b[0m\u001b[0m\n",
      "\u001b[0;31mTypeError\u001b[0m: __init__() got an unexpected keyword argument 'max_value'"
     ]
    }
   ],
   "source": [
    "Niter = 1200\n",
    "\n",
    "t0 = time.time()\n",
    "tfgp = tfgp_trainer(X, Y,verbose=0)\n",
    "\n",
    "tfgp.train(lr=0.005, \n",
    "           niter=Niter,\n",
    "           optimizer=[tf.compat.v1.train.AdamOptimizer, tf.optimizers.SGD, tf.optimizers.RMSprop][0],\n",
    "           gradient_clipping=0,\n",
    "           kernel=['rbf','matern32','matern52'][0],\n",
    "           correlations = False,\n",
    "           offset = False,\n",
    "           monitor_period=None,\n",
    "           monitor_gradient=None) \n",
    "\n",
    "tfgp_t = time.time()-t0\n",
    "print ('took ',tfgp_t ,' seconds')"
   ]
  },
  {
   "cell_type": "markdown",
   "metadata": {},
   "source": [
    "We can then plot results to see behaviour during the optimization and convergance."
   ]
  },
  {
   "cell_type": "code",
   "execution_count": 6,
   "metadata": {},
   "outputs": [
    {
     "ename": "IndexError",
     "evalue": "list index out of range",
     "output_type": "error",
     "traceback": [
      "\u001b[0;31m---------------------------------------------------------------------------\u001b[0m",
      "\u001b[0;31mIndexError\u001b[0m                                Traceback (most recent call last)",
      "\u001b[0;32m<ipython-input-6-1c5b2d2e2d81>\u001b[0m in \u001b[0;36m<module>\u001b[0;34m\u001b[0m\n\u001b[1;32m      1\u001b[0m \u001b[0;32mfrom\u001b[0m \u001b[0mModules\u001b[0m\u001b[0;34m.\u001b[0m\u001b[0mutils\u001b[0m \u001b[0;32mimport\u001b[0m \u001b[0mGP_plot_results\u001b[0m\u001b[0;34m\u001b[0m\u001b[0;34m\u001b[0m\u001b[0m\n\u001b[0;32m----> 2\u001b[0;31m \u001b[0mtfgp_results\u001b[0m \u001b[0;34m=\u001b[0m \u001b[0mGP_plot_results\u001b[0m\u001b[0;34m(\u001b[0m\u001b[0mtfgp\u001b[0m\u001b[0;34m,\u001b[0m\u001b[0mY\u001b[0m\u001b[0;34m)\u001b[0m\u001b[0;34m\u001b[0m\u001b[0;34m\u001b[0m\u001b[0m\n\u001b[0m",
      "\u001b[0;32m~/Desktop/GaussianProcess/Modules/utils.py\u001b[0m in \u001b[0;36mGP_plot_results\u001b[0;34m(tfgp, yin)\u001b[0m\n\u001b[1;32m     24\u001b[0m     \u001b[0mls_grad\u001b[0m\u001b[0;34m=\u001b[0m\u001b[0mnp\u001b[0m\u001b[0;34m.\u001b[0m\u001b[0marray\u001b[0m\u001b[0;34m(\u001b[0m\u001b[0;34m[\u001b[0m\u001b[0ma\u001b[0m\u001b[0;34m[\u001b[0m\u001b[0;36m2\u001b[0m\u001b[0;34m]\u001b[0m\u001b[0;34m[\u001b[0m\u001b[0;36m0\u001b[0m\u001b[0;34m]\u001b[0m \u001b[0;32mfor\u001b[0m \u001b[0ma\u001b[0m \u001b[0;32min\u001b[0m \u001b[0mgradients\u001b[0m\u001b[0;34m]\u001b[0m\u001b[0;34m)\u001b[0m\u001b[0;34m\u001b[0m\u001b[0;34m\u001b[0m\u001b[0m\n\u001b[1;32m     25\u001b[0m     \u001b[0mprecision_matrix\u001b[0m\u001b[0;34m=\u001b[0m\u001b[0mtfgp\u001b[0m\u001b[0;34m.\u001b[0m\u001b[0mresults\u001b[0m\u001b[0;34m[\u001b[0m\u001b[0;34m'precision_matrix'\u001b[0m\u001b[0;34m]\u001b[0m\u001b[0;34m\u001b[0m\u001b[0;34m\u001b[0m\u001b[0m\n\u001b[0;32m---> 26\u001b[0;31m     \u001b[0mParabola_vals\u001b[0m\u001b[0;34m=\u001b[0m\u001b[0mtfgp\u001b[0m\u001b[0;34m.\u001b[0m\u001b[0mparabola_approx\u001b[0m\u001b[0;34m(\u001b[0m\u001b[0mamp_param\u001b[0m\u001b[0;34m[\u001b[0m\u001b[0;34m-\u001b[0m\u001b[0;36m1\u001b[0m\u001b[0;34m]\u001b[0m\u001b[0;34m[\u001b[0m\u001b[0;36m0\u001b[0m\u001b[0;34m]\u001b[0m\u001b[0;34m,\u001b[0m \u001b[0mnoise_param_variance\u001b[0m\u001b[0;34m[\u001b[0m\u001b[0;34m-\u001b[0m\u001b[0;36m1\u001b[0m\u001b[0;34m]\u001b[0m\u001b[0;34m[\u001b[0m\u001b[0;36m0\u001b[0m\u001b[0;34m]\u001b[0m\u001b[0;34m,\u001b[0m \u001b[0mlength_scale_param\u001b[0m\u001b[0;34m[\u001b[0m\u001b[0;34m-\u001b[0m\u001b[0;36m1\u001b[0m\u001b[0;34m]\u001b[0m\u001b[0;34m,\u001b[0m \u001b[0mll\u001b[0m\u001b[0;34m[\u001b[0m\u001b[0;34m-\u001b[0m\u001b[0;36m1\u001b[0m\u001b[0;34m]\u001b[0m\u001b[0;34m,\u001b[0m \u001b[0mgradients\u001b[0m\u001b[0;34m[\u001b[0m\u001b[0;34m-\u001b[0m\u001b[0;36m1\u001b[0m\u001b[0;34m]\u001b[0m\u001b[0;34m,\u001b[0m\u001b[0mkernel\u001b[0m\u001b[0;34m=\u001b[0m\u001b[0;34m'matern32'\u001b[0m\u001b[0;34m)\u001b[0m\u001b[0;34m\u001b[0m\u001b[0;34m\u001b[0m\u001b[0m\n\u001b[0m\u001b[1;32m     27\u001b[0m \u001b[0;34m\u001b[0m\u001b[0m\n\u001b[1;32m     28\u001b[0m     \u001b[0mplt\u001b[0m\u001b[0;34m.\u001b[0m\u001b[0mfigure\u001b[0m\u001b[0;34m(\u001b[0m\u001b[0mfigsize\u001b[0m\u001b[0;34m=\u001b[0m\u001b[0;34m(\u001b[0m\u001b[0;36m20\u001b[0m\u001b[0;34m,\u001b[0m\u001b[0;36m8\u001b[0m\u001b[0;34m)\u001b[0m\u001b[0;34m)\u001b[0m\u001b[0;34m;\u001b[0m\u001b[0;34m\u001b[0m\u001b[0;34m\u001b[0m\u001b[0m\n",
      "\u001b[0;31mIndexError\u001b[0m: list index out of range"
     ]
    }
   ],
   "source": [
    "from Modules.utils import GP_plot_results\n",
    "tfgp_results = GP_plot_results(tfgp,Y)"
   ]
  },
  {
   "cell_type": "markdown",
   "metadata": {},
   "source": [
    "#  Training using SKlearn"
   ]
  },
  {
   "cell_type": "code",
   "execution_count": 38,
   "metadata": {},
   "outputs": [
    {
     "name": "stdout",
     "output_type": "stream",
     "text": [
      "********* \n",
      " rbf\n",
      "took  30.863511562347412  seconds\n",
      "Inital kernel: 3.16**2 * RBF(length_scale=[1, 1, 1, 1, 1, 1, 1]) + WhiteKernel(noise_level=0.01)\n",
      "Learned kernel: 0.285**2 * RBF(length_scale=[1.87e-07, 0.000757, 20, 1.97e-06, 7.24e-05, 0.00223, 0.0313]) + WhiteKernel(noise_level=1e-08)\n",
      "Log-marginal-likelihood: -147.532\n"
     ]
    }
   ],
   "source": [
    "from Modules.sk_trainer import sk_trainer\n",
    "sk=sk_trainer()\n",
    "sk.sk_train(X, Y, kernels=['rbf'], offset=False, verboseQ=True, saveQ=False)"
   ]
  },
  {
   "cell_type": "markdown",
   "metadata": {},
   "source": [
    "#  Training using to GPy"
   ]
  },
  {
   "cell_type": "code",
   "execution_count": 39,
   "metadata": {},
   "outputs": [
    {
     "name": "stdout",
     "output_type": "stream",
     "text": [
      "********* \n",
      " rbf\n",
      "Optimization restart 1/5, f = 149.6705733152221\n",
      "Optimization restart 2/5, f = 149.67057331522187\n",
      "Optimization restart 3/5, f = 149.670573315222\n",
      "Optimization restart 4/5, f = 149.67057331522238\n",
      "Optimization restart 5/5, f = 149.67057331522204\n",
      "took  5.981610536575317  seconds\n",
      "Log-marginal-likelihood: -149.671\n"
     ]
    }
   ],
   "source": [
    "from Modules.gpy_trainer import gpy_trainer\n",
    "gpy=gpy_trainer()\n",
    "gpy.gpy_train(X, Y[:,None], kernels= ['rbf'], max_iters=5000, offset=False, verboseQ=True, saveQ=False)"
   ]
  },
  {
   "cell_type": "markdown",
   "metadata": {},
   "source": [
    "# Comparison of hyperparameters from all codes"
   ]
  },
  {
   "cell_type": "code",
   "execution_count": 20,
   "metadata": {},
   "outputs": [
    {
     "ename": "NameError",
     "evalue": "name 'tfgp_t' is not defined",
     "output_type": "error",
     "traceback": [
      "\u001b[0;31m---------------------------------------------------------------------------\u001b[0m",
      "\u001b[0;31mNameError\u001b[0m                                 Traceback (most recent call last)",
      "\u001b[0;32m<ipython-input-20-4e60caf3b24f>\u001b[0m in \u001b[0;36m<module>\u001b[0;34m\u001b[0m\n\u001b[1;32m      1\u001b[0m \u001b[0;31m# collect the results into a pandas dataframe to display\u001b[0m\u001b[0;34m\u001b[0m\u001b[0;34m\u001b[0m\u001b[0;34m\u001b[0m\u001b[0m\n\u001b[1;32m      2\u001b[0m pd.DataFrame({\"Param\": ['time','negative log likelihood', 'amplitude', 'noise', 'offset'],\n\u001b[0;32m----> 3\u001b[0;31m               \u001b[0;34m\"tfgp\"\u001b[0m\u001b[0;34m:\u001b[0m \u001b[0;34m[\u001b[0m\u001b[0mtfgp_t\u001b[0m\u001b[0;34m,\u001b[0m \u001b[0mtfgp_results\u001b[0m\u001b[0;34m[\u001b[0m\u001b[0;34m'll'\u001b[0m\u001b[0;34m]\u001b[0m\u001b[0;34m,\u001b[0m \u001b[0mtfgp_results\u001b[0m\u001b[0;34m[\u001b[0m\u001b[0;34m'amp_param'\u001b[0m\u001b[0;34m]\u001b[0m\u001b[0;34m,\u001b[0m \u001b[0mtfgp_results\u001b[0m\u001b[0;34m[\u001b[0m\u001b[0;34m'noise_param_variance'\u001b[0m\u001b[0;34m]\u001b[0m \u001b[0;34m,\u001b[0m \u001b[0mtfgp_results\u001b[0m\u001b[0;34m[\u001b[0m\u001b[0;34m'offset_param'\u001b[0m\u001b[0;34m]\u001b[0m\u001b[0;34m]\u001b[0m\u001b[0;34m,\u001b[0m\u001b[0;34m\u001b[0m\u001b[0;34m\u001b[0m\u001b[0m\n\u001b[0m\u001b[1;32m      4\u001b[0m               \u001b[0;34m\"SK\"\u001b[0m\u001b[0;34m:\u001b[0m \u001b[0;34m[\u001b[0m\u001b[0msk\u001b[0m\u001b[0;34m.\u001b[0m\u001b[0msk_t\u001b[0m\u001b[0;34m,\u001b[0m \u001b[0msk\u001b[0m\u001b[0;34m.\u001b[0m\u001b[0mresults\u001b[0m\u001b[0;34m[\u001b[0m\u001b[0;34m'll'\u001b[0m\u001b[0;34m]\u001b[0m\u001b[0;34m,\u001b[0m \u001b[0msk\u001b[0m\u001b[0;34m.\u001b[0m\u001b[0mresults\u001b[0m\u001b[0;34m[\u001b[0m\u001b[0;34m'amp_param'\u001b[0m\u001b[0;34m]\u001b[0m\u001b[0;34m,\u001b[0m \u001b[0msk\u001b[0m\u001b[0;34m.\u001b[0m\u001b[0mresults\u001b[0m\u001b[0;34m[\u001b[0m\u001b[0;34m'noise_param_variance'\u001b[0m\u001b[0;34m]\u001b[0m \u001b[0;34m,\u001b[0m \u001b[0msk\u001b[0m\u001b[0;34m.\u001b[0m\u001b[0mresults\u001b[0m\u001b[0;34m[\u001b[0m\u001b[0;34m'offset_param'\u001b[0m\u001b[0;34m]\u001b[0m\u001b[0;34m]\u001b[0m\u001b[0;34m,\u001b[0m\u001b[0;34m\u001b[0m\u001b[0;34m\u001b[0m\u001b[0m\n\u001b[1;32m      5\u001b[0m               \u001b[0;34m\"GPy\"\u001b[0m\u001b[0;34m:\u001b[0m \u001b[0;34m[\u001b[0m\u001b[0mgpy\u001b[0m\u001b[0;34m.\u001b[0m\u001b[0mgpy_t\u001b[0m\u001b[0;34m,\u001b[0m \u001b[0mgpy\u001b[0m\u001b[0;34m.\u001b[0m\u001b[0mresults\u001b[0m\u001b[0;34m[\u001b[0m\u001b[0;34m'll'\u001b[0m\u001b[0;34m]\u001b[0m\u001b[0;34m,\u001b[0m \u001b[0mgpy\u001b[0m\u001b[0;34m.\u001b[0m\u001b[0mresults\u001b[0m\u001b[0;34m[\u001b[0m\u001b[0;34m'amp_param'\u001b[0m\u001b[0;34m]\u001b[0m\u001b[0;34m,\u001b[0m \u001b[0mgpy\u001b[0m\u001b[0;34m.\u001b[0m\u001b[0mresults\u001b[0m\u001b[0;34m[\u001b[0m\u001b[0;34m'noise_param_variance'\u001b[0m\u001b[0;34m]\u001b[0m \u001b[0;34m,\u001b[0m \u001b[0mgpy\u001b[0m\u001b[0;34m.\u001b[0m\u001b[0mresults\u001b[0m\u001b[0;34m[\u001b[0m\u001b[0;34m'offset_param'\u001b[0m\u001b[0;34m]\u001b[0m\u001b[0;34m]\u001b[0m\u001b[0;34m,\u001b[0m\u001b[0;34m\u001b[0m\u001b[0;34m\u001b[0m\u001b[0m\n",
      "\u001b[0;31mNameError\u001b[0m: name 'tfgp_t' is not defined"
     ]
    }
   ],
   "source": [
    "# collect the results into a pandas dataframe to display\n",
    "pd.DataFrame({\"Param\": ['time','negative log likelihood', 'amplitude', 'noise', 'offset'],\n",
    "              \"tfgp\": [tfgp_t, tfgp_results['ll'], tfgp_results['amp_param'], tfgp_results['noise_param_variance'] , tfgp_results['offset_param']],\n",
    "              \"SK\": [sk.sk_t, sk.results['ll'], sk.results['amp_param'], sk.results['noise_param_variance'] , sk.results['offset_param']],\n",
    "              \"GPy\": [gpy.gpy_t, gpy.results['ll'], gpy.results['amp_param'], gpy.results['noise_param_variance'] , gpy.results['offset_param']],\n",
    "             })\n"
   ]
  },
  {
   "cell_type": "code",
   "execution_count": 21,
   "metadata": {},
   "outputs": [
    {
     "name": "stdout",
     "output_type": "stream",
     "text": [
      "Lengthscales Comparison\n"
     ]
    },
    {
     "ename": "NameError",
     "evalue": "name 'tfgp_results' is not defined",
     "output_type": "error",
     "traceback": [
      "\u001b[0;31m---------------------------------------------------------------------------\u001b[0m",
      "\u001b[0;31mNameError\u001b[0m                                 Traceback (most recent call last)",
      "\u001b[0;32m<ipython-input-21-824a4ee0b5af>\u001b[0m in \u001b[0;36m<module>\u001b[0;34m\u001b[0m\n\u001b[1;32m      1\u001b[0m \u001b[0mprint\u001b[0m\u001b[0;34m(\u001b[0m\u001b[0;34m'Lengthscales Comparison'\u001b[0m\u001b[0;34m)\u001b[0m\u001b[0;34m\u001b[0m\u001b[0;34m\u001b[0m\u001b[0m\n\u001b[1;32m      2\u001b[0m pd.DataFrame({\"\": X.keys(),\n\u001b[0;32m----> 3\u001b[0;31m               \u001b[0;34m\"tfgp\"\u001b[0m\u001b[0;34m:\u001b[0m \u001b[0mtfgp_results\u001b[0m\u001b[0;34m[\u001b[0m\u001b[0;34m'length_scale_param'\u001b[0m\u001b[0;34m]\u001b[0m\u001b[0;34m,\u001b[0m\u001b[0;34m\u001b[0m\u001b[0;34m\u001b[0m\u001b[0m\n\u001b[0m\u001b[1;32m      4\u001b[0m               \u001b[0;34m\"SK\"\u001b[0m\u001b[0;34m:\u001b[0m \u001b[0msk\u001b[0m\u001b[0;34m.\u001b[0m\u001b[0mresults\u001b[0m\u001b[0;34m[\u001b[0m\u001b[0;34m'length_scale_param'\u001b[0m\u001b[0;34m]\u001b[0m \u001b[0;34m,\u001b[0m\u001b[0;34m\u001b[0m\u001b[0;34m\u001b[0m\u001b[0m\n\u001b[1;32m      5\u001b[0m               \u001b[0;34m\"GPy\"\u001b[0m\u001b[0;34m:\u001b[0m \u001b[0mgpy\u001b[0m\u001b[0;34m.\u001b[0m\u001b[0mresults\u001b[0m\u001b[0;34m[\u001b[0m\u001b[0;34m'length_scale_param'\u001b[0m\u001b[0;34m]\u001b[0m\u001b[0;34m\u001b[0m\u001b[0;34m\u001b[0m\u001b[0m\n",
      "\u001b[0;31mNameError\u001b[0m: name 'tfgp_results' is not defined"
     ]
    }
   ],
   "source": [
    "print('Lengthscales Comparison')\n",
    "pd.DataFrame({\"\": X.keys(),\n",
    "              \"tfgp\": tfgp_results['length_scale_param'],\n",
    "              \"SK\": sk.results['length_scale_param'] ,\n",
    "              \"GPy\": gpy.results['length_scale_param']\n",
    "             })"
   ]
  },
  {
   "cell_type": "code",
   "execution_count": 40,
   "metadata": {},
   "outputs": [
    {
     "data": {
      "text/html": [
       "<div>\n",
       "<style scoped>\n",
       "    .dataframe tbody tr th:only-of-type {\n",
       "        vertical-align: middle;\n",
       "    }\n",
       "\n",
       "    .dataframe tbody tr th {\n",
       "        vertical-align: top;\n",
       "    }\n",
       "\n",
       "    .dataframe thead th {\n",
       "        text-align: right;\n",
       "    }\n",
       "</style>\n",
       "<table border=\"1\" class=\"dataframe\">\n",
       "  <thead>\n",
       "    <tr style=\"text-align: right;\">\n",
       "      <th></th>\n",
       "      <th>Param</th>\n",
       "      <th>SK</th>\n",
       "      <th>GPy</th>\n",
       "    </tr>\n",
       "  </thead>\n",
       "  <tbody>\n",
       "    <tr>\n",
       "      <th>0</th>\n",
       "      <td>time</td>\n",
       "      <td>3.086351e+01</td>\n",
       "      <td>5.981611</td>\n",
       "    </tr>\n",
       "    <tr>\n",
       "      <th>1</th>\n",
       "      <td>negative log likelihood</td>\n",
       "      <td>-1.475324e+02</td>\n",
       "      <td>-149.670573</td>\n",
       "    </tr>\n",
       "    <tr>\n",
       "      <th>2</th>\n",
       "      <td>amplitude</td>\n",
       "      <td>8.139119e-02</td>\n",
       "      <td>0.068528</td>\n",
       "    </tr>\n",
       "    <tr>\n",
       "      <th>3</th>\n",
       "      <td>noise</td>\n",
       "      <td>1.000000e-08</td>\n",
       "      <td>0.005204</td>\n",
       "    </tr>\n",
       "    <tr>\n",
       "      <th>4</th>\n",
       "      <td>offset</td>\n",
       "      <td>NaN</td>\n",
       "      <td>NaN</td>\n",
       "    </tr>\n",
       "  </tbody>\n",
       "</table>\n",
       "</div>"
      ],
      "text/plain": [
       "                     Param            SK         GPy\n",
       "0                     time  3.086351e+01    5.981611\n",
       "1  negative log likelihood -1.475324e+02 -149.670573\n",
       "2                amplitude  8.139119e-02    0.068528\n",
       "3                    noise  1.000000e-08    0.005204\n",
       "4                   offset           NaN         NaN"
      ]
     },
     "execution_count": 40,
     "metadata": {},
     "output_type": "execute_result"
    }
   ],
   "source": [
    "# collect the results into a pandas dataframe to display\n",
    "pd.DataFrame({\"Param\": ['time','negative log likelihood', 'amplitude', 'noise', 'offset'],\n",
    "              \"SK\": [sk.sk_t, sk.results['ll'], sk.results['amp_param'], sk.results['noise_param_variance'] , sk.results['offset_param']],\n",
    "              \"GPy\": [gpy.gpy_t, gpy.results['ll'], gpy.results['amp_param'], gpy.results['noise_param_variance'] , gpy.results['offset_param']],\n",
    "             })"
   ]
  },
  {
   "cell_type": "code",
   "execution_count": 41,
   "metadata": {},
   "outputs": [
    {
     "name": "stdout",
     "output_type": "stream",
     "text": [
      "Lengthscales Comparison\n"
     ]
    },
    {
     "data": {
      "text/html": [
       "<div>\n",
       "<style scoped>\n",
       "    .dataframe tbody tr th:only-of-type {\n",
       "        vertical-align: middle;\n",
       "    }\n",
       "\n",
       "    .dataframe tbody tr th {\n",
       "        vertical-align: top;\n",
       "    }\n",
       "\n",
       "    .dataframe thead th {\n",
       "        text-align: right;\n",
       "    }\n",
       "</style>\n",
       "<table border=\"1\" class=\"dataframe\">\n",
       "  <thead>\n",
       "    <tr style=\"text-align: right;\">\n",
       "      <th></th>\n",
       "      <th></th>\n",
       "      <th>SK</th>\n",
       "      <th>GPy</th>\n",
       "    </tr>\n",
       "  </thead>\n",
       "  <tbody>\n",
       "    <tr>\n",
       "      <th>0</th>\n",
       "      <td>0</td>\n",
       "      <td>1.869406e-07</td>\n",
       "      <td>0.127393</td>\n",
       "    </tr>\n",
       "    <tr>\n",
       "      <th>1</th>\n",
       "      <td>1</td>\n",
       "      <td>7.573027e-04</td>\n",
       "      <td>0.689572</td>\n",
       "    </tr>\n",
       "    <tr>\n",
       "      <th>2</th>\n",
       "      <td>2</td>\n",
       "      <td>2.000000e+01</td>\n",
       "      <td>1.554374</td>\n",
       "    </tr>\n",
       "    <tr>\n",
       "      <th>3</th>\n",
       "      <td>3</td>\n",
       "      <td>1.969035e-06</td>\n",
       "      <td>0.490309</td>\n",
       "    </tr>\n",
       "    <tr>\n",
       "      <th>4</th>\n",
       "      <td>4</td>\n",
       "      <td>7.237757e-05</td>\n",
       "      <td>0.872161</td>\n",
       "    </tr>\n",
       "    <tr>\n",
       "      <th>5</th>\n",
       "      <td>5</td>\n",
       "      <td>2.232187e-03</td>\n",
       "      <td>0.653022</td>\n",
       "    </tr>\n",
       "    <tr>\n",
       "      <th>6</th>\n",
       "      <td>6</td>\n",
       "      <td>3.134143e-02</td>\n",
       "      <td>1.610226</td>\n",
       "    </tr>\n",
       "  </tbody>\n",
       "</table>\n",
       "</div>"
      ],
      "text/plain": [
       "                SK       GPy\n",
       "0  0  1.869406e-07  0.127393\n",
       "1  1  7.573027e-04  0.689572\n",
       "2  2  2.000000e+01  1.554374\n",
       "3  3  1.969035e-06  0.490309\n",
       "4  4  7.237757e-05  0.872161\n",
       "5  5  2.232187e-03  0.653022\n",
       "6  6  3.134143e-02  1.610226"
      ]
     },
     "execution_count": 41,
     "metadata": {},
     "output_type": "execute_result"
    }
   ],
   "source": [
    "print('Lengthscales Comparison')\n",
    "pd.DataFrame({\"\": X.keys(),\n",
    "              \"SK\": sk.results['length_scale_param'] ,\n",
    "              \"GPy\": gpy.results['length_scale_param']\n",
    "             })"
   ]
  },
  {
   "cell_type": "code",
   "execution_count": null,
   "metadata": {},
   "outputs": [],
   "source": []
  }
 ],
 "metadata": {
  "kernelspec": {
   "display_name": "Python 3",
   "language": "python",
   "name": "python3"
  },
  "language_info": {
   "codemirror_mode": {
    "name": "ipython",
    "version": 3
   },
   "file_extension": ".py",
   "mimetype": "text/x-python",
   "name": "python",
   "nbconvert_exporter": "python",
   "pygments_lexer": "ipython3",
   "version": "3.7.3"
  }
 },
 "nbformat": 4,
 "nbformat_minor": 4
}

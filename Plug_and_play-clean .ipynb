{
 "cells": [
  {
   "cell_type": "markdown",
   "metadata": {},
   "source": [
    "# Basic GP optimizer - clean mutinormal example"
   ]
  },
  {
   "cell_type": "markdown",
   "metadata": {},
   "source": [
    "**Note**: In order to use it on a specific machine, you should build machine interface (setX and get_state functions).\n"
   ]
  },
  {
   "cell_type": "code",
   "execution_count": 2,
   "metadata": {},
   "outputs": [],
   "source": [
    "\n",
    "from __future__ import absolute_import\n",
    "from __future__ import division\n",
    "from __future__ import print_function\n",
    "import pickle\n",
    "import numpy as np\n",
    "from modules.bayes_optimization import BayesOpt, negUCB, negExpImprove\n",
    "from modules.OnlineGP import OGP\n",
    "import numpy as np\n",
    "import importlib\n",
    "import time\n",
    "import matplotlib.pyplot as plt\n",
    "from IPython.display import clear_output\n",
    "\n",
    "saveResultsQ = False\n"
   ]
  },
  {
   "cell_type": "markdown",
   "metadata": {},
   "source": [
    "### Creat the machine interface"
   ]
  },
  {
   "cell_type": "code",
   "execution_count": 20,
   "metadata": {},
   "outputs": [],
   "source": [
    "ndim = 2 #input dimension\n",
    "acquisition_delay = 0  #how long to wait between acquisitions- relevant for expriment, not for simulation\n",
    "\n",
    "dev_ids =  [str(x+1) for x in np.arange(ndim)] #creat device ids (just numbers)\n",
    "start_point = np.ones(ndim)/2 #min-max range\n",
    "\n",
    "#creat machine interface\n",
    "mi_module = importlib.import_module('machine_interfaces.machine_interface_example')\n",
    "# mi_module = importlib.import_module('multinormal')\n",
    "mi = mi_module.machine_interface(dev_ids = dev_ids, start_point = start_point) #an isotropic n-dimensional gaussian with amplitude=1, centered at the origin, plus gaussian background noise with std dev = 0.1"
   ]
  },
  {
   "cell_type": "code",
   "execution_count": 21,
   "metadata": {},
   "outputs": [
    {
     "data": {
      "text/plain": [
       "0.009003374556125644"
      ]
     },
     "execution_count": 21,
     "metadata": {},
     "output_type": "execute_result"
    }
   ],
   "source": [
    "#check noise std\n",
    "y = [mi.getState()[1][0] for x in range(100)]\n",
    "np.std(y)"
   ]
  },
  {
   "cell_type": "code",
   "execution_count": 22,
   "metadata": {},
   "outputs": [
    {
     "data": {
      "text/plain": [
       "(array([[0.5, 0.5]]), array([[0.77360201]]))"
      ]
     },
     "execution_count": 22,
     "metadata": {},
     "output_type": "execute_result"
    }
   ],
   "source": [
    "#check the reading objective is working\n",
    "mi.getState()"
   ]
  },
  {
   "cell_type": "markdown",
   "metadata": {},
   "source": [
    "### Create the gp"
   ]
  },
  {
   "cell_type": "code",
   "execution_count": 23,
   "metadata": {},
   "outputs": [],
   "source": [
    "gp_ls = np.array(np.ones(ndim))\n",
    "gp_amp = 1. \n",
    "gp_noise = 0.001\n",
    "\n",
    "gp_precisionmat =  np.array(np.diag(1/(gp_ls**2)))\n",
    "hyps = [gp_precisionmat, np.log(gp_amp), np.log(gp_noise**2)] #format the hyperparams for the OGP\n",
    "\n",
    "gp = OGP(ndim, hyps,prmean=0)"
   ]
  },
  {
   "cell_type": "markdown",
   "metadata": {},
   "source": [
    "### Create the BO"
   ]
  },
  {
   "cell_type": "code",
   "execution_count": 24,
   "metadata": {},
   "outputs": [
    {
     "name": "stdout",
     "output_type": "stream",
     "text": [
      "target_func =  <machine_interfaces.machine_interface_example.machine_interface object at 0x7f95f5fa45f8>\n",
      "********* BO - self.mi = self.target_func wORKED!\n",
      "Supposed to be grabbing initial machine state...\n",
      "x_init [[0.5 0.5]]\n",
      "y_init [[0.77463123]]\n",
      "Using prior mean function of  0\n",
      "Using prior mean parameters of  None\n"
     ]
    }
   ],
   "source": [
    "#create the bayesian optimizer that will use the gp as the model to optimize the machine \n",
    "opt = BayesOpt(gp, mi, acq_func=\"UCB\", start_dev_vals = mi.x, dev_ids = dev_ids)\n",
    "opt.ucb_params = np.array([2, None])"
   ]
  },
  {
   "cell_type": "markdown",
   "metadata": {},
   "source": [
    "**Running BO**\n",
    "\n",
    "*run the gp search for some number of steps*"
   ]
  },
  {
   "cell_type": "code",
   "execution_count": 25,
   "metadata": {},
   "outputs": [],
   "source": [
    "Obj_state_s=[]"
   ]
  },
  {
   "cell_type": "code",
   "execution_count": 26,
   "metadata": {},
   "outputs": [
    {
     "name": "stdout",
     "output_type": "stream",
     "text": [
      "iteration = 49\n",
      "current position: [[-0.05389702 -0.05389702]] current objective value: [[0.98594758]]\n"
     ]
    },
    {
     "data": {
      "image/png": "[encoded data removed]",
      "text/plain": [
       "<Figure size 1440x216 with 2 Axes>"
      ]
     },
     "metadata": {
      "needs_background": "light"
     },
     "output_type": "display_data"
    },
    {
     "name": "stdout",
     "output_type": "stream",
     "text": [
      "[-0.05388589 -0.05388589]\n",
      "[-0.05388589 -0.05388589]\n",
      "[[-0.05388589 -0.05388589]]\n"
     ]
    }
   ],
   "source": [
    "Niter = 50\n",
    "for i in range(Niter):\n",
    "    clear_output(wait=True) \n",
    "    print ('iteration =', i)\n",
    "    print ('current position:', mi.x, 'current objective value:', mi.getState()[1])\n",
    "   \n",
    "    Obj_state_s.append(mi.getState()[1][0])\n",
    "    \n",
    "    f = plt.figure(figsize=(20,3))\n",
    "    ax = f.add_subplot(121)\n",
    "    ax2 = f.add_subplot(122)\n",
    "    ax.set_ylabel('Input controls',fontsize=12)\n",
    "    ax.set_xlabel('Step',fontsize=12)    \n",
    "    ax.plot(opt.X_obs)\n",
    "    ax2.set_ylabel('Objective',fontsize=12)\n",
    "    ax2.set_xlabel('Step',fontsize=12)\n",
    "    ax2.plot(Obj_state_s)\n",
    "    plt.show(); \n",
    "    \n",
    "    opt.OptIter()"
   ]
  },
  {
   "cell_type": "code",
   "execution_count": 43,
   "metadata": {},
   "outputs": [],
   "source": [
    "#save results if desired\n",
    "from datetime import datetime\n",
    "import time\n",
    "def saveResults(filename):\n",
    "    timestr = datetime.now().strftime('%Y-%m-%d-%H%M%S')\n",
    "    try: os.mkdir('saved_results/multinormal')\n",
    "    except: pass\n",
    "    results = {}\n",
    "    results['start_point'] = start_point\n",
    "    results['hyps'] = [gp_precisionmat,gp_amp, gp_noise]\n",
    "    results['offset'] = offset\n",
    "    results['xs'] = opt.X_obs\n",
    "    results['ys'] = np.array([y[0][0] for y in opt.Y_obs])\n",
    "    results['time'] = timestr\n",
    "    np.save('saved_results/multinormal/scan_'+timestr+'_'+filename, results)\n",
    "    print('saved to:  saved_results/multinormal/  scan_'+timestr+'_'+filename)"
   ]
  },
  {
   "cell_type": "code",
   "execution_count": null,
   "metadata": {},
   "outputs": [],
   "source": [
    "saveResults('exmple1')"
   ]
  }
 ],
 "metadata": {
  "kernelspec": {
   "display_name": "Python 3",
   "language": "python",
   "name": "python3"
  },
  "language_info": {
   "codemirror_mode": {
    "name": "ipython",
    "version": 3
   },
   "file_extension": ".py",
   "mimetype": "text/x-python",
   "name": "python",
   "nbconvert_exporter": "python",
   "pygments_lexer": "ipython3",
   "version": "3.6.9"
  }
 },
 "nbformat": 4,
 "nbformat_minor": 4
}

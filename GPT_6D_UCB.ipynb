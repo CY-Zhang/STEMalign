{
 "cells": [
  {
   "cell_type": "code",
   "execution_count": 1,
   "id": "13d457c0",
   "metadata": {
    "collapsed": true
   },
   "outputs": [
    {
     "name": "stderr",
     "output_type": "stream",
     "text": [
      "2021-09-23 16:12:31.900634: I tensorflow/stream_executor/platform/default/dso_loader.cc:44] Successfully opened dynamic library libcuda.so.1\n",
      "2021-09-23 16:12:31.965859: I tensorflow/core/common_runtime/gpu/gpu_device.cc:1561] Found device 0 with properties: \n",
      "pciBusID: 0000:5b:00.0 name: Quadro RTX 4000 computeCapability: 7.5\n",
      "coreClock: 1.545GHz coreCount: 36 deviceMemorySize: 7.79GiB deviceMemoryBandwidth: 387.49GiB/s\n",
      "2021-09-23 16:12:31.966322: I tensorflow/core/common_runtime/gpu/gpu_device.cc:1561] Found device 1 with properties: \n",
      "pciBusID: 0000:9e:00.0 name: Quadro RTX 4000 computeCapability: 7.5\n",
      "coreClock: 1.545GHz coreCount: 36 deviceMemorySize: 7.79GiB deviceMemoryBandwidth: 387.49GiB/s\n",
      "2021-09-23 16:12:31.966549: I tensorflow/stream_executor/platform/default/dso_loader.cc:44] Successfully opened dynamic library libcudart.so.10.1\n",
      "2021-09-23 16:12:31.968512: I tensorflow/stream_executor/platform/default/dso_loader.cc:44] Successfully opened dynamic library libcublas.so.10\n",
      "2021-09-23 16:12:31.969575: I tensorflow/stream_executor/platform/default/dso_loader.cc:44] Successfully opened dynamic library libcufft.so.10\n",
      "2021-09-23 16:12:31.969816: I tensorflow/stream_executor/platform/default/dso_loader.cc:44] Successfully opened dynamic library libcurand.so.10\n",
      "2021-09-23 16:12:31.971784: I tensorflow/stream_executor/platform/default/dso_loader.cc:44] Successfully opened dynamic library libcusolver.so.10\n",
      "2021-09-23 16:12:31.972824: I tensorflow/stream_executor/platform/default/dso_loader.cc:44] Successfully opened dynamic library libcusparse.so.10\n",
      "2021-09-23 16:12:31.976944: I tensorflow/stream_executor/platform/default/dso_loader.cc:44] Successfully opened dynamic library libcudnn.so.7\n",
      "2021-09-23 16:12:31.978804: I tensorflow/core/common_runtime/gpu/gpu_device.cc:1703] Adding visible gpu devices: 0, 1\n"
     ]
    }
   ],
   "source": [
    "import tensorflow as tf\n",
    "import os\n",
    "\n",
    "gpus = tf.config.experimental.list_physical_devices('GPU')\n",
    "os.environ[\"CUDA_VISIBLE_DEVICES\"]=\"1\" # specify which GPU to use\n",
    "if gpus:\n",
    "  try:\n",
    "    for gpu in gpus:\n",
    "      tf.config.experimental.set_memory_growth(gpu, True)\n",
    "  except RuntimeError as e:\n",
    "    print(e)"
   ]
  },
  {
   "cell_type": "code",
   "execution_count": 2,
   "id": "497db9ff",
   "metadata": {},
   "outputs": [],
   "source": [
    "import torch\n",
    "from botorch.models import SingleTaskGP\n",
    "from botorch.fit import fit_gpytorch_model\n",
    "from gpytorch.mlls import ExactMarginalLogLikelihood\n",
    "from botorch.optim import optimize_acqf\n",
    "from botorch.acquisition import UpperConfidenceBound\n",
    "\n",
    "import time\n",
    "import numpy as np\n",
    "import matplotlib.pyplot as plt\n",
    "\n",
    "device = \"cpu\"  # for now, set device to CPU as the number of samples are small.\n",
    "dtype = torch.double\n",
    "NOISE_SE = 0.0"
   ]
  },
  {
   "cell_type": "code",
   "execution_count": 3,
   "id": "46f888cb",
   "metadata": {},
   "outputs": [
    {
     "name": "stderr",
     "output_type": "stream",
     "text": [
      "Using TensorFlow backend.\n"
     ]
    }
   ],
   "source": [
    "# Function that loads the saved weights in CNN.\n",
    "\n",
    "# input:\n",
    "# path: hdf5 file that saves the weights of a VGG16 network.\n",
    "\n",
    "# output:\n",
    "# model: Keras model with VGG16 architecture and the loaded weights.\n",
    "from keras import applications\n",
    "from keras.models import Sequential\n",
    "from keras.layers import Dropout, Flatten, Dense\n",
    "\n",
    "def loadCNNmodel(path):\n",
    "    model = applications.VGG16(weights=None, include_top=False, input_shape=(128, 128, 3))\n",
    "    print('Model loaded')\n",
    "    top_model = Sequential()\n",
    "    top_model.add(Flatten(input_shape=model.output_shape[1:]))\n",
    "    top_model.add(Dense(256, activation='relu'))\n",
    "    top_model.add(Dropout(0.0))\n",
    "    top_model.add(Dense(1,activation=None))\n",
    "    new_model = Sequential()\n",
    "\n",
    "    for l in model.layers:\n",
    "        new_model.add(l)\n",
    "\n",
    "    new_model.add(top_model)\n",
    "    new_model.load_weights(path)\n",
    "    print('CNN model loaded with weights.')\n",
    "    return new_model"
   ]
  },
  {
   "cell_type": "code",
   "execution_count": 4,
   "id": "fe8cdb8c",
   "metadata": {
    "collapsed": true
   },
   "outputs": [
    {
     "name": "stderr",
     "output_type": "stream",
     "text": [
      "2021-09-23 16:12:40.588960: I tensorflow/core/platform/cpu_feature_guard.cc:143] Your CPU supports instructions that this TensorFlow binary was not compiled to use: AVX2 AVX512F FMA\n",
      "2021-09-23 16:12:40.625041: I tensorflow/core/platform/profile_utils/cpu_utils.cc:102] CPU Frequency: 2200000000 Hz\n",
      "2021-09-23 16:12:40.629501: I tensorflow/compiler/xla/service/service.cc:168] XLA service 0x7f014c000b60 initialized for platform Host (this does not guarantee that XLA will be used). Devices:\n",
      "2021-09-23 16:12:40.629539: I tensorflow/compiler/xla/service/service.cc:176]   StreamExecutor device (0): Host, Default Version\n",
      "2021-09-23 16:12:40.883245: I tensorflow/compiler/xla/service/service.cc:168] XLA service 0x55f9016c7f40 initialized for platform CUDA (this does not guarantee that XLA will be used). Devices:\n",
      "2021-09-23 16:12:40.883308: I tensorflow/compiler/xla/service/service.cc:176]   StreamExecutor device (0): Quadro RTX 4000, Compute Capability 7.5\n",
      "2021-09-23 16:12:40.883321: I tensorflow/compiler/xla/service/service.cc:176]   StreamExecutor device (1): Quadro RTX 4000, Compute Capability 7.5\n",
      "2021-09-23 16:12:40.886981: I tensorflow/core/common_runtime/gpu/gpu_device.cc:1561] Found device 0 with properties: \n",
      "pciBusID: 0000:5b:00.0 name: Quadro RTX 4000 computeCapability: 7.5\n",
      "coreClock: 1.545GHz coreCount: 36 deviceMemorySize: 7.79GiB deviceMemoryBandwidth: 387.49GiB/s\n",
      "2021-09-23 16:12:40.888068: I tensorflow/core/common_runtime/gpu/gpu_device.cc:1561] Found device 1 with properties: \n",
      "pciBusID: 0000:9e:00.0 name: Quadro RTX 4000 computeCapability: 7.5\n",
      "coreClock: 1.545GHz coreCount: 36 deviceMemorySize: 7.79GiB deviceMemoryBandwidth: 387.49GiB/s\n",
      "2021-09-23 16:12:40.888142: I tensorflow/stream_executor/platform/default/dso_loader.cc:44] Successfully opened dynamic library libcudart.so.10.1\n",
      "2021-09-23 16:12:40.888170: I tensorflow/stream_executor/platform/default/dso_loader.cc:44] Successfully opened dynamic library libcublas.so.10\n",
      "2021-09-23 16:12:40.888197: I tensorflow/stream_executor/platform/default/dso_loader.cc:44] Successfully opened dynamic library libcufft.so.10\n",
      "2021-09-23 16:12:40.888220: I tensorflow/stream_executor/platform/default/dso_loader.cc:44] Successfully opened dynamic library libcurand.so.10\n",
      "2021-09-23 16:12:40.888242: I tensorflow/stream_executor/platform/default/dso_loader.cc:44] Successfully opened dynamic library libcusolver.so.10\n",
      "2021-09-23 16:12:40.888263: I tensorflow/stream_executor/platform/default/dso_loader.cc:44] Successfully opened dynamic library libcusparse.so.10\n",
      "2021-09-23 16:12:40.888286: I tensorflow/stream_executor/platform/default/dso_loader.cc:44] Successfully opened dynamic library libcudnn.so.7\n",
      "2021-09-23 16:12:40.892246: I tensorflow/core/common_runtime/gpu/gpu_device.cc:1703] Adding visible gpu devices: 0, 1\n",
      "2021-09-23 16:12:40.892308: I tensorflow/stream_executor/platform/default/dso_loader.cc:44] Successfully opened dynamic library libcudart.so.10.1\n",
      "2021-09-23 16:12:40.894392: I tensorflow/core/common_runtime/gpu/gpu_device.cc:1102] Device interconnect StreamExecutor with strength 1 edge matrix:\n",
      "2021-09-23 16:12:40.894414: I tensorflow/core/common_runtime/gpu/gpu_device.cc:1108]      0 1 \n",
      "2021-09-23 16:12:40.894424: I tensorflow/core/common_runtime/gpu/gpu_device.cc:1121] 0:   N Y \n",
      "2021-09-23 16:12:40.894433: I tensorflow/core/common_runtime/gpu/gpu_device.cc:1121] 1:   Y N \n",
      "2021-09-23 16:12:40.897445: I tensorflow/core/common_runtime/gpu/gpu_device.cc:1247] Created TensorFlow device (/job:localhost/replica:0/task:0/device:GPU:0 with 7407 MB memory) -> physical GPU (device: 0, name: Quadro RTX 4000, pci bus id: 0000:5b:00.0, compute capability: 7.5)\n",
      "2021-09-23 16:12:40.899320: I tensorflow/core/common_runtime/gpu/gpu_device.cc:1247] Created TensorFlow device (/job:localhost/replica:0/task:0/device:GPU:1 with 6551 MB memory) -> physical GPU (device: 1, name: Quadro RTX 4000, pci bus id: 0000:9e:00.0, compute capability: 7.5)\n"
     ]
    },
    {
     "name": "stdout",
     "output_type": "stream",
     "text": [
      "Model loaded\n",
      "CNN model loaded with weights.\n"
     ]
    }
   ],
   "source": [
    "model_path = '/home/chenyu/Desktop/CNNmeasurement/CoarseCNNtraining/VGG16/OptimalPar_newData/Test6_Normalize_HighCs_emitxdefocus/Attempt_03_emit+defocus_dropout_0.1/Final_model_2.h5'\n",
    "model = loadCNNmodel(model_path)"
   ]
  },
  {
   "cell_type": "code",
   "execution_count": 12,
   "id": "2af04524",
   "metadata": {},
   "outputs": [],
   "source": [
    "def scale_range(input, min, max):\n",
    "    input += -(np.min(input))\n",
    "    input /= np.max(input) / (max - min)\n",
    "    input += min\n",
    "    return input"
   ]
  },
  {
   "cell_type": "code",
   "execution_count": 95,
   "id": "05f95c68",
   "metadata": {},
   "outputs": [],
   "source": [
    "# the function to get the output from GPT\n",
    "# input:\n",
    "# x: coordinate in the parameter space to be observed, 1-by-6 numpy array with each number between [0,1].\n",
    "# model: Keras model that saves the CNN model to quantify the beam quality from GPT output.\n",
    "\n",
    "# output:\n",
    "# y: single number from CNN output, higher stands for better beam quality.\n",
    "import sys\n",
    "sys.path.insert(1, '/home/chenyu/Desktop/git/STEMalign/GPTrelated/')\n",
    "from uscope_calc import sim\n",
    "\n",
    "def get_GPT_output(x, model):\n",
    "    x_list = []\n",
    "    x_low = np.asarray([1000, -40, 387000, -685000, -3.7515e6, 119000, 640000])\n",
    "    x_high = np.asarray([2800, 40, 393000, -622500, -3.7495e6, 120300, 651000])\n",
    "    xlim, ylim, shadow = sim(\n",
    "        alpha = 1.0e-4*5,\n",
    "        S1 = 2.5e5,\n",
    "        S2 = 2.5e5,\n",
    "        H1 = x[0] * (x_high[0] - x_low[0]) + x_low[0],\n",
    "        H2 = x[0] * (x_high[0] - x_low[0]) + x_low[0] + x[1] * (x_high[1] - x_low[1]) + x_low[1],\n",
    "        S3 = x[4]* (x_high[5] - x_low[5]) + x_low[5],  # 119931.5,\n",
    "        S4 = x[5]* (x_high[6] - x_low[6]) + x_low[6],  # 648691.415,\n",
    "        S6 = x[2]* (x_high[2] - x_low[2]) + x_low[2],  # 390000,\n",
    "        S7 = x[3]* (x_high[3] - x_low[3]) + x_low[3],  # -654100.0\n",
    "        Obj = -3.7505e6,\n",
    "    )\n",
    "    frame = scale_range(shadow, 0, 1)\n",
    "    new_channel = np.zeros(frame.shape)\n",
    "    img_stack = np.dstack((frame, new_channel, new_channel))\n",
    "    x_list.append(img_stack)\n",
    "    x_list = np.concatenate([arr[np.newaxis] for arr in x_list])\n",
    "    prediction = model.predict(x_list, batch_size = 1)\n",
    "    # print(prediction)\n",
    "    return shadow, 1 - prediction[0][0]"
   ]
  },
  {
   "cell_type": "code",
   "execution_count": 99,
   "id": "a3058040",
   "metadata": {},
   "outputs": [],
   "source": [
    "# Function that generate n random data point with noise.\n",
    "\n",
    "# input:\n",
    "# n: number of datapoints to gerate\n",
    "def generate_initial_data(n):\n",
    "    # generate training data\n",
    "    train_x = torch.rand(n, 6, device=device, dtype=dtype)\n",
    "    output_y = [get_GPT_output(np.array(train_x[i,:]), model)[1] for i in range(n)]\n",
    "    train_y = torch.tensor(output_y).unsqueeze(-1)\n",
    "    train_y = train_y + NOISE_SE * torch.randn_like(train_y) if NOISE_SE else train_y\n",
    "    best_observed_value = train_x.max().item()\n",
    "    return train_x, train_y"
   ]
  },
  {
   "cell_type": "code",
   "execution_count": 100,
   "id": "a392c376",
   "metadata": {},
   "outputs": [],
   "source": [
    "# initialize training data and the model\n",
    "train_X, train_Y = generate_initial_data(n = 10)"
   ]
  },
  {
   "cell_type": "code",
   "execution_count": 57,
   "id": "551a89eb",
   "metadata": {},
   "outputs": [],
   "source": [
    "gp = SingleTaskGP(train_X, train_Y)\n",
    "mll = ExactMarginalLogLikelihood(gp.likelihood, gp)\n",
    "fit_gpytorch_model(mll)\n",
    "UCB = UpperConfidenceBound(gp, beta = 2)\n",
    "bounds = torch.stack([torch.zeros(6, device = device), torch.ones(6, device = device)])\n",
    "candidate, acq_value = optimize_acqf(\n",
    "        UCB, bounds=bounds, q=1, num_restarts=5, raw_samples=20,\n",
    "    )"
   ]
  },
  {
   "cell_type": "code",
   "execution_count": null,
   "id": "338a2367",
   "metadata": {},
   "outputs": [],
   "source": [
    "best_seen_rep = []\n",
    "time_list = []\n",
    "\n",
    "for irep in range(1):\n",
    "    \n",
    "    train_X, train_Y = generate_initial_data(n = 10)\n",
    "\n",
    "    gp = SingleTaskGP(train_X, train_Y)\n",
    "    mll = ExactMarginalLogLikelihood(gp.likelihood, gp)\n",
    "    fit_gpytorch_model(mll)\n",
    "    bounds = torch.stack([torch.zeros(6, device = device), torch.ones(6, device = device)])\n",
    "    best_observed_value = []\n",
    "    t0 = time.time()\n",
    "    \n",
    "    for iteration in range(10):\n",
    "\n",
    "        fit_gpytorch_model(mll)\n",
    "\n",
    "        UCB = UpperConfidenceBound(gp, beta = 2)    \n",
    "        candidate, acq_value = optimize_acqf(\n",
    "            UCB, bounds=bounds, q = 1, num_restarts=5, raw_samples=20,\n",
    "        )\n",
    "        new_x = candidate.detach()\n",
    "        print(new_x)\n",
    "        \n",
    "        result = get_GPT_output(np.array(new_x[0]), model)\n",
    "        new_y = torch.tensor(result[1]).unsqueeze(-1).unsqueeze(-1)\n",
    "        new_y = new_y + NOISE_SE * torch.randn_like(new_y) if NOISE_SE else new_y\n",
    "        train_X = torch.cat([train_X, new_x])\n",
    "        train_Y = torch.cat([train_Y, new_y])\n",
    "        best_value = np.array(new_y[0]) if not best_observed_value else max(np.array(new_y[0]), best_observed_value[-1])\n",
    "        best_observed_value.append(best_value)\n",
    "\n",
    "        # update GP model using dataset with new datapoint\n",
    "        gp = SingleTaskGP(train_X, train_Y)\n",
    "        mll = ExactMarginalLogLikelihood(gp.likelihood, gp)\n",
    "\n",
    "\n",
    "        print(iteration, best_value)\n",
    "        \n",
    "    time_list.append(time.time() - t0)\n",
    "    best_seen_rep.append(np.array(best_observed_value))"
   ]
  },
  {
   "cell_type": "code",
   "execution_count": 89,
   "id": "21712087",
   "metadata": {},
   "outputs": [
    {
     "name": "stdout",
     "output_type": "stream",
     "text": [
      "[0.77919181]\n"
     ]
    }
   ],
   "source": [
    "best_value = np.array(new_y[0]) if not best_observed_value else max(np.array(new_y[0]), best_observed_value[-1])\n",
    "print(best_value)"
   ]
  },
  {
   "cell_type": "code",
   "execution_count": 79,
   "id": "317549a2",
   "metadata": {},
   "outputs": [
    {
     "ename": "RuntimeError",
     "evalue": "torch.cat(): Tensors must have same number of dimensions: got 2 and 1",
     "output_type": "error",
     "traceback": [
      "\u001b[0;31m---------------------------------------------------------------------------\u001b[0m",
      "\u001b[0;31mRuntimeError\u001b[0m                              Traceback (most recent call last)",
      "\u001b[0;32m/tmp/ipykernel_1289863/2039740331.py\u001b[0m in \u001b[0;36m<module>\u001b[0;34m\u001b[0m\n\u001b[0;32m----> 1\u001b[0;31m \u001b[0mtorch\u001b[0m\u001b[0;34m.\u001b[0m\u001b[0mcat\u001b[0m\u001b[0;34m(\u001b[0m\u001b[0;34m[\u001b[0m\u001b[0mtrain_Y\u001b[0m\u001b[0;34m,\u001b[0m \u001b[0mnew_y\u001b[0m\u001b[0;34m.\u001b[0m\u001b[0munsqueeze\u001b[0m\u001b[0;34m(\u001b[0m\u001b[0;34m-\u001b[0m\u001b[0;36m1\u001b[0m\u001b[0;34m)\u001b[0m\u001b[0;34m]\u001b[0m\u001b[0;34m)\u001b[0m\u001b[0;34m\u001b[0m\u001b[0;34m\u001b[0m\u001b[0m\n\u001b[0m",
      "\u001b[0;31mRuntimeError\u001b[0m: torch.cat(): Tensors must have same number of dimensions: got 2 and 1"
     ]
    }
   ],
   "source": [
    "torch.cat([train_Y, new_y.unsqueeze(-1)])"
   ]
  },
  {
   "cell_type": "code",
   "execution_count": 77,
   "id": "1f1db3a5",
   "metadata": {},
   "outputs": [
    {
     "name": "stdout",
     "output_type": "stream",
     "text": [
      "torch.Size([1])\n"
     ]
    }
   ],
   "source": [
    "train_Y.shape\n",
    "print(new_y.unsqueeze(-1).shape)"
   ]
  },
  {
   "cell_type": "code",
   "execution_count": null,
   "id": "967c95b4",
   "metadata": {},
   "outputs": [],
   "source": [
    "np.mean(time_list)"
   ]
  },
  {
   "cell_type": "code",
   "execution_count": null,
   "id": "popular-elite",
   "metadata": {},
   "outputs": [],
   "source": []
  }
 ],
 "metadata": {
  "kernelspec": {
   "display_name": "Python 3 (ipykernel)",
   "language": "python",
   "name": "python3"
  },
  "language_info": {
   "codemirror_mode": {
    "name": "ipython",
    "version": 3
   },
   "file_extension": ".py",
   "mimetype": "text/x-python",
   "name": "python",
   "nbconvert_exporter": "python",
   "pygments_lexer": "ipython3",
   "version": "3.7.11"
  }
 },
 "nbformat": 4,
 "nbformat_minor": 5
}

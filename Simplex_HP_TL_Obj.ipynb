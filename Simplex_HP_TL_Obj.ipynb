{
 "cells": [
  {
   "cell_type": "code",
   "execution_count": 1,
   "id": "honest-hospital",
   "metadata": {},
   "outputs": [
    {
     "name": "stdout",
     "output_type": "stream",
     "text": [
      "failed to import parallelstuff\n"
     ]
    }
   ],
   "source": [
    "from __future__ import absolute_import\n",
    "from __future__ import division\n",
    "from __future__ import print_function\n",
    "import pickle\n",
    "import numpy as np\n",
    "from modules.bayes_optimization import BayesOpt, negUCB, negExpImprove\n",
    "from modules.OnlineGP import OGP\n",
    "import numpy as np\n",
    "import importlib\n",
    "import time\n",
    "import matplotlib.pyplot as plt\n",
    "from IPython.display import clear_output\n",
    "import sys\n",
    "import os\n",
    "sys.path.insert(1, '/home/chenyu/Desktop/GaussianProcess/GPTrelated')\n",
    "saveResultsQ = False\n",
    "import scipy\n",
    "import tensorflow as tf\n",
    "# %matplotlib qt\n",
    "# %matplotlib\n",
    "from scipy import optimize"
   ]
  },
  {
   "cell_type": "code",
   "execution_count": 2,
   "id": "adopted-spectacular",
   "metadata": {},
   "outputs": [],
   "source": [
    "gpus = tf.config.experimental.list_physical_devices('GPU')\n",
    "os.environ[\"CUDA_VISIBLE_DEVICES\"]=\"0\" # specify which GPU to use\n",
    "if gpus:\n",
    "  try:\n",
    "    for gpu in gpus:\n",
    "      tf.config.experimental.set_memory_growth(gpu, True)\n",
    "  except RuntimeError as e:\n",
    "    print(e)"
   ]
  },
  {
   "cell_type": "code",
   "execution_count": 29,
   "id": "interim-voluntary",
   "metadata": {},
   "outputs": [],
   "source": [
    "# free space from GPU device\n",
    "from numba import cuda\n",
    "cuda.select_device(0)\n",
    "cuda.close()"
   ]
  },
  {
   "cell_type": "code",
   "execution_count": 3,
   "id": "tight-springer",
   "metadata": {},
   "outputs": [],
   "source": [
    "def emittance(x):\n",
    "#     ndim = 7\n",
    "#     acquisition_delay = 0\n",
    "#     dev_ids =  [str(x+1) for x in np.arange(ndim)]\n",
    "#     mi_module = importlib.import_module('machine_interfaces.machine_interface_GPT')\n",
    "#     mi = mi_module.machine_interface(dev_ids = dev_ids, start_point = [x], CNNoption=1) \n",
    "    print(x)\n",
    "    mi.setX([x])\n",
    "    temp = -mi.getState()[1][0][0]\n",
    "    \n",
    "    return temp"
   ]
  },
  {
   "cell_type": "code",
   "execution_count": 10,
   "id": "british-samuel",
   "metadata": {},
   "outputs": [],
   "source": [
    "def run_simplex():\n",
    "    \n",
    "    max_iter = 500\n",
    "    xtol=1e-7\n",
    "    ftol = 1e-5\n",
    "    objective_s = []\n",
    "    quads = []\n",
    "    test = [1919.8043413403848, 1.5271977112107802, 388933.6391666969, \n",
    "                    -652306.4409192496, -3750605.96540601, 119325.35862931717, 640381.8436611011]\n",
    "    def store(x):\n",
    "        objective_s.append(-emittance(x))      \n",
    "        quads.append(x)\n",
    "        clear_output(wait=True)\n",
    "        f = plt.figure(figsize=(20,4))\n",
    "        ax = f.add_subplot(121)\n",
    "        ax2 = f.add_subplot(122)\n",
    "        ax.set_ylabel('Quads',fontsize=12)\n",
    "        ax.set_xlabel('iteration',fontsize=12)\n",
    "        ax.plot(quads)\n",
    "        ax2.set_ylabel('Obj_state_s',fontsize=12)\n",
    "        ax2.set_xlabel('iteration',fontsize=12)\n",
    "        ax2.plot(objective_s,marker='.',linestyle='-')\n",
    "        plt.show();\n",
    "        \n",
    "#     ndim = 7\n",
    "#     acquisition_delay = 0\n",
    "#     dev_ids =  [str(x+1) for x in np.arange(ndim)]\n",
    "#     mi_module = importlib.import_module('machine_interfaces.machine_interface_GPT')\n",
    "#     mi = mi_module.machine_interface(dev_ids = dev_ids, start_point = [x], CNNoption=1)\n",
    "    \n",
    "    output = optimize.fmin(emittance, test , maxiter=max_iter, callback = store, \n",
    "                           maxfun = max_iter,ftol=ftol,xtol=xtol,  initial_simplex=isim, disp=True,full_output=True)        \n",
    "#     \n",
    "    return quads,objective_s,output"
   ]
  },
  {
   "cell_type": "code",
   "execution_count": 20,
   "id": "stuck-freeware",
   "metadata": {},
   "outputs": [
    {
     "name": "stdout",
     "output_type": "stream",
     "text": [
      "Model loaded\n"
     ]
    }
   ],
   "source": [
    "test = [1919.8043413403848, 1.5271977112107802, 388933.6391666969, \n",
    "                -652306.4409192496, -3750605.96540601, 119325.35862931717, 640381.8436611011]\n",
    "ndim = 7\n",
    "acquisition_delay = 0\n",
    "dev_ids =  [str(x+1) for x in np.arange(ndim)]\n",
    "mi_module = importlib.import_module('machine_interfaces.machine_interface_GPT')\n",
    "mi = mi_module.machine_interface(dev_ids = dev_ids, start_point = [test], CNNoption=1)"
   ]
  },
  {
   "cell_type": "code",
   "execution_count": 24,
   "id": "interim-circus",
   "metadata": {},
   "outputs": [],
   "source": [
    "# hyperparameters determined using GPy for emittance from CNN\n",
    "ndim = 7\n",
    "gp_ls = np.array(np.ones(ndim)) * [0.485, 0.138, 0.634, 0.177, 0.976, 1.669, 1.230] * 700\n",
    "gp_amp = 0.0587\n",
    "gp_noise = 0.0587  # default = 0.001\n",
    "gp_precisionmat =  np.array(np.diag(1/(gp_ls**2)))\n",
    "hyps = [gp_precisionmat, np.log(gp_amp), np.log(gp_noise**2)] #format the hyperparams for the OGP\n",
    "gp = OGP(ndim, hyps,prmean=0)"
   ]
  },
  {
   "cell_type": "code",
   "execution_count": 25,
   "id": "concerned-width",
   "metadata": {},
   "outputs": [],
   "source": [
    "isim =np.zeros((len(gp_ls) + 1, len(gp_ls)))\n",
    "x = test\n",
    "isim[0, :] = x\n",
    "for i in range(len(x)):\n",
    "    vertex = np.zeros(len(x))\n",
    "    vertex[i] = gp_ls[i]\n",
    "    isim[i + 1, :] = x + vertex  #vertex"
   ]
  },
  {
   "cell_type": "code",
   "execution_count": 26,
   "id": "sitting-vegetable",
   "metadata": {},
   "outputs": [
    {
     "data": {
      "image/png": "[encoded data removed]",
      "text/plain": [
       "<Figure size 1440x288 with 2 Axes>"
      ]
     },
     "metadata": {
      "needs_background": "light"
     },
     "output_type": "display_data"
    },
    {
     "name": "stdout",
     "output_type": "stream",
     "text": [
      "Optimization terminated successfully.\n",
      "         Current function value: 0.283133\n",
      "         Iterations: 116\n",
      "         Function evaluations: 411\n"
     ]
    }
   ],
   "source": [
    "quads,objective_s,output = run_simplex()"
   ]
  },
  {
   "cell_type": "code",
   "execution_count": 27,
   "id": "apart-token",
   "metadata": {},
   "outputs": [
    {
     "name": "stdout",
     "output_type": "stream",
     "text": [
      "(115, 7)\n",
      "(115, 1)\n"
     ]
    }
   ],
   "source": [
    "temp = np.asarray(quads)\n",
    "temp2 = np.asarray(objective_s)\n",
    "temp2 = np.expand_dims(temp2, 1)\n",
    "print(temp.shape)\n",
    "print(temp2.shape)\n",
    "temp3 = np.concatenate((temp, temp2), axis = 1)\n",
    "np.save('HP-TL-Obj_1000e_UCB_2-0_Emit_300iter_oldWhiteNoise_01_simplex_140xWiderRange.npy',temp3)"
   ]
  },
  {
   "cell_type": "code",
   "execution_count": 23,
   "id": "under-warren",
   "metadata": {},
   "outputs": [
    {
     "data": {
      "text/plain": [
       "(73, 8)"
      ]
     },
     "execution_count": 23,
     "metadata": {},
     "output_type": "execute_result"
    }
   ],
   "source": [
    "temp3.shape"
   ]
  },
  {
   "cell_type": "code",
   "execution_count": null,
   "id": "knowing-summer",
   "metadata": {},
   "outputs": [],
   "source": []
  }
 ],
 "metadata": {
  "kernelspec": {
   "display_name": "Python 3",
   "language": "python",
   "name": "python3"
  },
  "language_info": {
   "codemirror_mode": {
    "name": "ipython",
    "version": 3
   },
   "file_extension": ".py",
   "mimetype": "text/x-python",
   "name": "python",
   "nbconvert_exporter": "python",
   "pygments_lexer": "ipython3",
   "version": "3.7.3"
  }
 },
 "nbformat": 4,
 "nbformat_minor": 5
}

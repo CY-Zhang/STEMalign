{
 "cells": [
  {
   "cell_type": "markdown",
   "metadata": {},
   "source": [
    "# Random Ronchigram generator"
   ]
  },
  {
   "cell_type": "markdown",
   "metadata": {},
   "source": [
    "**Note**: In order to use it on a specific machine, you should build machine interface (setX and get_state functions).\n"
   ]
  },
  {
   "cell_type": "code",
   "execution_count": 113,
   "metadata": {},
   "outputs": [],
   "source": [
    "import pickle\n",
    "import numpy as np\n",
    "import numpy as np\n",
    "import importlib\n",
    "import time\n",
    "import matplotlib.pyplot as plt\n",
    "from IPython.display import clear_output\n",
    "import sys\n",
    "import os\n",
    "import scipy\n",
    "import numpy as np\n",
    "import matplotlib.pyplot as plt\n",
    "# %matplotlib qt\n",
    "import hyperspy.api as hs\n",
    "from PIL import Image\n",
    "import cv2\n",
    "from cv2 import VideoWriter, VideoWriter_fourcc\n",
    "import glob\n",
    "import math"
   ]
  },
  {
   "cell_type": "code",
   "execution_count": 3,
   "metadata": {},
   "outputs": [
    {
     "name": "stderr",
     "output_type": "stream",
     "text": [
      "Using TensorFlow backend.\n"
     ]
    }
   ],
   "source": [
    "# CNN related libraries\n",
    "from keras import applications, optimizers, callbacks\n",
    "from keras.models import Sequential, load_model\n",
    "from keras.layers import Dropout, Flatten, Dense\n",
    "from keras.preprocessing.image import ImageDataGenerator\n",
    "from keras.callbacks import EarlyStopping\n",
    "import tensorflow as tf"
   ]
  },
  {
   "cell_type": "code",
   "execution_count": 4,
   "metadata": {},
   "outputs": [],
   "source": [
    "gpus = tf.config.experimental.list_physical_devices('GPU')\n",
    "if gpus:\n",
    "  try:\n",
    "    for gpu in gpus:\n",
    "      tf.config.experimental.set_memory_growth(gpu, True)\n",
    "  except RuntimeError as e:\n",
    "    print(e)\n",
    "os.environ[\"CUDA_VISIBLE_DEVICES\"]=\"0\""
   ]
  },
  {
   "cell_type": "markdown",
   "metadata": {},
   "source": [
    "## Get CNN model ready"
   ]
  },
  {
   "cell_type": "code",
   "execution_count": 5,
   "metadata": {},
   "outputs": [
    {
     "name": "stdout",
     "output_type": "stream",
     "text": [
      "Model loaded\n"
     ]
    }
   ],
   "source": [
    "# VGG16 model with self-defined top fully-connected layers\n",
    "# training data: 50,000 frames of simulated Ronchigrams, 70 mrad collection angle, 100 mrad simulation range, fine aberration range\n",
    "# training hyper-parameters: \n",
    "#  learning rate: 8.5e-5/5.5e-5\n",
    "#  decay: 1e-7\n",
    "#  momentum: 0.9\n",
    "#  batch size: 20\n",
    "#  training epoch: 50/100\n",
    "\n",
    "model = applications.VGG16(weights='imagenet', include_top=False, input_shape=(128, 128, 3))\n",
    "print('Model loaded')\n",
    "top_model = Sequential()\n",
    "top_model.add(Flatten(input_shape=model.output_shape[1:]))\n",
    "top_model.add(Dense(256, activation='relu'))\n",
    "top_model.add(Dropout(0.0))\n",
    "top_model.add(Dense(1,activation=None))\n",
    "\n",
    "new_model = Sequential()\n",
    "for l in model.layers:\n",
    "    new_model.add(l)\n",
    "new_model.add(top_model)\n",
    "new_model.load_weights('CoarseCNNtraining/VGG16/OptimalPar_newData/Test2_Normalize/Final_model.h5')\n",
    "model = new_model\n",
    "del top_model, new_model"
   ]
  },
  {
   "cell_type": "code",
   "execution_count": 6,
   "metadata": {},
   "outputs": [],
   "source": [
    "def scale_range (input, min, max):\n",
    "    input += -(np.min(input))\n",
    "    input /= np.max(input) / (max - min)\n",
    "    input += min\n",
    "    return input  "
   ]
  },
  {
   "cell_type": "code",
   "execution_count": 235,
   "metadata": {},
   "outputs": [],
   "source": [
    "# Read in the experimental image seires\n",
    "%matplotlib qt\n",
    "temp = hs.load(\"ExperimentalData/030221/Ceta_CarbonSupport_0.064s/A1series_1.ser\")\n",
    "# temp = hs.load(\"ExperimentalData/030221/Ceta_CarbonSupport_0.064s/A2series_1.ser\")\n",
    "# temp = hs.load(\"ExperimentalData/030221/Ceta_CarbonSupport_0.064s/B2series_1.ser\")\n",
    "# temp = hs.load(\"ExperimentalData/030221/Ceta_CarbonSupport_0.064s/C3series_1.ser\")\n",
    "# temp = hs.load(\"ExperimentalData/030221/Ceta_CarbonSupport_0.064s/A3series_1.ser\")\n",
    "# temp = hs.load(\"ExperimentalData/030221/Ceta_CarbonSupport_0.064s/S3series_1.ser\")\n",
    "# temp.plot()"
   ]
  },
  {
   "cell_type": "code",
   "execution_count": 249,
   "metadata": {},
   "outputs": [],
   "source": [
    "# Cell to save video\n",
    "temp_npy = np.asarray(temp)\n",
    "index = np.where(temp_npy[:,128,128]!=0)\n",
    "temp_npy_cropped = temp_npy[index,128-105:128+105, 128-105:128+105]\n",
    "temp_npy_cropped = np.squeeze(temp_npy_cropped)\n",
    "temp_npy_cropped[temp_npy_cropped>3000] = 3000\n",
    "temp_npy_cropped[temp_npy_cropped<1500] = 1500\n",
    "\n",
    "FPS = 24\n",
    "width = 210\n",
    "height = 210\n",
    "\n",
    "frameSize = (210, 210)\n",
    "fourcc = VideoWriter_fourcc(*'MP42')\n",
    "fourcc = cv2.VideoWriter_fourcc('m', 'p', '4', 'v')  \n",
    "path = \"ExprertimentalData/030221/Ceta_CarbonSupport_0.064s/\"\n",
    "video = cv2.VideoWriter('A1.mov',cv2.VideoWriter_fourcc(*'MP42'), 24, frameSize)\n",
    "\n",
    "for i in range(temp_npy_cropped.shape[0]):\n",
    "    frame = temp_npy_cropped[i, :,:]\n",
    "    frame = (frame - np.amin(frame))/(np.amax(frame) - np.amin(frame)) * 255\n",
    "    frame = frame.astype('uint8')\n",
    "    frame = np.dstack((frame, frame, frame))\n",
    "    video.write(frame)"
   ]
  },
  {
   "cell_type": "code",
   "execution_count": 237,
   "metadata": {},
   "outputs": [
    {
     "name": "stdout",
     "output_type": "stream",
     "text": [
      "(219, 210, 210)\n"
     ]
    }
   ],
   "source": [
    "temp_npy = np.asarray(temp)\n",
    "index = np.where(temp_npy[:,128,128]!=0)\n",
    "temp_npy_cropped = temp_npy[index,128-105:128+105, 128-105:128+105]\n",
    "temp_npy_cropped = np.squeeze(temp_npy_cropped)\n",
    "print(temp_npy_cropped.shape)\n",
    "x_list = []\n",
    "for i in range(temp_npy_cropped.shape[0]):\n",
    "    frame = temp_npy_cropped[i,:,:]\n",
    "    frame[frame>3000] = 3000\n",
    "    frame[frame<2000] = 1500\n",
    "    frame = scale_range(frame.astype('float'), 0, 1)\n",
    "    frame = np.array(Image.fromarray(frame).resize(size=(128,128)))\n",
    "    new_channel = np.zeros(frame.shape)\n",
    "    img_stack = np.dstack((frame, new_channel, new_channel))\n",
    "    x_list.append(img_stack)\n",
    "    \n",
    "x_list = np.concatenate([arr[np.newaxis] for arr in x_list])\n",
    "prediction =model.predict(x_list, batch_size = 10)"
   ]
  },
  {
   "cell_type": "code",
   "execution_count": 241,
   "metadata": {},
   "outputs": [
    {
     "data": {
      "text/plain": [
       "Text(0, 0.5, 'CNN $\\\\epsilon_\\\\chi$ (pm•rad)')"
      ]
     },
     "execution_count": 241,
     "metadata": {},
     "output_type": "execute_result"
    }
   ],
   "source": [
    "# Plot the overall trend\n",
    "\n",
    "# B2_list = np.linspace(1e-6, -1e-6, num=temp_npy_cropped.shape[0])\n",
    "A1_list = np.linspace(1e-7, -1e-7, num=temp_npy_cropped.shape[0])\n",
    "# A2_list = np.linspace(1e-6, -1e-6, num=temp_npy_cropped.shape[0])\n",
    "# C3_list = np.linspace(100e-6, -100e-6, num=temp_npy_cropped.shape[0])\n",
    "# A3_list = np.linspace(1.5e-6, -1.5e-6, num=temp_npy_cropped.shape[0])\n",
    "# S3_list = np.linspace(10e-6, -10e-6, num=temp_npy_cropped.shape[0])\n",
    "emit_list = A1_list * 0\n",
    "for i in range(len(emit_list)):\n",
    "    emit_list[i] = CalcEmittance(A1 = A1_list[i])\n",
    "    \n",
    "fig = plt.figure(figsize=[8,6])\n",
    "plt.plot(prediction*468.3, label='CNN prediction')\n",
    "plt.plot(np.linspace(12, 12 + len(emit_list), num=len(emit_list)), emit_list, label = 'Theory')\n",
    "# plt.legend(fontsize=20)\n",
    "plt.xticks(fontsize=16)\n",
    "plt.yticks(fontsize=16)\n",
    "plt.xlabel('Frame Number', fontsize = 16)\n",
    "plt.ylabel('CNN $\\epsilon_\\chi$ (pm\\u2022rad)', fontsize=16)\n"
   ]
  },
  {
   "cell_type": "code",
   "execution_count": 185,
   "metadata": {},
   "outputs": [
    {
     "data": {
      "text/plain": [
       "(array([    0., 10000., 20000., 30000., 40000., 50000., 60000., 70000.,\n",
       "        80000.]),\n",
       " [Text(0, 0, ''),\n",
       "  Text(0, 0, ''),\n",
       "  Text(0, 0, ''),\n",
       "  Text(0, 0, ''),\n",
       "  Text(0, 0, ''),\n",
       "  Text(0, 0, ''),\n",
       "  Text(0, 0, ''),\n",
       "  Text(0, 0, ''),\n",
       "  Text(0, 0, '')])"
      ]
     },
     "execution_count": 185,
     "metadata": {},
     "output_type": "execute_result"
    }
   ],
   "source": [
    "fig = plt.figure(figsize = (8,6))\n",
    "\n",
    "temp_npy = np.asarray(temp)\n",
    "index = np.where(temp_npy[:,128,128]!=0)\n",
    "temp_npy_cropped = temp_npy[index,128-105:128+105, 128-105:128+105]\n",
    "data = temp_npy_cropped[:,:,:]  # deterministic random data\n",
    "plt.hist(np.ndarray.flatten(data), bins='auto')\n",
    "plt.ylabel('Occurance', fontsize = 16)\n",
    "plt.xlabel('Pixel Intensity', fontsize = 16)\n",
    "plt.xticks(fontsize=16)\n",
    "plt.yticks(fontsize=16)"
   ]
  },
  {
   "cell_type": "code",
   "execution_count": 77,
   "metadata": {},
   "outputs": [],
   "source": [
    "# Calculate theoretical emittance\n",
    "def CalcEmittance(A1=0, A2=0, B2=0, C3=0, A3=0, S3=0):\n",
    "    \n",
    "    simdim = 40 # collection limit in mrad\n",
    "    imdim = 128 # pixel size of the grid\n",
    "    ap_size = 40 # emittance aperture size in unit of mrad\n",
    "    px_size = simdim / (imdim/2) # pixel size in mrad\n",
    "    px_size = px_size / 1000 # pixel size in rad\n",
    "\n",
    "    # Generate angle grid, in unit of radian\n",
    "    x = np.linspace(-simdim / 1000, simdim / 1000, imdim)\n",
    "    y = np.linspace(-simdim / 1000, simdim / 1000, imdim)\n",
    "    xv, yv = np.meshgrid(x, y)\n",
    "\n",
    "    # Generate aberration grid, 3.19e12 comes from 2*pi/lambda, in unit of m^-1\n",
    "    abr = xv * 0\n",
    "    abr = abr + A1 * xv * yv\n",
    "    abr = abr + A2 * yv * (yv ** 2 - 3 * xv ** 2) / 3\n",
    "    abr = abr + B2 * xv * (xv ** 2 + yv ** 2)\n",
    "    abr = abr + C3 * (xv ** 2 + yv ** 2) ** 2 / 4\n",
    "    abr = abr + A3 * (xv * yv ** 3 + xv ** 3 * yv)\n",
    "    abr = abr + S3 * (xv ** 2 + yv ** 2) * xv * yv * 2\n",
    "    abr = abr * 3.19e12\n",
    "    \n",
    "    abr_gradient = np.gradient(abr)\n",
    "    abr_gradient[0], abr_gradient[1] = abr_gradient[0] / px_size, abr_gradient[1] / px_size\n",
    "\n",
    "    # Calculate aperture factor and mask, for 40 mrad\n",
    "    apt_fact = 1/math.pi/(ap_size/1000)/(ap_size/1000) # factor from aperture, correspond to A^2\n",
    "    apt_mask = np.sqrt(xv*xv + yv*yv) < (ap_size / 1000) # aperture mask\n",
    "    apt_mask = apt_mask * apt_fact # absorb the A^2 factor from the aperture into the aperture mask\n",
    "\n",
    "    # calculte the three integrals numerically by adding up within aperture mask\n",
    "    emit_1 = np.sum(apt_mask*(abr_gradient[0]*abr_gradient[0] + abr_gradient[1]*abr_gradient[1])) * px_size**2\n",
    "    emit_2 = np.sum(apt_mask*(xv*xv + yv*yv)) * px_size**2\n",
    "    emit_3 = np.sum(apt_mask*(abr_gradient[0]*yv + abr_gradient[1]*xv)) * px_size**2\n",
    "    emit = np.sqrt(emit_1 * emit_2 - emit_3 * emit_3)\n",
    "    \n",
    "    return emit"
   ]
  },
  {
   "cell_type": "code",
   "execution_count": null,
   "metadata": {},
   "outputs": [],
   "source": [
    "import matplotlib\n",
    "matplotlib.use('Agg')\n",
    "# generate and save image series\n",
    "path = \"ExperimentalData/030221/Ceta_CarbonSupport_0.064s/C3series/\"\n",
    "for i in range(temp_npy_cropped.shape[0]):\n",
    "    frame = temp_npy_cropped[i,:,:]\n",
    "    frame = scale_range(frame.astype('float'), 0, 255)\n",
    "    frame = np.array(Image.fromarray(frame).resize(size=(128,128)))\n",
    "    \n",
    "    fig = plt.figure(figsize=[15,7])\n",
    "    ax1 = plt.subplot(121)\n",
    "    ax1.imshow(frame, extent=[-40,40,-40,40])\n",
    "    plt.xticks(fontsize=16)\n",
    "    plt.yticks(fontsize=16)\n",
    "    \n",
    "    ax2 = plt.subplot(122)\n",
    "    ax2.plot(prediction*468.3)\n",
    "    plt.xticks(fontsize=16)\n",
    "    plt.yticks(fontsize=16)\n",
    "    plt.xlabel('Frame Number', fontsize = 16)\n",
    "    plt.ylabel('CNN $\\epsilon_\\chi$ (pm\\u2022rad)', fontsize=16)\n",
    "    ax2.scatter(i, prediction[i]*468.3, c='r', zorder=1)\n",
    "    plt.savefig(path + \"{:0>3d}\".format(i)+\".png\")\n",
    "#     cv2.imwrite(\"ExperimentalData/022721/RonchigramSeries/A2series4/\"+\"{:0>3d}\".format(i)+\".png\", frame)"
   ]
  },
  {
   "cell_type": "code",
   "execution_count": 99,
   "metadata": {},
   "outputs": [
    {
     "data": {
      "text/plain": [
       "<matplotlib.image.AxesImage at 0x7f7bc0660e48>"
      ]
     },
     "execution_count": 99,
     "metadata": {},
     "output_type": "execute_result"
    }
   ],
   "source": [
    "frame = cv2.imread(os.path.join(image_folder, images[100])) \n",
    "plt.imshow(frame)"
   ]
  },
  {
   "cell_type": "code",
   "execution_count": 96,
   "metadata": {},
   "outputs": [],
   "source": [
    "# Make the image series into a video\n",
    "image_folder = 'ExperimentalData/022721/RonchigramSeries/A2series4/.' # make sure to use your folder \n",
    "video_name = 'mygeneratedvideo.avi'\n",
    "# os.chdir(\"C:\\\\Python\\\\Geekfolder2\") \n",
    "\n",
    "images = [img for img in os.listdir(image_folder) \n",
    "          if img.endswith(\".jpg\") or\n",
    "             img.endswith(\".jpeg\") or\n",
    "             img.endswith(\"png\")] \n",
    "\n",
    "# Array images should only consider \n",
    "# the image files ignoring others if any \n",
    "images.sort()\n",
    "# print(images)  \n",
    "\n",
    "frame = cv2.imread(os.path.join(image_folder, images[0])) \n",
    "\n",
    "# setting the frame width, height width \n",
    "# the width, height of first image \n",
    "height, width, layers = frame.shape   \n",
    "\n",
    "video = cv2.VideoWriter(video_name, 0, 1, (width, height))  \n",
    "\n",
    "# Appending the images to the video one by one \n",
    "for image in images:  \n",
    "    video.write(cv2.imread(os.path.join(image_folder, image)))  \n",
    "\n",
    "# Deallocating memories taken for window creation \n",
    "# cv2.destroyAllWindows()  \n",
    "video.release()  # releasing the video generated "
   ]
  },
  {
   "cell_type": "code",
   "execution_count": 29,
   "metadata": {},
   "outputs": [
    {
     "data": {
      "image/png": "[encoded data removed]",
      "text/plain": [
       "<Figure size 720x288 with 1 Axes>"
      ]
     },
     "metadata": {
      "needs_background": "light"
     },
     "output_type": "display_data"
    },
    {
     "name": "stdout",
     "output_type": "stream",
     "text": [
      "[156 159 153]\n"
     ]
    }
   ],
   "source": [
    "# Find the radius of the aperture to calibrate diffraction pattern pixel size\n",
    "from skimage import data, color\n",
    "from skimage.transform import hough_circle, hough_circle_peaks\n",
    "from skimage.feature import canny\n",
    "from skimage.draw import circle_perimeter\n",
    "from skimage.util import img_as_ubyte\n",
    "\n",
    "\n",
    "# Load picture and detect edges\n",
    "temp_npy = np.asarray(temp)\n",
    "integrated = np.sum(temp_npy, axis=0)\n",
    "image = img_as_ubyte(integrated/np.amax(integrated))\n",
    "edges = canny(image, sigma=3, low_threshold=10, high_threshold=50)\n",
    "\n",
    "\n",
    "# Detect two radii\n",
    "hough_radii = np.arange(150, 200, 1)\n",
    "hough_res = hough_circle(edges, hough_radii)\n",
    "\n",
    "# Select the most prominent 3 circles\n",
    "accums, cx, cy, radii = hough_circle_peaks(hough_res, hough_radii,\n",
    "                                           total_num_peaks=3)\n",
    "\n",
    "# Draw them\n",
    "fig, ax = plt.subplots(ncols=1, nrows=1, figsize=(10, 4))\n",
    "image = color.gray2rgb(image)\n",
    "for center_y, center_x, radius in zip(cy, cx, radii):\n",
    "    circy, circx = circle_perimeter(center_y, center_x, radius,\n",
    "                                    shape=image.shape)\n",
    "    image[circy, circx] = (220, 20, 20)\n",
    "\n",
    "ax.imshow(image, cmap=plt.cm.gray)\n",
    "plt.show()\n",
    "print(radii)"
   ]
  },
  {
   "cell_type": "code",
   "execution_count": null,
   "metadata": {},
   "outputs": [],
   "source": []
  }
 ],
 "metadata": {
  "kernelspec": {
   "display_name": "Python 3",
   "language": "python",
   "name": "python3"
  },
  "language_info": {
   "codemirror_mode": {
    "name": "ipython",
    "version": 3
   },
   "file_extension": ".py",
   "mimetype": "text/x-python",
   "name": "python",
   "nbconvert_exporter": "python",
   "pygments_lexer": "ipython3",
   "version": "3.7.3"
  }
 },
 "nbformat": 4,
 "nbformat_minor": 4
}

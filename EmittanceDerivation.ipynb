{
 "cells": [
  {
   "cell_type": "code",
   "execution_count": 2,
   "id": "completed-webmaster",
   "metadata": {},
   "outputs": [],
   "source": [
    "import numpy as np\n",
    "import sympy as sym"
   ]
  },
  {
   "cell_type": "code",
   "execution_count": 55,
   "id": "completed-wright",
   "metadata": {},
   "outputs": [],
   "source": [
    "# define variables\n",
    "# altitude alpha and azimuth phi for the polar coordinate\n",
    "a = sym.Symbol('alpha')\n",
    "phi = sym.Symbol('phi')\n",
    "# m and n in Krivenek notation\n",
    "n = sym.Symbol('m')\n",
    "m = sym.Symbol('n')\n",
    "# a0 for the aperture limit\n",
    "a0 = sym.Symbol('alpha_0')"
   ]
  },
  {
   "cell_type": "code",
   "execution_count": 194,
   "id": "comparative-simulation",
   "metadata": {},
   "outputs": [
    {
     "name": "stdout",
     "output_type": "stream",
     "text": [
      "C_10\n",
      "C_12\n",
      "C_21\n",
      "C_23\n",
      "C_30\n",
      "C_32\n",
      "C_34\n"
     ]
    },
    {
     "data": {
      "text/latex": [
       "$\\displaystyle \\frac{C_{10} \\alpha^{2}}{2} + \\frac{C_{12} \\alpha^{2} \\cos{\\left(2 \\phi \\right)}}{2} + \\frac{C_{21} \\alpha^{3} \\cos{\\left(\\phi \\right)}}{3} + \\frac{C_{23} \\alpha^{3} \\cos{\\left(3 \\phi \\right)}}{3} + \\frac{C_{30} \\alpha^{4}}{4} + \\frac{C_{32} \\alpha^{4} \\cos{\\left(2 \\phi \\right)}}{4} + \\frac{C_{34} \\alpha^{4} \\cos{\\left(4 \\phi \\right)}}{4}$"
      ],
      "text/plain": [
       "C_10*alpha**2/2 + C_12*alpha**2*cos(2*phi)/2 + C_21*alpha**3*cos(phi)/3 + C_23*alpha**3*cos(3*phi)/3 + C_30*alpha**4/4 + C_32*alpha**4*cos(2*phi)/4 + C_34*alpha**4*cos(4*phi)/4"
      ]
     },
     "execution_count": 194,
     "metadata": {},
     "output_type": "execute_result"
    }
   ],
   "source": [
    "# calculate aberration function chi, up to n = 5 \n",
    "chi = 0\n",
    "# define the maximum order to be considered in the aberration function\n",
    "order = 3\n",
    "# define len = 5 list to save all the Cnm\n",
    "C = [None] * order\n",
    "for idx_n in range(order):\n",
    "    n = idx_n + 1\n",
    "    # find all possible m for a given n\n",
    "    m_list = []\n",
    "    i = n + 1\n",
    "    while i >= 0:\n",
    "        m_list.append(i)\n",
    "        i -= 2\n",
    "    # reverse the order of m_list so that it start with small number\n",
    "    m_list = m_list[::-1]\n",
    "    Cn = [None] * len(m_list)\n",
    "    for idx_m in range(len(m_list)):\n",
    "        Cnm_str = 'C_' + str(n) + str(m_list[idx_m])\n",
    "        print(Cnm_str)\n",
    "        Cn[idx_m] = sym.Symbol(Cnm_str)\n",
    "        chi += sym.cos(m_list[idx_m]*phi)/(n+1)*a**(n+1)*Cn[idx_m]\n",
    "    C[idx_n] = Cn\n",
    "chi"
   ]
  },
  {
   "cell_type": "code",
   "execution_count": 195,
   "id": "preliminary-witch",
   "metadata": {},
   "outputs": [],
   "source": [
    "# vector for gradient of chi\n",
    "g = [sym.diff(chi,a), sym.diff(chi,phi)]\n",
    "# vector for coordinate in k space\n",
    "ang = [a, phi]"
   ]
  },
  {
   "cell_type": "code",
   "execution_count": 196,
   "id": "outer-armor",
   "metadata": {},
   "outputs": [
    {
     "data": {
      "text/latex": [
       "$\\displaystyle C_{10} \\alpha + C_{12} \\alpha \\cos{\\left(2 \\phi \\right)} + C_{21} \\alpha^{2} \\cos{\\left(\\phi \\right)} + C_{23} \\alpha^{2} \\cos{\\left(3 \\phi \\right)} + C_{30} \\alpha^{3} + C_{32} \\alpha^{3} \\cos{\\left(2 \\phi \\right)} + C_{34} \\alpha^{3} \\cos{\\left(4 \\phi \\right)}$"
      ],
      "text/plain": [
       "C_10*alpha + C_12*alpha*cos(2*phi) + C_21*alpha**2*cos(phi) + C_23*alpha**2*cos(3*phi) + C_30*alpha**3 + C_32*alpha**3*cos(2*phi) + C_34*alpha**3*cos(4*phi)"
      ]
     },
     "execution_count": 196,
     "metadata": {},
     "output_type": "execute_result"
    }
   ],
   "source": [
    "g[0]"
   ]
  },
  {
   "cell_type": "code",
   "execution_count": 197,
   "id": "german-rachel",
   "metadata": {},
   "outputs": [
    {
     "data": {
      "text/latex": [
       "$\\displaystyle - C_{12} \\alpha^{2} \\sin{\\left(2 \\phi \\right)} - \\frac{C_{21} \\alpha^{3} \\sin{\\left(\\phi \\right)}}{3} - C_{23} \\alpha^{3} \\sin{\\left(3 \\phi \\right)} - \\frac{C_{32} \\alpha^{4} \\sin{\\left(2 \\phi \\right)}}{2} - C_{34} \\alpha^{4} \\sin{\\left(4 \\phi \\right)}$"
      ],
      "text/plain": [
       "-C_12*alpha**2*sin(2*phi) - C_21*alpha**3*sin(phi)/3 - C_23*alpha**3*sin(3*phi) - C_32*alpha**4*sin(2*phi)/2 - C_34*alpha**4*sin(4*phi)"
      ]
     },
     "execution_count": 197,
     "metadata": {},
     "output_type": "execute_result"
    }
   ],
   "source": [
    "g[1]"
   ]
  },
  {
   "cell_type": "code",
   "execution_count": 198,
   "id": "valued-reminder",
   "metadata": {},
   "outputs": [
    {
     "data": {
      "text/latex": [
       "$\\displaystyle \\alpha$"
      ],
      "text/plain": [
       "alpha"
      ]
     },
     "execution_count": 198,
     "metadata": {},
     "output_type": "execute_result"
    }
   ],
   "source": [
    "ang[0]"
   ]
  },
  {
   "cell_type": "code",
   "execution_count": 199,
   "id": "homeless-concentration",
   "metadata": {},
   "outputs": [
    {
     "data": {
      "text/latex": [
       "$\\displaystyle \\phi$"
      ],
      "text/plain": [
       "phi"
      ]
     },
     "execution_count": 199,
     "metadata": {},
     "output_type": "execute_result"
    }
   ],
   "source": [
    "ang[1]"
   ]
  },
  {
   "cell_type": "code",
   "execution_count": 221,
   "id": "increasing-prince",
   "metadata": {},
   "outputs": [
    {
     "data": {
      "text/latex": [
       "$\\displaystyle \\frac{\\alpha_{0}^{7} \\left(C_{32}^{2} + 4 C_{34}^{2}\\right)}{36} + \\frac{\\alpha_{0}^{5} \\left(9 C_{12} C_{32} + C_{21}^{2} + 9 C_{23}^{2} + 18 C_{30}^{2} + 9 C_{32}^{2} + 9 C_{34}^{2}\\right)}{63} + \\frac{\\alpha_{0}^{3} \\left(4 C_{10} C_{30} + C_{12}^{2} + 2 C_{12} C_{32} + C_{21}^{2} + C_{23}^{2}\\right)}{5} + \\frac{\\alpha_{0} \\left(2 C_{10}^{2} + C_{12}^{2}\\right)}{3}$"
      ],
      "text/plain": [
       "alpha_0**7*(C_32**2 + 4*C_34**2)/36 + alpha_0**5*(9*C_12*C_32 + C_21**2 + 9*C_23**2 + 18*C_30**2 + 9*C_32**2 + 9*C_34**2)/63 + alpha_0**3*(4*C_10*C_30 + C_12**2 + 2*C_12*C_32 + C_21**2 + C_23**2)/5 + alpha_0*(2*C_10**2 + C_12**2)/3"
      ]
     },
     "execution_count": 221,
     "metadata": {},
     "output_type": "execute_result"
    }
   ],
   "source": [
    "# calculate three integrations for emittance\n",
    "emit1 = (g[0]*g[0] + g[1]*g[1])/(sym.pi * a0 * a0)\n",
    "emit1 = sym.integrate(emit1, (phi, 0, sym.pi * 2))\n",
    "emit1 = sym.integrate(emit1, (a, 0, a0))\n",
    "emit1"
   ]
  },
  {
   "cell_type": "code",
   "execution_count": 222,
   "id": "buried-transcription",
   "metadata": {},
   "outputs": [
    {
     "data": {
      "text/latex": [
       "$\\displaystyle \\frac{2 \\alpha_{0}}{3} + \\frac{8 \\pi^{2}}{3 \\alpha_{0}}$"
      ],
      "text/plain": [
       "2*alpha_0/3 + 8*pi**2/(3*alpha_0)"
      ]
     },
     "execution_count": 222,
     "metadata": {},
     "output_type": "execute_result"
    }
   ],
   "source": [
    "emit2 = (ang[0]*ang[0] + ang[1]*ang[1])/(sym.pi * a0 * a0)\n",
    "emit2 = sym.integrate(emit2, (phi, 0, sym.pi * 2))\n",
    "emit2 = sym.integrate(emit2, (a, 0, a0))\n",
    "emit2"
   ]
  },
  {
   "cell_type": "code",
   "execution_count": 223,
   "id": "solar-asian",
   "metadata": {},
   "outputs": [
    {
     "data": {
      "text/latex": [
       "$\\displaystyle \\frac{\\alpha_{0}^{3} \\left(4 C_{30} + C_{32} + C_{34}\\right)}{10} + \\frac{\\alpha_{0}^{2} \\left(C_{21} + C_{23}\\right)}{6} + \\frac{\\alpha_{0} \\left(2 C_{10} + C_{12}\\right)}{3}$"
      ],
      "text/plain": [
       "alpha_0**3*(4*C_30 + C_32 + C_34)/10 + alpha_0**2*(C_21 + C_23)/6 + alpha_0*(2*C_10 + C_12)/3"
      ]
     },
     "execution_count": 223,
     "metadata": {},
     "output_type": "execute_result"
    }
   ],
   "source": [
    "emit3 = (ang[0]*g[0] + ang[1]*g[1])/(sym.pi * a0 * a0)\n",
    "emit3 = sym.integrate(emit3, (phi, 0, sym.pi * 2))\n",
    "emit3 = sym.integrate(emit3, (a, 0, a0))\n",
    "emit3"
   ]
  },
  {
   "cell_type": "code",
   "execution_count": 224,
   "id": "handled-lunch",
   "metadata": {},
   "outputs": [
    {
     "data": {
      "text/latex": [
       "$\\displaystyle \\frac{16 \\pi^{2} C_{10}^{2}}{9} - \\frac{4 C_{10} C_{12} \\alpha_{0}^{2}}{9} - \\frac{2 C_{10} C_{21} \\alpha_{0}^{3}}{9} - \\frac{2 C_{10} C_{23} \\alpha_{0}^{3}}{9} + \\frac{32 \\pi^{2} C_{10} C_{30} \\alpha_{0}^{2}}{15} - \\frac{2 C_{10} C_{32} \\alpha_{0}^{4}}{15} - \\frac{2 C_{10} C_{34} \\alpha_{0}^{4}}{15} + \\frac{2 C_{12}^{2} \\alpha_{0}^{4}}{15} + \\frac{C_{12}^{2} \\alpha_{0}^{2}}{9} + \\frac{8 \\pi^{2} C_{12}^{2} \\alpha_{0}^{2}}{15} + \\frac{8 \\pi^{2} C_{12}^{2}}{9} - \\frac{C_{12} C_{21} \\alpha_{0}^{3}}{9} - \\frac{C_{12} C_{23} \\alpha_{0}^{3}}{9} - \\frac{4 C_{12} C_{30} \\alpha_{0}^{4}}{15} + \\frac{2 C_{12} C_{32} \\alpha_{0}^{6}}{21} + \\frac{C_{12} C_{32} \\alpha_{0}^{4}}{5} + \\frac{8 \\pi^{2} C_{12} C_{32} \\alpha_{0}^{4}}{21} + \\frac{16 \\pi^{2} C_{12} C_{32} \\alpha_{0}^{2}}{15} - \\frac{C_{12} C_{34} \\alpha_{0}^{4}}{15} + \\frac{2 C_{21}^{2} \\alpha_{0}^{6}}{189} + \\frac{19 C_{21}^{2} \\alpha_{0}^{4}}{180} + \\frac{8 \\pi^{2} C_{21}^{2} \\alpha_{0}^{4}}{189} + \\frac{8 \\pi^{2} C_{21}^{2} \\alpha_{0}^{2}}{15} - \\frac{C_{21} C_{23} \\alpha_{0}^{4}}{18} - \\frac{2 C_{21} C_{30} \\alpha_{0}^{5}}{15} - \\frac{C_{21} C_{32} \\alpha_{0}^{5}}{30} - \\frac{C_{21} C_{34} \\alpha_{0}^{5}}{30} + \\frac{2 C_{23}^{2} \\alpha_{0}^{6}}{21} + \\frac{19 C_{23}^{2} \\alpha_{0}^{4}}{180} + \\frac{8 \\pi^{2} C_{23}^{2} \\alpha_{0}^{4}}{21} + \\frac{8 \\pi^{2} C_{23}^{2} \\alpha_{0}^{2}}{15} - \\frac{2 C_{23} C_{30} \\alpha_{0}^{5}}{15} - \\frac{C_{23} C_{32} \\alpha_{0}^{5}}{30} - \\frac{C_{23} C_{34} \\alpha_{0}^{5}}{30} + \\frac{16 C_{30}^{2} \\alpha_{0}^{6}}{525} + \\frac{16 \\pi^{2} C_{30}^{2} \\alpha_{0}^{4}}{21} - \\frac{2 C_{30} C_{32} \\alpha_{0}^{6}}{25} - \\frac{2 C_{30} C_{34} \\alpha_{0}^{6}}{25} + \\frac{C_{32}^{2} \\alpha_{0}^{8}}{54} + \\frac{179 C_{32}^{2} \\alpha_{0}^{6}}{2100} + \\frac{2 \\pi^{2} C_{32}^{2} \\alpha_{0}^{6}}{27} + \\frac{8 \\pi^{2} C_{32}^{2} \\alpha_{0}^{4}}{21} - \\frac{C_{32} C_{34} \\alpha_{0}^{6}}{50} + \\frac{2 C_{34}^{2} \\alpha_{0}^{8}}{27} + \\frac{179 C_{34}^{2} \\alpha_{0}^{6}}{2100} + \\frac{8 \\pi^{2} C_{34}^{2} \\alpha_{0}^{6}}{27} + \\frac{8 \\pi^{2} C_{34}^{2} \\alpha_{0}^{4}}{21}$"
      ],
      "text/plain": [
       "16*pi**2*C_10**2/9 - 4*C_10*C_12*alpha_0**2/9 - 2*C_10*C_21*alpha_0**3/9 - 2*C_10*C_23*alpha_0**3/9 + 32*pi**2*C_10*C_30*alpha_0**2/15 - 2*C_10*C_32*alpha_0**4/15 - 2*C_10*C_34*alpha_0**4/15 + 2*C_12**2*alpha_0**4/15 + C_12**2*alpha_0**2/9 + 8*pi**2*C_12**2*alpha_0**2/15 + 8*pi**2*C_12**2/9 - C_12*C_21*alpha_0**3/9 - C_12*C_23*alpha_0**3/9 - 4*C_12*C_30*alpha_0**4/15 + 2*C_12*C_32*alpha_0**6/21 + C_12*C_32*alpha_0**4/5 + 8*pi**2*C_12*C_32*alpha_0**4/21 + 16*pi**2*C_12*C_32*alpha_0**2/15 - C_12*C_34*alpha_0**4/15 + 2*C_21**2*alpha_0**6/189 + 19*C_21**2*alpha_0**4/180 + 8*pi**2*C_21**2*alpha_0**4/189 + 8*pi**2*C_21**2*alpha_0**2/15 - C_21*C_23*alpha_0**4/18 - 2*C_21*C_30*alpha_0**5/15 - C_21*C_32*alpha_0**5/30 - C_21*C_34*alpha_0**5/30 + 2*C_23**2*alpha_0**6/21 + 19*C_23**2*alpha_0**4/180 + 8*pi**2*C_23**2*alpha_0**4/21 + 8*pi**2*C_23**2*alpha_0**2/15 - 2*C_23*C_30*alpha_0**5/15 - C_23*C_32*alpha_0**5/30 - C_23*C_34*alpha_0**5/30 + 16*C_30**2*alpha_0**6/525 + 16*pi**2*C_30**2*alpha_0**4/21 - 2*C_30*C_32*alpha_0**6/25 - 2*C_30*C_34*alpha_0**6/25 + C_32**2*alpha_0**8/54 + 179*C_32**2*alpha_0**6/2100 + 2*pi**2*C_32**2*alpha_0**6/27 + 8*pi**2*C_32**2*alpha_0**4/21 - C_32*C_34*alpha_0**6/50 + 2*C_34**2*alpha_0**8/27 + 179*C_34**2*alpha_0**6/2100 + 8*pi**2*C_34**2*alpha_0**6/27 + 8*pi**2*C_34**2*alpha_0**4/21"
      ]
     },
     "execution_count": 224,
     "metadata": {},
     "output_type": "execute_result"
    }
   ],
   "source": [
    "emit = emit1*emit2 - emit3*emit3\n",
    "sym.expand(emit)"
   ]
  },
  {
   "cell_type": "code",
   "execution_count": 229,
   "id": "infinite-scheduling",
   "metadata": {
    "scrolled": true
   },
   "outputs": [
    {
     "data": {
      "text/latex": [
       "$\\displaystyle \\pi$"
      ],
      "text/plain": [
       "pi"
      ]
     },
     "execution_count": 229,
     "metadata": {},
     "output_type": "execute_result"
    }
   ],
   "source": [
    "sym.integrate(sym.cos(3*x) * sym.cos(3*x), (x, 0, sym.pi * 2))"
   ]
  },
  {
   "cell_type": "code",
   "execution_count": 226,
   "id": "composed-astronomy",
   "metadata": {},
   "outputs": [
    {
     "data": {
      "text/latex": [
       "$\\displaystyle C_{10}$"
      ],
      "text/plain": [
       "C_10"
      ]
     },
     "execution_count": 226,
     "metadata": {},
     "output_type": "execute_result"
    }
   ],
   "source": [
    "C[0][0]"
   ]
  },
  {
   "cell_type": "code",
   "execution_count": 227,
   "id": "material-conference",
   "metadata": {},
   "outputs": [
    {
     "data": {
      "text/latex": [
       "$\\displaystyle - \\frac{4 \\alpha_{0} \\left(\\frac{\\alpha_{0}^{3} \\left(4 C_{30} + C_{32} + C_{34}\\right)}{10} + \\frac{\\alpha_{0}^{2} \\left(C_{21} + C_{23}\\right)}{6} + \\frac{\\alpha_{0} \\left(2 C_{10} + C_{12}\\right)}{3}\\right)}{3} + \\left(\\frac{2 \\alpha_{0}}{3} + \\frac{8 \\pi^{2}}{3 \\alpha_{0}}\\right) \\left(\\frac{4 C_{10} \\alpha_{0}}{3} + \\frac{4 C_{30} \\alpha_{0}^{3}}{5}\\right)$"
      ],
      "text/plain": [
       "-4*alpha_0*(alpha_0**3*(4*C_30 + C_32 + C_34)/10 + alpha_0**2*(C_21 + C_23)/6 + alpha_0*(2*C_10 + C_12)/3)/3 + (2*alpha_0/3 + 8*pi**2/(3*alpha_0))*(4*C_10*alpha_0/3 + 4*C_30*alpha_0**3/5)"
      ]
     },
     "execution_count": 227,
     "metadata": {},
     "output_type": "execute_result"
    }
   ],
   "source": [
    "sym.diff(emit,C[0][0])"
   ]
  },
  {
   "cell_type": "code",
   "execution_count": null,
   "id": "convinced-reader",
   "metadata": {},
   "outputs": [],
   "source": []
  }
 ],
 "metadata": {
  "kernelspec": {
   "display_name": "Python 3",
   "language": "python",
   "name": "python3"
  },
  "language_info": {
   "codemirror_mode": {
    "name": "ipython",
    "version": 3
   },
   "file_extension": ".py",
   "mimetype": "text/x-python",
   "name": "python",
   "nbconvert_exporter": "python",
   "pygments_lexer": "ipython3",
   "version": "3.7.3"
  }
 },
 "nbformat": 4,
 "nbformat_minor": 5
}
